{
 "cells": [
  {
   "cell_type": "markdown",
   "id": "e6e09b56",
   "metadata": {},
   "source": [
    "### 기본 Library 선언 및 Tensorflow 버전 확인"
   ]
  },
  {
   "cell_type": "code",
   "execution_count": 13,
   "id": "4acf9ecb",
   "metadata": {},
   "outputs": [],
   "source": [
    "import tensorflow as tf\n",
    "import numpy as np\n",
    "\n",
    "tf.executing_eagerly()\n",
    "tf.random.set_seed(777)"
   ]
  },
  {
   "cell_type": "markdown",
   "id": "c73dfb11",
   "metadata": {},
   "source": [
    "#### dataset 생성"
   ]
  },
  {
   "cell_type": "code",
   "execution_count": 14,
   "id": "8a002462",
   "metadata": {},
   "outputs": [],
   "source": [
    "x_data = [[1, 2, 1, 1],\n",
    "          [2, 1, 3, 2],\n",
    "          [3, 1, 3, 4],\n",
    "          [4, 1, 5, 5],\n",
    "          [1, 7, 5, 5],\n",
    "          [1, 2, 5, 6],\n",
    "          [1, 6, 6, 6],\n",
    "          [1, 7, 7, 7]]\n",
    "y_data = [[0, 0, 1],\n",
    "          [0, 0, 1],\n",
    "          [0, 0, 1],\n",
    "          [0, 1, 0],\n",
    "          [0, 1, 0],\n",
    "          [0, 1, 0],\n",
    "          [1, 0, 0],\n",
    "          [1, 0, 0]]\n",
    "\n",
    "# numpy float format으로 변경\n",
    "x_data = np.asarray(x_data, dtype=np.float32)\n",
    "y_data = np.asarray(y_data, dtype=np.float32)"
   ]
  },
  {
   "cell_type": "code",
   "execution_count": 15,
   "id": "3e1bb49d",
   "metadata": {},
   "outputs": [
    {
     "name": "stdout",
     "output_type": "stream",
     "text": [
      "(8, 4)\n",
      "(8, 3)\n"
     ]
    }
   ],
   "source": [
    "nb_classes = 3\n",
    "\n",
    "print(x_data.shape)\n",
    "print(y_data.shape)"
   ]
  },
  {
   "cell_type": "markdown",
   "id": "59c61650",
   "metadata": {},
   "source": [
    "#### weight & bias setting"
   ]
  },
  {
   "cell_type": "code",
   "execution_count": 16,
   "id": "fa3be6a8",
   "metadata": {},
   "outputs": [
    {
     "name": "stdout",
     "output_type": "stream",
     "text": [
      "<tf.Variable 'weight:0' shape=(4, 3) dtype=float32, numpy=\n",
      "array([[ 0.7706481 ,  0.37335405, -0.05576323],\n",
      "       [ 0.00358377, -0.5898363 ,  1.5702795 ],\n",
      "       [ 0.2460895 , -0.09918973,  1.4418386 ],\n",
      "       [ 0.32009882,  0.52678406, -0.7703731 ]], dtype=float32)> <tf.Variable 'bias:0' shape=(3,) dtype=float32, numpy=array([-1.3080608 , -0.13253094,  0.5513761 ], dtype=float32)>\n"
     ]
    }
   ],
   "source": [
    "W = tf.Variable(tf.random.normal([4, nb_classes]), name=\"weight\")\n",
    "b = tf.Variable(tf.random.normal([nb_classes]), name=\"bias\")\n",
    "variables = [W, b]\n",
    "\n",
    "print(W, b)"
   ]
  },
  {
   "cell_type": "markdown",
   "id": "8a8b599a",
   "metadata": {},
   "source": [
    "#### tf.nn.sofrmax는 softmax activations를 계산해 줌\n",
    "- softmax = exp(logits) / reduce_sum(exp(logits), dim)"
   ]
  },
  {
   "cell_type": "code",
   "execution_count": 17,
   "id": "27d39b62",
   "metadata": {},
   "outputs": [
    {
     "name": "stdout",
     "output_type": "stream",
     "text": [
      "tf.Tensor(\n",
      "[[1.3657196e-02 7.9016229e-03 9.7844124e-01]\n",
      " [3.9259776e-02 1.7034741e-02 9.4370544e-01]\n",
      " [3.8038525e-01 1.6772319e-01 4.5189154e-01]\n",
      " [3.2339042e-01 5.9075966e-02 6.1753356e-01]\n",
      " [3.6299741e-06 6.2072729e-08 9.9999630e-01]\n",
      " [2.6252022e-02 1.0727968e-02 9.6301997e-01]\n",
      " [1.5652511e-05 4.2180275e-07 9.9998391e-01]\n",
      " [2.9407718e-06 3.8113328e-08 9.9999702e-01]], shape=(8, 3), dtype=float32)\n"
     ]
    }
   ],
   "source": [
    "def hypothesis(X):\n",
    "    return tf.nn.softmax(tf.matmul(X, W) + b)\n",
    "\n",
    "print(hypothesis(x_data))"
   ]
  },
  {
   "cell_type": "markdown",
   "id": "95550730",
   "metadata": {},
   "source": [
    "#### Softmax onehot test"
   ]
  },
  {
   "cell_type": "code",
   "execution_count": 18,
   "id": "15a71732",
   "metadata": {},
   "outputs": [
    {
     "name": "stdout",
     "output_type": "stream",
     "text": [
      "tf.Tensor([[0.9302204  0.06200534 0.00777428]], shape=(1, 3), dtype=float32)\n"
     ]
    }
   ],
   "source": [
    "sample_db = [[8, 2, 1, 4]]\n",
    "sample_db = np.asarray(sample_db, dtype=np.float32)\n",
    "\n",
    "print(hypothesis(sample_db))"
   ]
  },
  {
   "cell_type": "code",
   "execution_count": 19,
   "id": "ff8ca3ae",
   "metadata": {},
   "outputs": [
    {
     "name": "stdout",
     "output_type": "stream",
     "text": [
      "tf.Tensor(6.07932, shape=(), dtype=float32)\n"
     ]
    }
   ],
   "source": [
    "def cost_function(X, Y):\n",
    "    logits = hypothesis(X)\n",
    "    cost = -tf.reduce_sum(Y * tf.math.log(logits), axis=1)\n",
    "    cost_mean = tf.reduce_mean(cost)\n",
    "    return cost_mean\n",
    "\n",
    "print(cost_function(x_data, y_data))"
   ]
  },
  {
   "cell_type": "code",
   "execution_count": 20,
   "id": "861e85de",
   "metadata": {},
   "outputs": [
    {
     "name": "stdout",
     "output_type": "stream",
     "text": [
      "tf.Tensor(6.0, shape=(), dtype=float32)\n"
     ]
    }
   ],
   "source": [
    "# gradient 예시\n",
    "x = tf.constant(3.0)\n",
    "with tf.GradientTape() as g:\n",
    "    g.watch(x)\n",
    "    y = x * x\n",
    "dy_dx = g.gradient(y, x)\n",
    "print(dy_dx)"
   ]
  },
  {
   "cell_type": "code",
   "execution_count": 21,
   "id": "c033b9ea",
   "metadata": {},
   "outputs": [
    {
     "name": "stdout",
     "output_type": "stream",
     "text": [
      "[<tf.Tensor: shape=(4, 3), dtype=float32, numpy=\n",
      "array([[ 0.06914605, -0.6509783 ,  0.58183223],\n",
      "       [-1.5221257 , -1.214863  ,  2.7369888 ],\n",
      "       [-1.2473829 , -1.7611002 ,  3.008483  ],\n",
      "       [-1.2014606 , -1.865923  ,  3.0673838 ]], dtype=float32)>, <tf.Tensor: shape=(3,), dtype=float32, numpy=array([-0.15212913, -0.342192  ,  0.4943211 ], dtype=float32)>]\n"
     ]
    }
   ],
   "source": [
    "def gradient_function(X, Y):\n",
    "    with tf.GradientTape() as tape:\n",
    "        loss = cost_function(X, Y)\n",
    "        grads = tape.gradient(loss, variables)\n",
    "        return grads\n",
    "\n",
    "print(gradient_function(x_data, y_data))"
   ]
  },
  {
   "cell_type": "code",
   "execution_count": 24,
   "id": "eefbc924",
   "metadata": {},
   "outputs": [
    {
     "name": "stdout",
     "output_type": "stream",
     "text": [
      "Loss at epoch 1: 2.849416732788086\n",
      "Loss at epoch 100: 0.6841506958007812\n",
      "Loss at epoch 200: 0.6138125658035278\n",
      "Loss at epoch 300: 0.5582041144371033\n",
      "Loss at epoch 400: 0.5083054900169373\n",
      "Loss at epoch 500: 0.46105873584747314\n",
      "Loss at epoch 600: 0.4150715470314026\n",
      "Loss at epoch 700: 0.3696357309818268\n",
      "Loss at epoch 800: 0.32453322410583496\n",
      "Loss at epoch 900: 0.2807207405567169\n",
      "Loss at epoch 1000: 0.24675193428993225\n",
      "Loss at epoch 1100: 0.23279790580272675\n",
      "Loss at epoch 1200: 0.22164484858512878\n",
      "Loss at epoch 1300: 0.21147581934928894\n",
      "Loss at epoch 1400: 0.20216412842273712\n",
      "Loss at epoch 1500: 0.19360587000846863\n",
      "Loss at epoch 1600: 0.1857142448425293\n",
      "Loss at epoch 1700: 0.178414985537529\n",
      "Loss at epoch 1800: 0.17164531350135803\n",
      "Loss at epoch 1900: 0.1653505563735962\n",
      "Loss at epoch 2000: 0.15948331356048584\n"
     ]
    }
   ],
   "source": [
    "def fit(X, Y, epochs=2000, verbose=100):\n",
    "    optimizer = tf.compat.v1.train.GradientDescentOptimizer(learning_rate=0.1)\n",
    "    \n",
    "    for i in range(epochs):\n",
    "        grads = gradient_function(X, Y)\n",
    "        optimizer.apply_gradients(zip(grads, variables))\n",
    "        if(i == 0) | ((i+1)%verbose == 0):\n",
    "            print(\"Loss at epoch {}: {}\".format(i+1, cost_function(X, Y).numpy()))\n",
    "\n",
    "fit(x_data, y_data)"
   ]
  },
  {
   "cell_type": "markdown",
   "id": "a0b6a876",
   "metadata": {},
   "source": [
    "#### Prediction Check"
   ]
  },
  {
   "cell_type": "code",
   "execution_count": 25,
   "id": "ca453598",
   "metadata": {},
   "outputs": [
    {
     "name": "stdout",
     "output_type": "stream",
     "text": [
      "tf.Tensor([[0.00112886 0.08154671 0.9173244 ]], shape=(1, 3), dtype=float32)\n",
      "tf.Tensor([2], shape=(1,), dtype=int64)\n"
     ]
    }
   ],
   "source": [
    "sample_data = [[2, 1, 3, 2]]  # answer_label [[0, 0, 1]]\n",
    "sample_data = np.asarray(sample_data, dtype=np.float32)\n",
    "\n",
    "a = hypothesis(sample_data)\n",
    "\n",
    "print(a)\n",
    "print(tf.argmax(a, 1))"
   ]
  },
  {
   "cell_type": "code",
   "execution_count": 26,
   "id": "376dde00",
   "metadata": {},
   "outputs": [
    {
     "name": "stdout",
     "output_type": "stream",
     "text": [
      "tf.Tensor(\n",
      "[[2.1975995e-06 1.2331192e-03 9.9876475e-01]\n",
      " [1.1288594e-03 8.1546709e-02 9.1732442e-01]\n",
      " [2.2205620e-07 1.6418636e-01 8.3581340e-01]\n",
      " [6.3921939e-06 8.5045445e-01 1.4953916e-01]\n",
      " [2.6150808e-01 7.2644734e-01 1.2044535e-02]\n",
      " [1.3783258e-01 8.6213994e-01 2.7417658e-05]\n",
      " [7.4242127e-01 2.5754175e-01 3.6978578e-05]\n",
      " [9.2197549e-01 7.8023911e-02 6.0005920e-07]], shape=(8, 3), dtype=float32)\n",
      "tf.Tensor([2 2 2 1 1 1 0 0], shape=(8,), dtype=int64)\n",
      "tf.Tensor([2 2 2 1 1 1 0 0], shape=(8,), dtype=int64)\n"
     ]
    }
   ],
   "source": [
    "b = hypothesis(x_data)\n",
    "print(b)\n",
    "print(tf.argmax(b, 1))\n",
    "print(tf.argmax(y_data, 1))"
   ]
  },
  {
   "cell_type": "code",
   "execution_count": null,
   "id": "c24569ad",
   "metadata": {},
   "outputs": [],
   "source": []
  }
 ],
 "metadata": {
  "kernelspec": {
   "display_name": "Python 3 (ipykernel)",
   "language": "python",
   "name": "python3"
  },
  "language_info": {
   "codemirror_mode": {
    "name": "ipython",
    "version": 3
   },
   "file_extension": ".py",
   "mimetype": "text/x-python",
   "name": "python",
   "nbconvert_exporter": "python",
   "pygments_lexer": "ipython3",
   "version": "3.9.12"
  }
 },
 "nbformat": 4,
 "nbformat_minor": 5
}
