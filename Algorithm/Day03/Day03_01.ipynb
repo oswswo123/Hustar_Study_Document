{
 "cells": [
  {
   "cell_type": "code",
   "execution_count": 7,
   "id": "6da50961-30d7-4d12-94e9-24400e86fa94",
   "metadata": {},
   "outputs": [
    {
     "name": "stdin",
     "output_type": "stream",
     "text": [
      " 2\n",
      " 4 6\n",
      " 0 1 3\n",
      " 0 3 7\n",
      " 1 2 2\n",
      " 1 3 5\n",
      " 2 0 3\n",
      " 3 2 3\n"
     ]
    },
    {
     "name": "stdout",
     "output_type": "stream",
     "text": [
      "0 3 0 7\n",
      "0 0 2 5\n",
      "3 0 0 0\n",
      "0 0 3 0\n"
     ]
    },
    {
     "name": "stdin",
     "output_type": "stream",
     "text": [
      " 5 10\n",
      " 0 1 1\n",
      " 0 2 1\n",
      " 0 4 1\n",
      " 1 0 1\n",
      " 1 3 2\n",
      " 1 4 1\n",
      " 2 4 1\n",
      " 3 4 1\n",
      " 4 1 1\n",
      " 4 2 2\n"
     ]
    },
    {
     "name": "stdout",
     "output_type": "stream",
     "text": [
      "0 1 1 0 1\n",
      "1 0 0 2 1\n",
      "0 0 0 0 1\n",
      "0 0 0 0 1\n",
      "0 1 2 0 0\n"
     ]
    }
   ],
   "source": [
    "# 01. 인접 행렬 (adjacency matrix) 구현하기\n",
    "\n",
    "class AdjacencyMatrix:\n",
    "    def __init__(self, num_vertex, num_edge):\n",
    "        self.num_vertex = num_vertex\n",
    "        self.num_edge = num_edge\n",
    "        self.adjacency_matrix = list()\n",
    "        for _ in range(self.num_vertex):\n",
    "            temp_list = list()\n",
    "            for _ in range(self.num_vertex):\n",
    "                temp_list.append(0)\n",
    "            self.adjacency_matrix.append(temp_list)\n",
    "    \n",
    "    def add_edge(self, start_vertex, end_vertex, weight):\n",
    "        self.adjacency_matrix[start_vertex][end_vertex] = weight\n",
    "    \n",
    "    def matrix_display(self):\n",
    "        for row_idx in range(self.num_vertex):\n",
    "            print(*self.adjacency_matrix[row_idx])\n",
    "\n",
    "num_of_testcase = int(input())\n",
    "for _ in range(num_of_testcase):\n",
    "    num_vertex, num_edge = tuple(map(int, input().split()))\n",
    "    temp_adjacency_matrix = AdjacencyMatrix(num_vertex, num_edge)\n",
    "    \n",
    "    for _ in range(num_edge):\n",
    "        start_vertex, end_vertex, weight = tuple(map(int, input().split()))\n",
    "        temp_adjacency_matrix.add_edge(start_vertex, end_vertex, weight)\n",
    "    \n",
    "    temp_adjacency_matrix.matrix_display()\n",
    "        "
   ]
  },
  {
   "cell_type": "code",
   "execution_count": null,
   "id": "35aa5c1a-f64b-4b90-8a4c-6434ed0921eb",
   "metadata": {},
   "outputs": [],
   "source": []
  }
 ],
 "metadata": {
  "kernelspec": {
   "display_name": "Python 3 (ipykernel)",
   "language": "python",
   "name": "python3"
  },
  "language_info": {
   "codemirror_mode": {
    "name": "ipython",
    "version": 3
   },
   "file_extension": ".py",
   "mimetype": "text/x-python",
   "name": "python",
   "nbconvert_exporter": "python",
   "pygments_lexer": "ipython3",
   "version": "3.7.13"
  }
 },
 "nbformat": 4,
 "nbformat_minor": 5
}
