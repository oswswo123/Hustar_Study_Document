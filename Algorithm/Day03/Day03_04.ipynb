{
 "cells": [
  {
   "cell_type": "code",
   "execution_count": 4,
   "id": "075400c0-a6bc-4fdd-aef4-a840e1b3c25e",
   "metadata": {},
   "outputs": [
    {
     "name": "stdin",
     "output_type": "stream",
     "text": [
      " 3\n",
      " 4 4\n",
      " 0 1\n",
      " 0 3\n",
      " 1 2\n",
      " 1 3\n"
     ]
    },
    {
     "name": "stdout",
     "output_type": "stream",
     "text": [
      "0 1 2 3\n"
     ]
    },
    {
     "name": "stdin",
     "output_type": "stream",
     "text": [
      " 5 7\n",
      " 0 1\n",
      " 0 2\n",
      " 0 4\n",
      " 1 3\n",
      " 1 4\n",
      " 2 4\n",
      " 3 4\n"
     ]
    },
    {
     "name": "stdout",
     "output_type": "stream",
     "text": [
      "0 1 3 4 2\n"
     ]
    },
    {
     "name": "stdin",
     "output_type": "stream",
     "text": [
      " 6 5\n",
      " 0 5\n",
      " 5 4\n",
      " 1 4\n",
      " 1 3\n",
      " 2 3\n"
     ]
    },
    {
     "name": "stdout",
     "output_type": "stream",
     "text": [
      "0 5 4 1 3 2\n"
     ]
    }
   ],
   "source": [
    "# 04. BFS (무방향 그래프)\n",
    "\n",
    "import collections\n",
    "import sys\n",
    "sys.setrecursionlimit(1000000)\n",
    "\n",
    "class AdjacencyList:\n",
    "    def __init__(self, num_vertex, num_edge):\n",
    "        self.num_vertex = num_vertex\n",
    "        self.num_edge = num_edge\n",
    "        self.adjacency_list = [list() for _ in range(self.num_vertex)]\n",
    "    \n",
    "    def add_edge(self, first_vertex, second_vertex):\n",
    "        self.adjacency_list[first_vertex].append(second_vertex)\n",
    "        self.adjacency_list[second_vertex].append(first_vertex)\n",
    "    \n",
    "    def list_sorting(self):\n",
    "        for row_idx in range(self.num_vertex):\n",
    "            self.adjacency_list[row_idx] = sorted(self.adjacency_list[row_idx])\n",
    "    \n",
    "    def list_display(self):\n",
    "        for row_idx in range(self.num_vertex):\n",
    "            print(*self.adjacency_list[row_idx])\n",
    "    \n",
    "    def bfs(self, start_vertex):\n",
    "        INF = 999999\n",
    "        queue = collections.deque(list())\n",
    "        self.output_list = list()\n",
    "        \n",
    "        dist_list = [INF for _ in range(self.num_vertex)]\n",
    "        dist_list[start_vertex] = 0\n",
    "        queue.append(start_vertex)\n",
    "        while bool(queue):\n",
    "            now_visit = queue.popleft()\n",
    "            self.output_list.append(now_visit)\n",
    "            for adjacency_vertex in self.adjacency_list[now_visit]:\n",
    "                if dist_list[adjacency_vertex] == INF:\n",
    "                    queue.append(adjacency_vertex)\n",
    "                    dist_list[adjacency_vertex] = dist_list[now_visit] + 1        \n",
    "        print(*self.output_list)\n",
    "    \n",
    "    def dfs(self):\n",
    "        self.visited_list = [False for _ in range(self.num_vertex)]\n",
    "        self.output_list = list()\n",
    "        for now_vertex in range(self.num_vertex):\n",
    "            if self.visited_list[now_vertex] == False:\n",
    "                self.explore(now_vertex)\n",
    "        print(*self.output_list)\n",
    "    \n",
    "    def explore(self, vertex):\n",
    "        self.visited_list[vertex] = True\n",
    "        self.output_list.append(vertex)\n",
    "        for adjacency_vertex in self.adjacency_list[vertex]:\n",
    "            if self.visited_list[adjacency_vertex] == False:\n",
    "                self.explore(adjacency_vertex)\n",
    "        \n",
    "def main():\n",
    "    num_of_testcase = int(input())\n",
    "    for _ in range(num_of_testcase):\n",
    "        num_vertex, num_edge = tuple(map(int, input().split()))\n",
    "        temp_adjacency_list = AdjacencyList(num_vertex, num_edge)\n",
    "    \n",
    "        for _ in range(num_edge):\n",
    "            first_vertex, second_vertex = tuple(map(int, input().split()))\n",
    "            temp_adjacency_list.add_edge(first_vertex, second_vertex)\n",
    "\n",
    "        temp_adjacency_list.list_sorting()\n",
    "        temp_adjacency_list.dfs()\n",
    "\n",
    "if __name__ == \"__main__\":\n",
    "    main()"
   ]
  },
  {
   "cell_type": "code",
   "execution_count": null,
   "id": "b9d84d9c-6e2b-4e64-bdc3-94637c503683",
   "metadata": {},
   "outputs": [],
   "source": []
  }
 ],
 "metadata": {
  "kernelspec": {
   "display_name": "Python 3 (ipykernel)",
   "language": "python",
   "name": "python3"
  },
  "language_info": {
   "codemirror_mode": {
    "name": "ipython",
    "version": 3
   },
   "file_extension": ".py",
   "mimetype": "text/x-python",
   "name": "python",
   "nbconvert_exporter": "python",
   "pygments_lexer": "ipython3",
   "version": "3.7.13"
  }
 },
 "nbformat": 4,
 "nbformat_minor": 5
}
