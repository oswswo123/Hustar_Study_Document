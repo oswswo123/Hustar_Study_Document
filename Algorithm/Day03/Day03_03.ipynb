{
 "cells": [
  {
   "cell_type": "code",
   "execution_count": 14,
   "id": "0516118b-b1da-4ac6-a980-565016bfcce1",
   "metadata": {},
   "outputs": [
    {
     "name": "stdin",
     "output_type": "stream",
     "text": [
      " 3\n",
      " 4 4\n",
      " 0 1\n",
      " 0 3\n",
      " 1 2\n",
      " 1 3\n"
     ]
    },
    {
     "name": "stdout",
     "output_type": "stream",
     "text": [
      "0 1 3 2\n"
     ]
    },
    {
     "name": "stdin",
     "output_type": "stream",
     "text": [
      " 5 7\n",
      " 0 1\n",
      " 0 2\n",
      " 0 4\n",
      " 1 3\n",
      " 1 4\n",
      " 2 4\n",
      " 3 4\n"
     ]
    },
    {
     "name": "stdout",
     "output_type": "stream",
     "text": [
      "0 1 2 4 3\n"
     ]
    },
    {
     "name": "stdin",
     "output_type": "stream",
     "text": [
      " 6 5\n",
      " 0 5\n",
      " 5 4\n",
      " 1 4\n",
      " 1 3\n",
      " 2 3\n"
     ]
    },
    {
     "name": "stdout",
     "output_type": "stream",
     "text": [
      "0 5 4\n"
     ]
    }
   ],
   "source": [
    "# 03. BFS (방향성 그래프)\n",
    "\n",
    "import collections\n",
    "\n",
    "class AdjacencyList:\n",
    "    def __init__(self, num_vertex, num_edge):\n",
    "        self.num_vertex = num_vertex\n",
    "        self.num_edge = num_edge\n",
    "        self.adjacency_list = [list() for _ in range(self.num_vertex)]\n",
    "    \n",
    "    def add_edge(self, first_vertex, second_vertex):\n",
    "        self.adjacency_list[first_vertex].append(second_vertex)\n",
    "    \n",
    "    def list_sorting(self):\n",
    "        for row_idx in range(self.num_vertex):\n",
    "            self.adjacency_list[row_idx] = sorted(self.adjacency_list[row_idx])\n",
    "    \n",
    "    def list_display(self):\n",
    "        for row_idx in range(self.num_vertex):\n",
    "            print(*self.adjacency_list[row_idx])\n",
    "    \n",
    "    def bfs(self, start_vertex):\n",
    "        INF = 999999\n",
    "        queue = collections.deque(list())\n",
    "        output_list = list()\n",
    "        \n",
    "        dist_list = [INF for _ in range(self.num_vertex)]\n",
    "        dist_list[start_vertex] = 0\n",
    "        queue.append(start_vertex)\n",
    "        while bool(queue):\n",
    "            now_visit = queue.popleft()\n",
    "            output_list.append(now_visit)\n",
    "            for adjacency_vertex in self.adjacency_list[now_visit]:\n",
    "                if dist_list[adjacency_vertex] == INF:\n",
    "                    queue.append(adjacency_vertex)\n",
    "                    dist_list[adjacency_vertex] = dist_list[now_visit] + 1        \n",
    "        print(*output_list)\n",
    "        \n",
    "        \n",
    "def main():\n",
    "    num_of_testcase = int(input())\n",
    "    for _ in range(num_of_testcase):\n",
    "        num_vertex, num_edge = tuple(map(int, input().split()))\n",
    "        temp_adjacency_list = AdjacencyList(num_vertex, num_edge)\n",
    "    \n",
    "        for _ in range(num_edge):\n",
    "            first_vertex, second_vertex = tuple(map(int, input().split()))\n",
    "            temp_adjacency_list.add_edge(first_vertex, second_vertex)\n",
    "\n",
    "        temp_adjacency_list.list_sorting()\n",
    "        temp_adjacency_list.bfs(0)\n",
    "\n",
    "if __name__ == \"__main__\":\n",
    "    main()"
   ]
  },
  {
   "cell_type": "code",
   "execution_count": null,
   "id": "fd43bfac-7e8c-4adf-b74a-0c584daba8ce",
   "metadata": {},
   "outputs": [],
   "source": []
  }
 ],
 "metadata": {
  "kernelspec": {
   "display_name": "Python 3 (ipykernel)",
   "language": "python",
   "name": "python3"
  },
  "language_info": {
   "codemirror_mode": {
    "name": "ipython",
    "version": 3
   },
   "file_extension": ".py",
   "mimetype": "text/x-python",
   "name": "python",
   "nbconvert_exporter": "python",
   "pygments_lexer": "ipython3",
   "version": "3.7.13"
  }
 },
 "nbformat": 4,
 "nbformat_minor": 5
}
