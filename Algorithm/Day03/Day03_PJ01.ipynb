{
 "cells": [
  {
   "cell_type": "code",
   "execution_count": 37,
   "id": "87811401-024d-47a5-b603-2eac93fbe834",
   "metadata": {},
   "outputs": [
    {
     "name": "stdin",
     "output_type": "stream",
     "text": [
      " 3\n",
      " 4 4\n",
      " 0 1 3\n",
      " 0 2 4\n",
      " 2 1 2\n",
      " 1 3 1\n"
     ]
    },
    {
     "name": "stdout",
     "output_type": "stream",
     "text": [
      "4\n"
     ]
    },
    {
     "name": "stdin",
     "output_type": "stream",
     "text": [
      " 4 4\n",
      " 0 1 1\n",
      " 2 0 3\n",
      " 1 2 5\n",
      " 3 1 4\n"
     ]
    },
    {
     "name": "stdout",
     "output_type": "stream",
     "text": [
      "-1\n"
     ]
    },
    {
     "name": "stdin",
     "output_type": "stream",
     "text": [
      " 6 12\n",
      " 0 1 7\n",
      " 1 2 3\n",
      " 2 0 1\n",
      " 0 3 4\n",
      " 2 3 5\n",
      " 3 2 1\n",
      " 3 4 8\n",
      " 4 3 1\n",
      " 2 4 2\n",
      " 1 4 4\n",
      " 4 5 2\n",
      " 3 5 9\n"
     ]
    },
    {
     "name": "stdout",
     "output_type": "stream",
     "text": [
      "9\n"
     ]
    }
   ],
   "source": [
    "# Day 03 - PJ 01. 최단 경로 구하기 (Dijkstra)\n",
    "\n",
    "import collections\n",
    "import heapq\n",
    "\n",
    "INF = 999999\n",
    "\n",
    "class AdjacencyList:\n",
    "    global INF\n",
    "    def __init__(self, num_vertex, num_edge):\n",
    "        self.num_vertex = num_vertex\n",
    "        self.num_edge = num_edge\n",
    "        self.adjacency_list = [list() for _ in range(self.num_vertex)]\n",
    "    \n",
    "    def add_edge(self, first_vertex, second_vertex, weight):\n",
    "        self.adjacency_list[first_vertex].append((weight, second_vertex))\n",
    "    \n",
    "    def list_sorting(self):\n",
    "        for row_idx in range(self.num_vertex):\n",
    "            self.adjacency_list[row_idx] = sorted(self.adjacency_list[row_idx], key=lambda x:x[0])\n",
    "    \n",
    "    def list_display(self):\n",
    "        for row_idx in range(self.num_vertex):\n",
    "            print(*self.adjacency_list[row_idx])\n",
    "    \n",
    "    def dijkstra(self, start_vertex):\n",
    "        self.distance_list = [INF for _ in range(self.num_vertex)]\n",
    "        self.prev_vertex = [None for _ in range(self.num_vertex)]\n",
    "        self.distance_list[start_vertex] = 0\n",
    "        \n",
    "        heap = list()        \n",
    "        for idx in range(self.num_vertex):\n",
    "            heapq.heappush(heap, (self.distance_list[idx], idx))\n",
    "        \n",
    "        while bool(heap):\n",
    "            now_distance, now_visit = heapq.heappop(heap)\n",
    "            for adj_distance, adjacency_vertex in self.adjacency_list[now_visit]:\n",
    "                if self.distance_list[adjacency_vertex] > self.distance_list[now_visit] + adj_distance:\n",
    "                    self.distance_list[adjacency_vertex] = self.distance_list[now_visit] + adj_distance\n",
    "                    self.prev_vertex[adjacency_vertex] = now_visit\n",
    "                    change_idx = [idx for idx, element in enumerate(heap) if element[1] == adjacency_vertex]\n",
    "                    heap[change_idx[0]] = (self.distance_list[adjacency_vertex], adjacency_vertex)\n",
    "                    heapq.heapify(heap)\n",
    "\n",
    "\n",
    "def main():\n",
    "    num_of_testcase = int(input())\n",
    "    for _ in range(num_of_testcase):\n",
    "        num_vertex, num_edge = tuple(map(int, input().split()))\n",
    "        temp_adjacency_list = AdjacencyList(num_vertex, num_edge)\n",
    "    \n",
    "        for _ in range(num_edge):\n",
    "            first_vertex, second_vertex, weight = tuple(map(int, input().split()))\n",
    "            temp_adjacency_list.add_edge(first_vertex, second_vertex, weight)\n",
    "\n",
    "        temp_adjacency_list.list_sorting()\n",
    "        temp_adjacency_list.dijkstra(0)\n",
    "        if temp_adjacency_list.distance_list[-1] == INF:\n",
    "            print(-1)\n",
    "        else:\n",
    "            print(temp_adjacency_list.distance_list[-1])\n",
    "\n",
    "if __name__ == \"__main__\":\n",
    "    main()"
   ]
  },
  {
   "cell_type": "code",
   "execution_count": 21,
   "id": "80566580-8eda-408b-a18e-07aca765175e",
   "metadata": {},
   "outputs": [
    {
     "name": "stdout",
     "output_type": "stream",
     "text": [
      "[0, 1, 2, 4, 3, 7, 9, 5]\n",
      "[0, 10, 2, 4, 3, 7, 9, 5]\n",
      "0\n",
      "2\n",
      "3\n",
      "4\n",
      "5\n",
      "7\n",
      "9\n",
      "10\n"
     ]
    }
   ],
   "source": [
    "aaa = list()\n",
    "\n",
    "heapq.heappush(aaa, 0)\n",
    "heapq.heappush(aaa, 1)\n",
    "heapq.heappush(aaa, 2)\n",
    "heapq.heappush(aaa, 5)\n",
    "heapq.heappush(aaa, 3)\n",
    "heapq.heappush(aaa, 7)\n",
    "heapq.heappush(aaa, 9)\n",
    "heapq.heappush(aaa, 4)\n",
    "\n",
    "print(aaa)\n",
    "aaa[1] = 10\n",
    "print(aaa)\n",
    "heapq.heapify(aaa)\n",
    "for _ in range(len(aaa)):\n",
    "    print(heapq.heappop(aaa))"
   ]
  },
  {
   "cell_type": "code",
   "execution_count": 27,
   "id": "30031620-bbd0-4b4c-a98e-9cbb70ce5747",
   "metadata": {},
   "outputs": [
    {
     "name": "stdout",
     "output_type": "stream",
     "text": [
      "[(1, 0), (2, 1), (3, 2)]\n",
      "[1]\n"
     ]
    }
   ],
   "source": [
    "a = [(1, 0), (2, 1), (3, 2)]\n",
    "print(a)\n",
    "b = [idx for idx, element in enumerate(a) if element[1] == 1]\n",
    "print(b)"
   ]
  },
  {
   "cell_type": "code",
   "execution_count": null,
   "id": "a4b12ce3-11dc-4e44-b13d-e1167ae33c59",
   "metadata": {},
   "outputs": [],
   "source": []
  }
 ],
 "metadata": {
  "kernelspec": {
   "display_name": "Python 3 (ipykernel)",
   "language": "python",
   "name": "python3"
  },
  "language_info": {
   "codemirror_mode": {
    "name": "ipython",
    "version": 3
   },
   "file_extension": ".py",
   "mimetype": "text/x-python",
   "name": "python",
   "nbconvert_exporter": "python",
   "pygments_lexer": "ipython3",
   "version": "3.7.13"
  }
 },
 "nbformat": 4,
 "nbformat_minor": 5
}
