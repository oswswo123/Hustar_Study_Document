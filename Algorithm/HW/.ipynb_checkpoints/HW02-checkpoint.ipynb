{
 "cells": [
  {
   "cell_type": "code",
   "execution_count": 7,
   "id": "30b21675-20c0-4806-b911-5cfed910fa5b",
   "metadata": {},
   "outputs": [
    {
     "name": "stdin",
     "output_type": "stream",
     "text": [
      " 7\n",
      " 1\n",
      " -13\n"
     ]
    },
    {
     "name": "stdout",
     "output_type": "stream",
     "text": [
      "-13\n"
     ]
    },
    {
     "name": "stdin",
     "output_type": "stream",
     "text": [
      " 2\n",
      " 3 -3\n"
     ]
    },
    {
     "name": "stdout",
     "output_type": "stream",
     "text": [
      "0\n"
     ]
    },
    {
     "name": "stdin",
     "output_type": "stream",
     "text": [
      " 2\n",
      " -4 -2\n"
     ]
    },
    {
     "name": "stdout",
     "output_type": "stream",
     "text": [
      "-2\n"
     ]
    },
    {
     "name": "stdin",
     "output_type": "stream",
     "text": [
      " 4\n",
      " 10 20 30 40\n"
     ]
    },
    {
     "name": "stdout",
     "output_type": "stream",
     "text": [
      "100\n"
     ]
    },
    {
     "name": "stdin",
     "output_type": "stream",
     "text": [
      " 8\n",
      " 3 5 -6 -1 -9 11 -12 10\n"
     ]
    },
    {
     "name": "stdout",
     "output_type": "stream",
     "text": [
      "29\n"
     ]
    },
    {
     "name": "stdin",
     "output_type": "stream",
     "text": [
      " 9\n",
      " 6 -3 9 -2 7 -1 -4 -2 4\n"
     ]
    },
    {
     "name": "stdout",
     "output_type": "stream",
     "text": [
      "23\n"
     ]
    },
    {
     "name": "stdin",
     "output_type": "stream",
     "text": [
      " 10\n",
      " 10 -1 10 -1 -1 -1 -1 -1 10 -1\n"
     ]
    },
    {
     "name": "stdout",
     "output_type": "stream",
     "text": [
      "29\n"
     ]
    }
   ],
   "source": [
    "# HW 02. 트리플로 가\n",
    "\n",
    "INF = -999999\n",
    "\n",
    "def go_triple(num_of_vertex, vertex_list):\n",
    "    my_point_list = [INF for _ in range(num_of_vertex+1)]\n",
    "    \n",
    "    for idx in range(num_of_vertex+1):\n",
    "        if idx <= 0:\n",
    "            my_point_list[0] = 0\n",
    "        elif idx <= 1:\n",
    "            my_point_list[idx] = my_point_list[idx-1] + vertex_list[idx]\n",
    "        elif idx <= 2:\n",
    "            my_point_list[idx] = max(my_point_list[idx-1] + vertex_list[idx] \\\n",
    "                                     , my_point_list[idx-2] + vertex_list[idx])\n",
    "        else:\n",
    "            if idx % 3 == 0:\n",
    "                my_point_list[idx] = max(my_point_list[idx-1] + vertex_list[idx] \\\n",
    "                                         , my_point_list[idx-2] + vertex_list[idx] \\\n",
    "                                         , my_point_list[idx//3] + vertex_list[idx])\n",
    "            else:\n",
    "                my_point_list[idx] = max(my_point_list[idx-1] + vertex_list[idx] \\\n",
    "                                         , my_point_list[idx-2] + vertex_list[idx])            \n",
    "    print(my_point_list[-1])\n",
    "\n",
    "def main():\n",
    "    num_of_testcase = int(input())\n",
    "    for _ in range(num_of_testcase):\n",
    "        num_of_vertex = int(input())\n",
    "        vertex_list = list(map(int, input().split()))\n",
    "        vertex_list.insert(0, 0)\n",
    "        go_triple(num_of_vertex, vertex_list)\n",
    "\n",
    "if __name__ == \"__main__\":\n",
    "    main()"
   ]
  },
  {
   "cell_type": "code",
   "execution_count": null,
   "id": "455835a8-d6dd-409e-bbf5-174865a2b5d4",
   "metadata": {},
   "outputs": [],
   "source": []
  }
 ],
 "metadata": {
  "kernelspec": {
   "display_name": "Python 3 (ipykernel)",
   "language": "python",
   "name": "python3"
  },
  "language_info": {
   "codemirror_mode": {
    "name": "ipython",
    "version": 3
   },
   "file_extension": ".py",
   "mimetype": "text/x-python",
   "name": "python",
   "nbconvert_exporter": "python",
   "pygments_lexer": "ipython3",
   "version": "3.7.13"
  }
 },
 "nbformat": 4,
 "nbformat_minor": 5
}
