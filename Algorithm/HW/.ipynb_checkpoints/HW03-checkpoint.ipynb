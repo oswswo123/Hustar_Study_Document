{
 "cells": [
  {
   "cell_type": "code",
   "execution_count": 13,
   "id": "d6c4956f-91b5-4b29-809d-659b9029259c",
   "metadata": {},
   "outputs": [
    {
     "name": "stdin",
     "output_type": "stream",
     "text": [
      " 4\n",
      " 3 5 1 7 9\n",
      " 1 0 6\n"
     ]
    },
    {
     "name": "stdout",
     "output_type": "stream",
     "text": [
      "4 5 2\n"
     ]
    },
    {
     "name": "stdin",
     "output_type": "stream",
     "text": [
      " 1 3 5 7 9\n",
      " 1 3 5 7 9\n"
     ]
    },
    {
     "name": "stdout",
     "output_type": "stream",
     "text": [
      "4 3 2 1 0\n"
     ]
    },
    {
     "name": "stdin",
     "output_type": "stream",
     "text": [
      " -2 6 0 1 2 4\n",
      " 7 -4\n"
     ]
    },
    {
     "name": "stdout",
     "output_type": "stream",
     "text": [
      "0 6\n"
     ]
    },
    {
     "name": "stdin",
     "output_type": "stream",
     "text": [
      " 7 6 5 4 3 2 1\n",
      " 0 1 2 3 4 5 6\n"
     ]
    },
    {
     "name": "stdout",
     "output_type": "stream",
     "text": [
      "7 6 5 4 3 2 1\n"
     ]
    }
   ],
   "source": [
    "# HW 03. 이진 탐색 6\n",
    "\n",
    "import bisect\n",
    "\n",
    "def quick_sort(unsorted_list):\n",
    "    if len(unsorted_list) <= 1:\n",
    "        return unsorted_list\n",
    "    else:\n",
    "        pivot = unsorted_list[len(unsorted_list)//2]\n",
    "        lower_list, equal_list, upper_list = list(), list(), list()\n",
    "        \n",
    "        for element in unsorted_list:\n",
    "            if element > pivot:\n",
    "                upper_list.append(element)\n",
    "            elif element < pivot:\n",
    "                lower_list.append(element)\n",
    "            else:\n",
    "                equal_list.append(element)\n",
    "            \n",
    "        return quick_sort(lower_list) + equal_list + quick_sort(upper_list)\n",
    "\n",
    "def count_upper_number(sorted_list, search_value):\n",
    "    right_idx = bisect.bisect_right(sorted_list, search_value)\n",
    "    return right_idx\n",
    "\n",
    "def main():\n",
    "    num_of_testcase = int(input())\n",
    "    for _ in range(num_of_testcase):\n",
    "        unsorted_list = list(map(int, input().split()))\n",
    "        check_number = list(map(int, input().split()))\n",
    "        output_list = list()\n",
    "        \n",
    "        sorted_list = quick_sort(unsorted_list)\n",
    "        for search_value in check_number:\n",
    "            upper_idx = count_upper_number(sorted_list, search_value)\n",
    "            output_list.append(len(sorted_list) - upper_idx)\n",
    "        \n",
    "        print(*output_list)\n",
    "\n",
    "if __name__ == \"__main__\":\n",
    "    main()"
   ]
  },
  {
   "cell_type": "code",
   "execution_count": null,
   "id": "d8410015-ed01-4839-9238-0dd76b91c2d8",
   "metadata": {},
   "outputs": [],
   "source": []
  }
 ],
 "metadata": {
  "kernelspec": {
   "display_name": "Python 3 (ipykernel)",
   "language": "python",
   "name": "python3"
  },
  "language_info": {
   "codemirror_mode": {
    "name": "ipython",
    "version": 3
   },
   "file_extension": ".py",
   "mimetype": "text/x-python",
   "name": "python",
   "nbconvert_exporter": "python",
   "pygments_lexer": "ipython3",
   "version": "3.7.13"
  }
 },
 "nbformat": 4,
 "nbformat_minor": 5
}
