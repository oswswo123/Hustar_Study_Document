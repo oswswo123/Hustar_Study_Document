{
 "cells": [
  {
   "cell_type": "code",
   "execution_count": 11,
   "id": "7c7c3d4b-0d1e-4836-960c-d93d14835305",
   "metadata": {},
   "outputs": [
    {
     "name": "stdin",
     "output_type": "stream",
     "text": [
      " 4\n",
      " 2 1 0\n",
      " 0 1\n"
     ]
    },
    {
     "name": "stdout",
     "output_type": "stream",
     "text": [
      "0\n"
     ]
    },
    {
     "name": "stdin",
     "output_type": "stream",
     "text": [
      " 5 4 2\n",
      " 2 4\n",
      " 3 2\n",
      " 3 1\n",
      " 0 4\n"
     ]
    },
    {
     "name": "stdout",
     "output_type": "stream",
     "text": [
      "0\n"
     ]
    },
    {
     "name": "stdin",
     "output_type": "stream",
     "text": [
      " 7 9 6\n",
      " 0 1\n",
      " 0 2\n",
      " 4 5\n",
      " 0 4\n",
      " 0 5\n",
      " 2 4\n",
      " 1 4\n",
      " 1 5\n",
      " 6 3\n"
     ]
    },
    {
     "name": "stdout",
     "output_type": "stream",
     "text": [
      "5\n"
     ]
    },
    {
     "name": "stdin",
     "output_type": "stream",
     "text": [
      " 10 12 5\n",
      " 1 5\n",
      " 8 1\n",
      " 8 6\n",
      " 4 8\n",
      " 9 7\n",
      " 4 6\n",
      " 1 3\n",
      " 3 7\n",
      " 5 6\n",
      " 9 8\n",
      " 5 9\n",
      " 7 4\n"
     ]
    },
    {
     "name": "stdout",
     "output_type": "stream",
     "text": [
      "2\n"
     ]
    }
   ],
   "source": [
    "# HW 01. \"랜선\" 웨어\n",
    "\n",
    "import sys\n",
    "sys.setrecursionlimit(1000000)\n",
    "\n",
    "class AdjacencyList:\n",
    "    def __init__(self, num_of_vertex, num_of_edge):\n",
    "        self.num_of_vertex = num_of_vertex\n",
    "        self.num_of_edge = num_of_edge\n",
    "        self.adjacency_list = [list() for _ in range(num_of_vertex)]\n",
    "    \n",
    "    def add_edge(self, first_point, second_point):\n",
    "        self.adjacency_list[first_point].append(second_point)\n",
    "        self.adjacency_list[second_point].append(first_point)\n",
    "    \n",
    "    def list_sorting(self):\n",
    "        for idx in range(self.num_of_vertex):\n",
    "            self.adjacency_list[idx] = sorted(self.adjacency_list[idx])\n",
    "    \n",
    "    def list_display(self):\n",
    "        for idx in range(self.num_of_vertex):\n",
    "            print(*self.adjacency_list[idx])\n",
    "    \n",
    "    def dfs(self, start_vertex):\n",
    "        self.visited_list = [False for _ in range(self.num_of_vertex)]\n",
    "        self.output_list = list()\n",
    "        \n",
    "        self.visited_list[start_vertex] = True\n",
    "        self.explore(start_vertex)\n",
    "\n",
    "        return self.output_list\n",
    "    \n",
    "    def explore(self, vertex):\n",
    "        self.visited_list[vertex] = True\n",
    "        self.output_list.append(vertex)\n",
    "        for adjacency_vertex in self.adjacency_list[vertex]:\n",
    "            if self.visited_list[adjacency_vertex] == False:\n",
    "                self.explore(adjacency_vertex)\n",
    "\n",
    "def main():\n",
    "    num_of_testcase = int(input())\n",
    "    for _ in range(num_of_testcase):\n",
    "        num_of_vertex, num_of_edge, start_point = tuple(map(int, input().split()))\n",
    "        temp_adjacency_list = AdjacencyList(num_of_vertex, num_of_edge)\n",
    "        \n",
    "        for _ in range(num_of_edge):\n",
    "            first_point, second_point = tuple(map(int, input().split()))\n",
    "            temp_adjacency_list.add_edge(first_point, second_point)\n",
    "        \n",
    "        temp_adjacency_list.list_sorting()\n",
    "        print(num_of_vertex - len(temp_adjacency_list.dfs(start_point)))\n",
    "\n",
    "if __name__ == \"__main__\":\n",
    "    main()"
   ]
  },
  {
   "cell_type": "code",
   "execution_count": null,
   "id": "564bb6d5-7bfd-4ba9-8cb2-4871a693d815",
   "metadata": {},
   "outputs": [],
   "source": []
  }
 ],
 "metadata": {
  "kernelspec": {
   "display_name": "Python 3 (ipykernel)",
   "language": "python",
   "name": "python3"
  },
  "language_info": {
   "codemirror_mode": {
    "name": "ipython",
    "version": 3
   },
   "file_extension": ".py",
   "mimetype": "text/x-python",
   "name": "python",
   "nbconvert_exporter": "python",
   "pygments_lexer": "ipython3",
   "version": "3.7.13"
  }
 },
 "nbformat": 4,
 "nbformat_minor": 5
}
