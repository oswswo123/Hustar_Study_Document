{
 "cells": [
  {
   "cell_type": "code",
   "execution_count": 29,
   "id": "ac62697a-6fe6-4154-ab14-f0ac413f6fe0",
   "metadata": {},
   "outputs": [
    {
     "name": "stdin",
     "output_type": "stream",
     "text": [
      " 5\n",
      " 2\n",
      " 7 3 5 7 3 5\n"
     ]
    },
    {
     "name": "stdout",
     "output_type": "stream",
     "text": [
      "NO\n"
     ]
    },
    {
     "name": "stdin",
     "output_type": "stream",
     "text": [
      " 2 \n",
      " 11 2 2 11\n"
     ]
    },
    {
     "name": "stdout",
     "output_type": "stream",
     "text": [
      "YES\n"
     ]
    },
    {
     "name": "stdin",
     "output_type": "stream",
     "text": [
      " 3\n",
      " 3 2 1 3 3 2 4 2 1 4 4 1\n"
     ]
    },
    {
     "name": "stdout",
     "output_type": "stream",
     "text": [
      "YES\n"
     ]
    },
    {
     "name": "stdin",
     "output_type": "stream",
     "text": [
      " 3\n",
      " 1 2 1 5 1 2 2 3 5 5 4 3 4 3 4\n"
     ]
    },
    {
     "name": "stdout",
     "output_type": "stream",
     "text": [
      "NO\n"
     ]
    },
    {
     "name": "stdin",
     "output_type": "stream",
     "text": [
      " 4\n",
      " 1 2 1 2 3 4 3 4 1 3 2 4 1 2 3 4\n"
     ]
    },
    {
     "name": "stdout",
     "output_type": "stream",
     "text": [
      "YES\n"
     ]
    }
   ],
   "source": [
    "# ADV 03. N 바퀴 레이스\n",
    "import collections\n",
    "\n",
    "num_of_testcase = int(input())\n",
    "for testcase in range(num_of_testcase):\n",
    "    num_of_lab = int(input())\n",
    "    race_data = input().split()\n",
    "    test_queue = [collections.deque(list()) for _ in range(num_of_lab)]\n",
    "    car_lab_hash = dict()\n",
    "    for element in race_data:\n",
    "        if element not in car_lab_hash:\n",
    "            car_lab_hash[element] = 0\n",
    "            if element in test_queue[0]:\n",
    "                if element == test_queue[0][0]:\n",
    "                    test_queue[0].popleft()\n",
    "                else:\n",
    "                    break\n",
    "            else:\n",
    "                test_queue[0].append(element)\n",
    "        else:\n",
    "            if element == test_queue[car_lab_hash[element]][0]:\n",
    "                test_queue[car_lab_hash[element]+1].append(test_queue[car_lab_hash[element]].popleft())\n",
    "                car_lab_hash[element] += 1\n",
    "            else:\n",
    "                break\n",
    "                \n",
    "    is_change = list()\n",
    "    for queue_element in test_queue[:-1]:\n",
    "        is_change.append(False if bool(queue_element) else True)\n",
    "\n",
    "    if all(is_change):\n",
    "        print(\"NO\")\n",
    "    else:\n",
    "        print(\"YES\")"
   ]
  },
  {
   "cell_type": "code",
   "execution_count": null,
   "id": "3adc380c-419f-4b7a-88b0-cd1654882367",
   "metadata": {},
   "outputs": [],
   "source": []
  }
 ],
 "metadata": {
  "kernelspec": {
   "display_name": "Python 3 (ipykernel)",
   "language": "python",
   "name": "python3"
  },
  "language_info": {
   "codemirror_mode": {
    "name": "ipython",
    "version": 3
   },
   "file_extension": ".py",
   "mimetype": "text/x-python",
   "name": "python",
   "nbconvert_exporter": "python",
   "pygments_lexer": "ipython3",
   "version": "3.7.13"
  }
 },
 "nbformat": 4,
 "nbformat_minor": 5
}
