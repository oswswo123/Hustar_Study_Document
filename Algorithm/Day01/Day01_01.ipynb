{
 "cells": [
  {
   "cell_type": "code",
   "execution_count": 3,
   "id": "5735aabe-0244-47fa-bc81-2f42b2e5bc2f",
   "metadata": {},
   "outputs": [
    {
     "name": "stdin",
     "output_type": "stream",
     "text": [
      " 1 2\n"
     ]
    },
    {
     "name": "stdout",
     "output_type": "stream",
     "text": [
      "3\n"
     ]
    }
   ],
   "source": [
    "# 01. A + B 1\n",
    "first_num, second_num = input().split()\n",
    "\n",
    "print(int(first_num) + int(second_num))"
   ]
  },
  {
   "cell_type": "code",
   "execution_count": null,
   "id": "d1201c79-a7db-49ad-bcf2-9f1b279dcb91",
   "metadata": {},
   "outputs": [],
   "source": []
  }
 ],
 "metadata": {
  "kernelspec": {
   "display_name": "Python 3 (ipykernel)",
   "language": "python",
   "name": "python3"
  },
  "language_info": {
   "codemirror_mode": {
    "name": "ipython",
    "version": 3
   },
   "file_extension": ".py",
   "mimetype": "text/x-python",
   "name": "python",
   "nbconvert_exporter": "python",
   "pygments_lexer": "ipython3",
   "version": "3.7.13"
  }
 },
 "nbformat": 4,
 "nbformat_minor": 5
}
