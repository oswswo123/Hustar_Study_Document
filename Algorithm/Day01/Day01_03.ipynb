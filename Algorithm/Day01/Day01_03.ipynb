{
 "cells": [
  {
   "cell_type": "code",
   "execution_count": null,
   "id": "34d68e0f-ccee-4f51-94a7-befa6da76920",
   "metadata": {},
   "outputs": [],
   "source": [
    "# 03. 리스트의 합\n",
    "num_of_list = int(input())\n",
    "for _ in range(num_of_list):\n",
    "    temp_list = input().split()\n",
    "    temp_list = [int(item) for item in temp_list]\n",
    "    print(sum(temp_list))"
   ]
  },
  {
   "cell_type": "code",
   "execution_count": 3,
   "id": "f6fb5583-7c93-4fe0-95db-bdbe436e7c65",
   "metadata": {},
   "outputs": [
    {
     "name": "stdout",
     "output_type": "stream",
     "text": [
      "['100', '200', '300', '400', '500']\n",
      "[100, 200, 300, 400, 500]\n",
      "1500\n"
     ]
    }
   ],
   "source": [
    "a = \"100 200 300 400 500\".split()\n",
    "print(a)\n",
    "\n",
    "a = [int(item) for item in a]\n",
    "print(a)\n",
    "\n",
    "print(sum(a))"
   ]
  },
  {
   "cell_type": "code",
   "execution_count": null,
   "id": "06f812a5-cd50-444f-bc5d-550e1d6210ce",
   "metadata": {},
   "outputs": [],
   "source": []
  }
 ],
 "metadata": {
  "kernelspec": {
   "display_name": "Python 3 (ipykernel)",
   "language": "python",
   "name": "python3"
  },
  "language_info": {
   "codemirror_mode": {
    "name": "ipython",
    "version": 3
   },
   "file_extension": ".py",
   "mimetype": "text/x-python",
   "name": "python",
   "nbconvert_exporter": "python",
   "pygments_lexer": "ipython3",
   "version": "3.7.13"
  }
 },
 "nbformat": 4,
 "nbformat_minor": 5
}
