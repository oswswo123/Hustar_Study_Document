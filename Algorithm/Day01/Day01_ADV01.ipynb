{
 "cells": [
  {
   "cell_type": "code",
   "execution_count": 23,
   "id": "5653aa79-0a8d-48d1-999a-a2434ec8cf3a",
   "metadata": {},
   "outputs": [
    {
     "name": "stdin",
     "output_type": "stream",
     "text": [
      " 3\n",
      " 0 3 7 13\n"
     ]
    },
    {
     "name": "stdout",
     "output_type": "stream",
     "text": [
      "17\n"
     ]
    },
    {
     "name": "stdin",
     "output_type": "stream",
     "text": [
      " 1 2 3 4 5 6 7 8 9 10\n"
     ]
    },
    {
     "name": "stdout",
     "output_type": "stream",
     "text": [
      "25\n"
     ]
    },
    {
     "name": "stdin",
     "output_type": "stream",
     "text": [
      " 0 0 0 0 0 0 0 0 0 0 10000\n"
     ]
    },
    {
     "name": "stdout",
     "output_type": "stream",
     "text": [
      "10000\n"
     ]
    }
   ],
   "source": [
    "# ADV 01. 마을회관 건설\n",
    "num_of_testcase = int(input())\n",
    "for testcase in range(num_of_testcase):\n",
    "    house_list = list(map(int, input().split()))\n",
    "    head_idx = 0\n",
    "    tail_idx = max(house_list)\n",
    "    while head_idx < tail_idx:\n",
    "        middle_idx = tail_idx - (tail_idx - head_idx) // 2\n",
    "        middle_l1 = sum(list(map(lambda x : abs(x-middle_idx), house_list)))\n",
    "        head_l1 = sum(list(map(lambda x : abs(x-head_idx), house_list)))\n",
    "        tail_l1 = sum(list(map(lambda x : abs(x-tail_idx), house_list)))\n",
    "        if middle_l1 > head_l1:\n",
    "            tail_idx = middle_idx - 1\n",
    "        elif middle_l1 > tail_l1:\n",
    "            head_idx = middle_idx + 1\n",
    "        else:\n",
    "            tail_idx = tail_idx - (tail_idx - middle_idx) // 2\n",
    "            head_idx = middle_idx - (middle_idx - head_idx) // 2\n",
    "    \n",
    "    last_check_l1 = head_l1 if head_l1 < tail_l1 else tail_l1\n",
    "    middle_l1 = middle_l1 if middle_l1 < last_check_l1 else last_check_l1\n",
    "\n",
    "    print(middle_l1)"
   ]
  },
  {
   "cell_type": "code",
   "execution_count": null,
   "id": "a2720d1b-1dce-490a-b573-d0bb73bf140b",
   "metadata": {},
   "outputs": [],
   "source": [
    "print(round(1.5))"
   ]
  }
 ],
 "metadata": {
  "kernelspec": {
   "display_name": "Python 3 (ipykernel)",
   "language": "python",
   "name": "python3"
  },
  "language_info": {
   "codemirror_mode": {
    "name": "ipython",
    "version": 3
   },
   "file_extension": ".py",
   "mimetype": "text/x-python",
   "name": "python",
   "nbconvert_exporter": "python",
   "pygments_lexer": "ipython3",
   "version": "3.7.13"
  }
 },
 "nbformat": 4,
 "nbformat_minor": 5
}
