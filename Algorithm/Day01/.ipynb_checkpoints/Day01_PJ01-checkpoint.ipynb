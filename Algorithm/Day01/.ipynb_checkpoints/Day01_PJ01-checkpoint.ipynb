{
 "cells": [
  {
   "cell_type": "code",
   "execution_count": 17,
   "id": "8b3a907d-829b-4fd0-ada9-79548691c53d",
   "metadata": {},
   "outputs": [
    {
     "name": "stdin",
     "output_type": "stream",
     "text": [
      " 5\n",
      " ()()\n"
     ]
    },
    {
     "name": "stdout",
     "output_type": "stream",
     "text": [
      "YES\n"
     ]
    },
    {
     "name": "stdin",
     "output_type": "stream",
     "text": [
      " ({[}])\n"
     ]
    },
    {
     "name": "stdout",
     "output_type": "stream",
     "text": [
      "NO\n"
     ]
    },
    {
     "name": "stdin",
     "output_type": "stream",
     "text": [
      " ({}[(){}])\n"
     ]
    },
    {
     "name": "stdout",
     "output_type": "stream",
     "text": [
      "YES\n"
     ]
    },
    {
     "name": "stdin",
     "output_type": "stream",
     "text": [
      " (({})\n"
     ]
    },
    {
     "name": "stdout",
     "output_type": "stream",
     "text": [
      "NO\n"
     ]
    },
    {
     "name": "stdin",
     "output_type": "stream",
     "text": [
      " ()))))))))))(\n"
     ]
    },
    {
     "name": "stdout",
     "output_type": "stream",
     "text": [
      "NO\n"
     ]
    }
   ],
   "source": [
    "# Day 01 - PJ 01. 괄호 검사\n",
    "num_of_testcase = int(input())\n",
    "for _ in range(num_of_testcase):\n",
    "    check_bracket_str = input()\n",
    "    temp_stack = list()\n",
    "    is_right = False\n",
    "    repeat = 0\n",
    "    for bracket_element in check_bracket_str:\n",
    "        if bracket_element == \"(\" or bracket_element == \"{\" or bracket_element == \"[\":\n",
    "            temp_stack.append(bracket_element)\n",
    "        elif bracket_element == \")\":\n",
    "            try:\n",
    "                if temp_stack[-1] == \"(\":\n",
    "                    temp_stack.pop()\n",
    "                else:\n",
    "                    is_right = False\n",
    "                    break\n",
    "            except:\n",
    "                is_right = False\n",
    "                break\n",
    "        elif bracket_element == \"}\":\n",
    "            try:\n",
    "                if temp_stack[-1] == \"{\":\n",
    "                    temp_stack.pop()\n",
    "                else:\n",
    "                    is_right = False\n",
    "                    break\n",
    "            except:\n",
    "                is_right = False\n",
    "                break\n",
    "        elif bracket_element == \"]\":\n",
    "            try:\n",
    "                if temp_stack[-1] == \"[\":\n",
    "                    temp_stack.pop()\n",
    "                else:\n",
    "                    is_right = False\n",
    "                    break\n",
    "            except:\n",
    "                is_right = False\n",
    "                break\n",
    "        else:\n",
    "            pass\n",
    "        repeat += 1\n",
    "\n",
    "    if bool(temp_stack) == False and repeat == len(check_bracket_str):\n",
    "        is_right = True\n",
    "    else:\n",
    "        is_right = False\n",
    "    \n",
    "    if is_right:\n",
    "        print(\"YES\")\n",
    "    else:\n",
    "        print(\"NO\")"
   ]
  },
  {
   "cell_type": "code",
   "execution_count": null,
   "id": "15fb7e1a-5db3-4b5e-84c2-519cd0687460",
   "metadata": {},
   "outputs": [],
   "source": []
  }
 ],
 "metadata": {
  "kernelspec": {
   "display_name": "Python 3 (ipykernel)",
   "language": "python",
   "name": "python3"
  },
  "language_info": {
   "codemirror_mode": {
    "name": "ipython",
    "version": 3
   },
   "file_extension": ".py",
   "mimetype": "text/x-python",
   "name": "python",
   "nbconvert_exporter": "python",
   "pygments_lexer": "ipython3",
   "version": "3.7.13"
  }
 },
 "nbformat": 4,
 "nbformat_minor": 5
}
