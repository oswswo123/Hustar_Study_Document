{
 "cells": [
  {
   "cell_type": "code",
   "execution_count": 11,
   "id": "7967fc01-06bd-4c5a-b7e8-3367812e678d",
   "metadata": {},
   "outputs": [
    {
     "name": "stdin",
     "output_type": "stream",
     "text": [
      " 5\n",
      " 7 3 5 7 3 5\n"
     ]
    },
    {
     "name": "stdout",
     "output_type": "stream",
     "text": [
      "NO\n"
     ]
    },
    {
     "name": "stdin",
     "output_type": "stream",
     "text": [
      " 11 2 2 11\n"
     ]
    },
    {
     "name": "stdout",
     "output_type": "stream",
     "text": [
      "YES\n"
     ]
    },
    {
     "name": "stdin",
     "output_type": "stream",
     "text": [
      " 3 2 1 3 2 4 4 1\n"
     ]
    },
    {
     "name": "stdout",
     "output_type": "stream",
     "text": [
      "YES\n"
     ]
    },
    {
     "name": "stdin",
     "output_type": "stream",
     "text": [
      " 1 2 5 1 2 3 5 4 3 4\n"
     ]
    },
    {
     "name": "stdout",
     "output_type": "stream",
     "text": [
      "NO\n"
     ]
    },
    {
     "name": "stdin",
     "output_type": "stream",
     "text": [
      " 7 3 9 7 2 9 4 3 2 4\n"
     ]
    },
    {
     "name": "stdout",
     "output_type": "stream",
     "text": [
      "YES\n"
     ]
    }
   ],
   "source": [
    "# PJ 01. 두 바퀴 레이스\n",
    "import collections\n",
    "\n",
    "num_of_testcase = int(input())\n",
    "for testcase in range(num_of_testcase):\n",
    "    race_data = input().split()\n",
    "    test_queue = collections.deque(list())\n",
    "    for element in race_data:\n",
    "        if element in test_queue:\n",
    "            if element == test_queue[0]:\n",
    "                test_queue.popleft()\n",
    "            else:\n",
    "                break\n",
    "        else:\n",
    "            test_queue.append(element)\n",
    "    \n",
    "    if bool(test_queue) == False:\n",
    "        print(\"NO\")\n",
    "    else:\n",
    "        print(\"YES\")"
   ]
  },
  {
   "cell_type": "code",
   "execution_count": null,
   "id": "db2472b2-f916-4bd1-a4ef-8c357cc1972a",
   "metadata": {},
   "outputs": [],
   "source": []
  }
 ],
 "metadata": {
  "kernelspec": {
   "display_name": "Python 3 (ipykernel)",
   "language": "python",
   "name": "python3"
  },
  "language_info": {
   "codemirror_mode": {
    "name": "ipython",
    "version": 3
   },
   "file_extension": ".py",
   "mimetype": "text/x-python",
   "name": "python",
   "nbconvert_exporter": "python",
   "pygments_lexer": "ipython3",
   "version": "3.7.13"
  }
 },
 "nbformat": 4,
 "nbformat_minor": 5
}
