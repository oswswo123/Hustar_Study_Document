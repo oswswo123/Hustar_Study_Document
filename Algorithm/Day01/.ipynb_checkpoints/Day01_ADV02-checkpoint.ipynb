{
 "cells": [
  {
   "cell_type": "code",
   "execution_count": 23,
   "id": "bc49c0c1-178b-4237-bcf1-c2dcba17e2ae",
   "metadata": {},
   "outputs": [
    {
     "name": "stdin",
     "output_type": "stream",
     "text": [
      " 2\n",
      " 7\n",
      " 2 7\n",
      " 12 4\n",
      " 4 5\n",
      " 10 7\n",
      " 6 2\n",
      " 9 1\n",
      " 8 8\n"
     ]
    },
    {
     "name": "stdout",
     "output_type": "stream",
     "text": [
      "8 8 9 1\n"
     ]
    },
    {
     "name": "stdin",
     "output_type": "stream",
     "text": [
      " 4\n",
      " 1 1\n",
      " 2 2\n",
      " 5 5\n",
      " 6 6\n"
     ]
    },
    {
     "name": "stdout",
     "output_type": "stream",
     "text": [
      "1 1 2 2\n"
     ]
    }
   ],
   "source": [
    "## ADV 02. 가장 가파른 두 점\n",
    "\n",
    "def create_adjacent_list(test_list):\n",
    "    adjacent_list = list()\n",
    "    test_list = sorted(test_list, key=lambda x:x[0])\n",
    "    \n",
    "    for idx_first in range(0, len(test_list)-1):\n",
    "        adjacent_list.append([test_list[idx_first], test_list[idx_first+1]])\n",
    "    \n",
    "    return adjacent_list\n",
    "\n",
    "def calculate_gradient(set_of_adjacent_dot):\n",
    "    gradient_list = list()\n",
    "    \n",
    "    for dot_set_element in set_of_adjacent_dot:\n",
    "        gradient = abs((dot_set_element[0][1] - dot_set_element[1][1]) / (dot_set_element[0][0] - dot_set_element[1][0]))\n",
    "        gradient_list.append([gradient, dot_set_element[0], dot_set_element[1]])\n",
    "        \n",
    "    return gradient_list\n",
    "\n",
    "num_of_testcase = int(input())\n",
    "for testcase in range(num_of_testcase):\n",
    "    num_of_count = int(input())\n",
    "    test_list = list()\n",
    "    \n",
    "    for _ in range(num_of_count):\n",
    "        test_list.append(list(map(int, input().split())))\n",
    "    \n",
    "    set_of_adjacent_dot = create_adjacent_list(test_list)\n",
    "    set_of_gradient = calculate_gradient(set_of_adjacent_dot)\n",
    "    max_gradient_set = max(set_of_gradient, key=lambda x:x[0])\n",
    "    output_str = \" \".join(list(map(str, max_gradient_set[1]))) + \" \" + \" \".join(list(map(str, max_gradient_set[2])))\n",
    "    \n",
    "    print(output_str)"
   ]
  },
  {
   "cell_type": "code",
   "execution_count": 32,
   "id": "fe62ed95-3897-4dc6-a52e-4682bf1f109f",
   "metadata": {},
   "outputs": [
    {
     "name": "stdout",
     "output_type": "stream",
     "text": [
      "1 2 3 4 5\n"
     ]
    }
   ],
   "source": [
    "aa = [1, 2, 3, 4, 5]\n",
    "bb = \" \".join(list(map(str, aa)))\n",
    "print(bb)"
   ]
  },
  {
   "cell_type": "code",
   "execution_count": null,
   "id": "591bca8c-0311-44d1-bd49-6bd02512722e",
   "metadata": {},
   "outputs": [],
   "source": []
  }
 ],
 "metadata": {
  "kernelspec": {
   "display_name": "Python 3 (ipykernel)",
   "language": "python",
   "name": "python3"
  },
  "language_info": {
   "codemirror_mode": {
    "name": "ipython",
    "version": 3
   },
   "file_extension": ".py",
   "mimetype": "text/x-python",
   "name": "python",
   "nbconvert_exporter": "python",
   "pygments_lexer": "ipython3",
   "version": "3.7.13"
  }
 },
 "nbformat": 4,
 "nbformat_minor": 5
}
