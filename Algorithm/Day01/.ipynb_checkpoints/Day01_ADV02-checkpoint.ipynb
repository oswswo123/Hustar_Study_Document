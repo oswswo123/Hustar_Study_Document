{
 "cells": [
  {
   "cell_type": "code",
   "execution_count": 35,
   "id": "e8727c6c-d2e8-44ed-9555-85d10e4c5e39",
   "metadata": {},
   "outputs": [
    {
     "name": "stdin",
     "output_type": "stream",
     "text": [
      " 2\n",
      " 7\n",
      " 2 7\n",
      " 12 4\n",
      " 4 5\n",
      " 10 7\n",
      " 6 2\n",
      " 9 1\n",
      " 8 8\n"
     ]
    },
    {
     "name": "stdout",
     "output_type": "stream",
     "text": [
      "8 8 9 1\n"
     ]
    },
    {
     "name": "stdin",
     "output_type": "stream",
     "text": [
      " 4\n",
      " 1 1\n",
      " 2 2\n",
      " 5 5\n",
      " 6 6\n"
     ]
    },
    {
     "name": "stdout",
     "output_type": "stream",
     "text": [
      "1 1 2 2\n"
     ]
    }
   ],
   "source": [
    "## ADV 02. 가장 가파른 두 점\n",
    "\n",
    "def create_combination(test_list):\n",
    "    set_of_dot = list()\n",
    "    for idx_first, dot_item_first in enumerate(test_list[0:-1]):\n",
    "        for idx_second, dot_item_second in enumerate(test_list[idx_first+1:]):\n",
    "            set_of_dot.append([dot_item_first, dot_item_second])\n",
    "    \n",
    "    return set_of_dot\n",
    "\n",
    "num_of_testcase = int(input())\n",
    "for testcase in range(num_of_testcase):\n",
    "    num_of_count = int(input())\n",
    "    test_list = list()\n",
    "    for _ in range(num_of_count):\n",
    "        test_list.append(list(map(int, input().split())))\n",
    "    \n",
    "    set_of_dot = create_combination(test_list)\n",
    "    gradient_list = list(map(lambda x : abs((x[0][1]-x[1][1]) / (x[0][0]-x[1][0])), set_of_dot))\n",
    "    max_gradient_idx = gradient_list.index(max(gradient_list))\n",
    "    last_output = sorted(set_of_dot[max_gradient_idx], key=lambda x : x[0])\n",
    "    output_str = \" \".join(list(map(str, last_output[0]))) + \" \" + \" \".join(list(map(str, last_output[1])))\n",
    "    print(output_str)"
   ]
  },
  {
   "cell_type": "code",
   "execution_count": 32,
   "id": "fe62ed95-3897-4dc6-a52e-4682bf1f109f",
   "metadata": {},
   "outputs": [
    {
     "name": "stdout",
     "output_type": "stream",
     "text": [
      "1 2 3 4 5\n"
     ]
    }
   ],
   "source": [
    "aa = [1, 2, 3, 4, 5]\n",
    "bb = \" \".join(list(map(str, aa)))\n",
    "print(bb)"
   ]
  },
  {
   "cell_type": "code",
   "execution_count": null,
   "id": "591bca8c-0311-44d1-bd49-6bd02512722e",
   "metadata": {},
   "outputs": [],
   "source": []
  }
 ],
 "metadata": {
  "kernelspec": {
   "display_name": "Python 3 (ipykernel)",
   "language": "python",
   "name": "python3"
  },
  "language_info": {
   "codemirror_mode": {
    "name": "ipython",
    "version": 3
   },
   "file_extension": ".py",
   "mimetype": "text/x-python",
   "name": "python",
   "nbconvert_exporter": "python",
   "pygments_lexer": "ipython3",
   "version": "3.7.13"
  }
 },
 "nbformat": 4,
 "nbformat_minor": 5
}
