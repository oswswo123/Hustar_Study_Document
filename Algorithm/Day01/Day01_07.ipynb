{
 "cells": [
  {
   "cell_type": "code",
   "execution_count": null,
   "id": "1ce071c1-b7b5-4424-a998-0abdcf829710",
   "metadata": {},
   "outputs": [],
   "source": [
    "# 07. 우선순위 큐 구현하기\n",
    "\n",
    "import heapq\n",
    "\n",
    "num_of_testcase = int(input())\n",
    "for testcase in range(num_of_testcase):\n",
    "    num_of_query = int(input())\n",
    "    temp_heap = list()\n",
    "    for _ in range(num_of_query):\n",
    "        command = int(input())\n",
    "        if command == \"-1\":\n",
    "            print(heapq.heappop(temp_heap))\n",
    "        else:\n",
    "            heapq.heappush(temp_heap, command)"
   ]
  },
  {
   "cell_type": "code",
   "execution_count": null,
   "id": "dcfcf05a-e0c2-416f-b123-f519089c352f",
   "metadata": {},
   "outputs": [],
   "source": []
  }
 ],
 "metadata": {
  "kernelspec": {
   "display_name": "Python 3 (ipykernel)",
   "language": "python",
   "name": "python3"
  },
  "language_info": {
   "codemirror_mode": {
    "name": "ipython",
    "version": 3
   },
   "file_extension": ".py",
   "mimetype": "text/x-python",
   "name": "python",
   "nbconvert_exporter": "python",
   "pygments_lexer": "ipython3",
   "version": "3.7.13"
  }
 },
 "nbformat": 4,
 "nbformat_minor": 5
}
