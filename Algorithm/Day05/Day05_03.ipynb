{
 "cells": [
  {
   "cell_type": "code",
   "execution_count": 11,
   "id": "52a1f967-561a-4453-8c8a-2fd3350a6041",
   "metadata": {},
   "outputs": [
    {
     "name": "stdin",
     "output_type": "stream",
     "text": [
      " 2\n",
      " 3 4\n",
      " 4 0 0 0\n",
      " 0 2 3 4\n",
      " 1 3 5 2\n"
     ]
    },
    {
     "name": "stdout",
     "output_type": "stream",
     "text": [
      "9\n"
     ]
    },
    {
     "name": "stdin",
     "output_type": "stream",
     "text": [
      " 3 5\n",
      " 1 1 2 1 1\n",
      " 1 2 1 2 1\n",
      " 1 1 1 1 1\n"
     ]
    },
    {
     "name": "stdout",
     "output_type": "stream",
     "text": [
      "5\n"
     ]
    }
   ],
   "source": [
    "# 03. 암기대회\n",
    "\n",
    "def create_dp_point_map(point_map, row_size, col_size):\n",
    "    dp_point_map = list()\n",
    "    for _ in range(row_size):\n",
    "        dp_point_map.append([0 for _ in range(col_size)])\n",
    "        \n",
    "    for row_idx in range(row_size):\n",
    "        for col_idx in range(col_size):\n",
    "            if row_idx == 0:\n",
    "                if col_idx == 0:\n",
    "                    dp_point_map[row_idx][col_idx] = point_map[row_idx][col_idx]\n",
    "                else:\n",
    "                    dp_point_map[row_idx][col_idx] = point_map[row_idx][col_idx] + dp_point_map[row_idx][col_idx-1]\n",
    "            elif col_idx == 0:\n",
    "                dp_point_map[row_idx][col_idx] = point_map[row_idx][col_idx] + dp_point_map[row_idx-1][col_idx]\n",
    "            else:\n",
    "                dp_point_map[row_idx][col_idx] = min(point_map[row_idx][col_idx] + dp_point_map[row_idx-1][col_idx] \\\n",
    "                                                    , point_map[row_idx][col_idx] + dp_point_map[row_idx][col_idx-1] \\\n",
    "                                                    , point_map[row_idx][col_idx] + dp_point_map[row_idx-1][col_idx-1])\n",
    "    return dp_point_map[-1][-1]\n",
    "\n",
    "def main():\n",
    "    num_of_testcase = int(input())\n",
    "    for _ in range(num_of_testcase):\n",
    "        row_size, col_size = tuple(map(int, input().split()))\n",
    "        point_map = list()\n",
    "        \n",
    "        for _ in range(row_size):\n",
    "            point_map.append(list(map(int, input().split())))\n",
    "            \n",
    "        print(create_dp_point_map(point_map, row_size, col_size))\n",
    "\n",
    "if __name__ == \"__main__\":\n",
    "    main()"
   ]
  },
  {
   "cell_type": "code",
   "execution_count": null,
   "id": "5d2165a3-5e2a-4143-beb7-219d44852287",
   "metadata": {},
   "outputs": [],
   "source": []
  }
 ],
 "metadata": {
  "kernelspec": {
   "display_name": "Python 3 (ipykernel)",
   "language": "python",
   "name": "python3"
  },
  "language_info": {
   "codemirror_mode": {
    "name": "ipython",
    "version": 3
   },
   "file_extension": ".py",
   "mimetype": "text/x-python",
   "name": "python",
   "nbconvert_exporter": "python",
   "pygments_lexer": "ipython3",
   "version": "3.7.13"
  }
 },
 "nbformat": 4,
 "nbformat_minor": 5
}
