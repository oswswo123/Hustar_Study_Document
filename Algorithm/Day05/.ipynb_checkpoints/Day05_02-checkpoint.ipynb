{
 "cells": [
  {
   "cell_type": "code",
   "execution_count": 32,
   "id": "5db2ebba-ef0f-49e6-a36f-cc15cb350e03",
   "metadata": {},
   "outputs": [
    {
     "name": "stdin",
     "output_type": "stream",
     "text": [
      " 3\n",
      " 1 5\n",
      " 3\n",
      " 100\n"
     ]
    },
    {
     "name": "stdout",
     "output_type": "stream",
     "text": [
      "100\n"
     ]
    },
    {
     "name": "stdin",
     "output_type": "stream",
     "text": [
      " 5 10\n",
      " 2 1 1 4 4\n",
      " 34 686 668 678 560\n"
     ]
    },
    {
     "name": "stdout",
     "output_type": "stream",
     "text": [
      "2592\n"
     ]
    },
    {
     "name": "stdin",
     "output_type": "stream",
     "text": [
      " 10 10\n",
      " 3 2 5 4 1 3 1 2 5 5\n",
      " 702 130 533 375 819 902 203 660 305 581\n"
     ]
    },
    {
     "name": "stdout",
     "output_type": "stream",
     "text": [
      "3286\n"
     ]
    }
   ],
   "source": [
    "# 02. 배송비 절약\n",
    "\n",
    "def find_min_delivery_fee(num_of_thing, weight_limit, thing_list):\n",
    "    min_cost_dp = list()\n",
    "    for _ in range(num_of_thing):\n",
    "        min_cost_dp.append([0 for _ in range(weight_limit+1)])\n",
    "        \n",
    "    for kind_of_thing in range(num_of_thing):\n",
    "        for now_weight in range(1, weight_limit+1):\n",
    "            if kind_of_thing == 0:\n",
    "                if now_weight >= thing_list[kind_of_thing][0]:\n",
    "                    min_cost_dp[kind_of_thing][now_weight] = thing_list[kind_of_thing][1]\n",
    "                else:\n",
    "                    min_cost_dp[kind_of_thing][now_weight] = 0\n",
    "            else:\n",
    "                if now_weight >= thing_list[kind_of_thing][0]:\n",
    "                    remove_before_thing_idx = now_weight-thing_list[kind_of_thing][0] if now_weight-thing_list[kind_of_thing][0] >= 0 else 0\n",
    "                    min_cost_dp[kind_of_thing][now_weight] = max(min_cost_dp[kind_of_thing-1][now_weight], \\\n",
    "                                                                min_cost_dp[kind_of_thing-1][remove_before_thing_idx] + thing_list[kind_of_thing][1])\n",
    "                else:\n",
    "                    min_cost_dp[kind_of_thing][now_weight] = min_cost_dp[kind_of_thing-1][now_weight]\n",
    "\n",
    "    return min_cost_dp[-1][-1]\n",
    "\n",
    "def main():\n",
    "    num_of_testcase = int(input())\n",
    "    for _ in range(num_of_testcase):\n",
    "        num_of_thing, weight_limit = tuple(map(int, input().split()))\n",
    "        weight_list = tuple(map(int, input().split()))\n",
    "        value_list = tuple(map(int, input().split()))\n",
    "        thing_list = [thing_data for thing_data in zip(weight_list, value_list)]\n",
    "        print(find_min_delivery_fee(num_of_thing, weight_limit, thing_list))\n",
    "        \n",
    "\n",
    "if __name__ == \"__main__\":\n",
    "    main()"
   ]
  },
  {
   "cell_type": "code",
   "execution_count": null,
   "id": "7b9907d2-5f99-4d35-a50a-6c8fd9c8befe",
   "metadata": {},
   "outputs": [],
   "source": []
  }
 ],
 "metadata": {
  "kernelspec": {
   "display_name": "Python 3 (ipykernel)",
   "language": "python",
   "name": "python3"
  },
  "language_info": {
   "codemirror_mode": {
    "name": "ipython",
    "version": 3
   },
   "file_extension": ".py",
   "mimetype": "text/x-python",
   "name": "python",
   "nbconvert_exporter": "python",
   "pygments_lexer": "ipython3",
   "version": "3.7.13"
  }
 },
 "nbformat": 4,
 "nbformat_minor": 5
}
