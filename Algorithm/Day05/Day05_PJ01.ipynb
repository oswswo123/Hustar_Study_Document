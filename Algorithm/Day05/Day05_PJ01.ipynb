{
 "cells": [
  {
   "cell_type": "code",
   "execution_count": 8,
   "id": "7b971610-38fc-4493-9935-7c7df8a7d627",
   "metadata": {},
   "outputs": [
    {
     "name": "stdin",
     "output_type": "stream",
     "text": [
      " 3\n",
      " 1 3 -1 2 4\n"
     ]
    },
    {
     "name": "stdout",
     "output_type": "stream",
     "text": [
      "9\n"
     ]
    },
    {
     "name": "stdin",
     "output_type": "stream",
     "text": [
      " 1 -2 3 -4 5 -3 8 -9 22\n"
     ]
    },
    {
     "name": "stdout",
     "output_type": "stream",
     "text": [
      "23\n"
     ]
    },
    {
     "name": "stdin",
     "output_type": "stream",
     "text": [
      " -1 -2 -3 -4 -5\n"
     ]
    },
    {
     "name": "stdout",
     "output_type": "stream",
     "text": [
      "-1\n"
     ]
    }
   ],
   "source": [
    "# Day 05 - PJ. 01 최대 합 부분 연속 수열 2\n",
    "\n",
    "INF = -999999\n",
    "\n",
    "def max_sum_subsequence_dp(test_sequence):\n",
    "    max_sum_sub_dp = [INF for _ in test_sequence]\n",
    "    for idx, value in enumerate(test_sequence):\n",
    "        if idx == 0:\n",
    "            max_sum_sub_dp[idx] = value\n",
    "        else:\n",
    "            max_sum_sub_dp[idx] = max(max_sum_sub_dp[idx-1]+value, value)\n",
    "    \n",
    "    return max(max_sum_sub_dp)\n",
    "\n",
    "def main():\n",
    "    num_of_testcase = int(input())\n",
    "    for _ in range(num_of_testcase):\n",
    "        test_sequence = list(map(int, input().split()))\n",
    "        print(max_sum_subsequence_dp(test_sequence))\n",
    "\n",
    "if __name__ == \"__main__\":\n",
    "    main()"
   ]
  },
  {
   "cell_type": "code",
   "execution_count": null,
   "id": "de320e6d-598f-486a-a46d-25d6c4b2e38d",
   "metadata": {},
   "outputs": [],
   "source": []
  }
 ],
 "metadata": {
  "kernelspec": {
   "display_name": "Python 3 (ipykernel)",
   "language": "python",
   "name": "python3"
  },
  "language_info": {
   "codemirror_mode": {
    "name": "ipython",
    "version": 3
   },
   "file_extension": ".py",
   "mimetype": "text/x-python",
   "name": "python",
   "nbconvert_exporter": "python",
   "pygments_lexer": "ipython3",
   "version": "3.7.13"
  }
 },
 "nbformat": 4,
 "nbformat_minor": 5
}
