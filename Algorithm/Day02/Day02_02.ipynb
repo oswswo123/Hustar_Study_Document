{
 "cells": [
  {
   "cell_type": "markdown",
   "id": "c3621f1b-71d5-49f9-b760-8401e6620deb",
   "metadata": {},
   "source": [
    "##### 사실 이진탐색은 python library bisect 안에 내장되어있음\n",
    "##### ex) import bisect"
   ]
  },
  {
   "cell_type": "code",
   "execution_count": 8,
   "id": "a3809bb6-8c3e-4649-81fd-f20bb2ce749c",
   "metadata": {},
   "outputs": [
    {
     "name": "stdin",
     "output_type": "stream",
     "text": [
      " 3\n",
      " 1 2 3 4 5\n",
      " 1 3 6\n"
     ]
    },
    {
     "name": "stdout",
     "output_type": "stream",
     "text": [
      "0 2 -1\n"
     ]
    },
    {
     "name": "stdin",
     "output_type": "stream",
     "text": [
      " 1 3 5 7\n",
      " 2 3 6\n"
     ]
    },
    {
     "name": "stdout",
     "output_type": "stream",
     "text": [
      "-1 1 -1\n"
     ]
    },
    {
     "name": "stdin",
     "output_type": "stream",
     "text": [
      " 2 3 4 5 6\n",
      " 5 3 1\n"
     ]
    },
    {
     "name": "stdout",
     "output_type": "stream",
     "text": [
      "3 1 -1\n"
     ]
    }
   ],
   "source": [
    "# 02. 이진 탐색 1\n",
    "\n",
    "def binary_search(test_list, search_value):\n",
    "    head_idx = 0\n",
    "    tail_idx = len(test_list) - 1\n",
    "    \n",
    "    while head_idx <= tail_idx:\n",
    "        middle_idx = tail_idx - (tail_idx - head_idx) // 2\n",
    "        if search_value < test_list[middle_idx]:\n",
    "            tail_idx = middle_idx - 1\n",
    "        elif search_value > test_list[middle_idx]:\n",
    "            head_idx = middle_idx + 1\n",
    "        else:\n",
    "            break\n",
    "\n",
    "    if search_value == test_list[middle_idx]:\n",
    "        return middle_idx\n",
    "    else:\n",
    "        return -1\n",
    "\n",
    "num_of_testcase = int(input())\n",
    "for testcase in range(num_of_testcase):\n",
    "    test_list = list(map(int, input().split()))\n",
    "    search_value_list = list(map(int, input().split()))\n",
    "    output_list = list()\n",
    "    \n",
    "    for search_value in search_value_list:\n",
    "        output_list.append(binary_search(test_list, search_value))\n",
    "    \n",
    "    print(*output_list)"
   ]
  },
  {
   "cell_type": "code",
   "execution_count": 9,
   "id": "f1041aaf-a14c-4013-9546-4e1dfb445038",
   "metadata": {},
   "outputs": [
    {
     "name": "stdout",
     "output_type": "stream",
     "text": [
      "1 2 3 4\n",
      "가 나 다\n"
     ]
    }
   ],
   "source": [
    "a = [1, 2, 3, 4]\n",
    "print(*a)\n",
    "\n",
    "b = [\"가\", \"나\", \"다\"]\n",
    "print(*b)"
   ]
  },
  {
   "cell_type": "code",
   "execution_count": null,
   "id": "e5ab14e6-9630-40f6-93f2-65678f89b3ec",
   "metadata": {},
   "outputs": [],
   "source": []
  }
 ],
 "metadata": {
  "kernelspec": {
   "display_name": "Python 3 (ipykernel)",
   "language": "python",
   "name": "python3"
  },
  "language_info": {
   "codemirror_mode": {
    "name": "ipython",
    "version": 3
   },
   "file_extension": ".py",
   "mimetype": "text/x-python",
   "name": "python",
   "nbconvert_exporter": "python",
   "pygments_lexer": "ipython3",
   "version": "3.7.13"
  }
 },
 "nbformat": 4,
 "nbformat_minor": 5
}
