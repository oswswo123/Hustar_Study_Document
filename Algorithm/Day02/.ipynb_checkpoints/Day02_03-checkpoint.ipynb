{
 "cells": [
  {
   "cell_type": "code",
   "execution_count": 8,
   "id": "df5e4fcf-6848-4c60-a61f-e5fa3e5c5c84",
   "metadata": {},
   "outputs": [
    {
     "name": "stdin",
     "output_type": "stream",
     "text": [
      " 3\n",
      " 1 3 -1 2 4\n"
     ]
    },
    {
     "name": "stdout",
     "output_type": "stream",
     "text": [
      "9\n"
     ]
    },
    {
     "name": "stdin",
     "output_type": "stream",
     "text": [
      " 1 -2 3 -4 5 -3 8 -9 22\n"
     ]
    },
    {
     "name": "stdout",
     "output_type": "stream",
     "text": [
      "23\n"
     ]
    },
    {
     "name": "stdin",
     "output_type": "stream",
     "text": [
      " -1 -2 -3 -4 -5\n"
     ]
    },
    {
     "name": "stdout",
     "output_type": "stream",
     "text": [
      "-1\n"
     ]
    }
   ],
   "source": [
    "# 03. 최대 합 부분 연속 수열\n",
    "\n",
    "def find_maxsum_sublist(test_list):\n",
    "    if len(test_list) <= 1:\n",
    "        return test_list[0]\n",
    "    else:\n",
    "        tail_idx = len(test_list)\n",
    "        middle_idx = tail_idx // 2\n",
    "        \n",
    "        left_maxsum = find_maxsum_sublist(test_list[0:middle_idx])\n",
    "        right_maxsum = find_maxsum_sublist(test_list[middle_idx:tail_idx])\n",
    "        \n",
    "        lmax = -99999\n",
    "        lsum = 0\n",
    "        for idx in range(middle_idx-1, -1, -1):\n",
    "            # lmax 구하기\n",
    "            lsum += test_list[idx]\n",
    "            if lmax < lsum:\n",
    "                lmax = lsum\n",
    "        \n",
    "        rmax = -99999\n",
    "        rsum = 0\n",
    "        for idx in range(middle_idx, tail_idx):\n",
    "            # rmax 구하기\n",
    "            rsum += test_list[idx]\n",
    "            if rmax < rsum:\n",
    "                rmax = rsum\n",
    "        \n",
    "        middle_maxsum = lmax + rmax\n",
    "        \n",
    "        return max([left_maxsum, right_maxsum, middle_maxsum])    \n",
    "\n",
    "num_of_testcase = int(input())\n",
    "for testcase in range(num_of_testcase):\n",
    "    test_list = list(map(int, input().split()))\n",
    "    print(find_maxsum_sublist(test_list))\n",
    "    "
   ]
  },
  {
   "cell_type": "code",
   "execution_count": null,
   "id": "d713cec9-9a7c-4dda-a4bb-69f3360fb72a",
   "metadata": {},
   "outputs": [],
   "source": []
  }
 ],
 "metadata": {
  "kernelspec": {
   "display_name": "Python 3 (ipykernel)",
   "language": "python",
   "name": "python3"
  },
  "language_info": {
   "codemirror_mode": {
    "name": "ipython",
    "version": 3
   },
   "file_extension": ".py",
   "mimetype": "text/x-python",
   "name": "python",
   "nbconvert_exporter": "python",
   "pygments_lexer": "ipython3",
   "version": "3.7.13"
  }
 },
 "nbformat": 4,
 "nbformat_minor": 5
}
