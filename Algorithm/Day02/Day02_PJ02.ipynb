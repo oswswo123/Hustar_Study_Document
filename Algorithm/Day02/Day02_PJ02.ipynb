{
 "cells": [
  {
   "cell_type": "code",
   "execution_count": 39,
   "id": "50a79186-d27f-4307-8354-97bed5162f5b",
   "metadata": {},
   "outputs": [
    {
     "name": "stdin",
     "output_type": "stream",
     "text": [
      " 3\n",
      " 2 4 6 8 10\n",
      " 1 3 7\n"
     ]
    },
    {
     "name": "stdout",
     "output_type": "stream",
     "text": [
      "2 2 6\n"
     ]
    },
    {
     "name": "stdin",
     "output_type": "stream",
     "text": [
      " 1 3 5 7\n",
      " 2 3 6\n"
     ]
    },
    {
     "name": "stdout",
     "output_type": "stream",
     "text": [
      "1 3 5\n"
     ]
    },
    {
     "name": "stdin",
     "output_type": "stream",
     "text": [
      " 3 7 11 17 21\n",
      " 9 8 4 100 16 17\n"
     ]
    },
    {
     "name": "stdout",
     "output_type": "stream",
     "text": [
      "7 7 3 21 17 17\n"
     ]
    }
   ],
   "source": [
    "# Day 02 - PJ 02. 이진 탐색 2\n",
    "\n",
    "def binary_search(test_list, search_value):\n",
    "    head_idx = 0\n",
    "    tail_idx = len(test_list) - 1\n",
    "       \n",
    "    while head_idx < tail_idx-1:\n",
    "        middle_idx = head_idx + (tail_idx - head_idx) // 2\n",
    "        if search_value <= test_list[middle_idx]:\n",
    "            tail_idx = middle_idx\n",
    "        else:\n",
    "            # search_value > test_list[middle_idx]:\n",
    "            head_idx = middle_idx\n",
    "    \n",
    "    if search_value == test_list[tail_idx]:\n",
    "        return test_list[tail_idx]\n",
    "    elif search_value == test_list[head_idx]:\n",
    "        return test_list[head_idx]\n",
    "    else:\n",
    "        return test_list[head_idx] if abs(search_value - test_list[head_idx]) <= abs(search_value - test_list[tail_idx]) else test_list[tail_idx]\n",
    "            \n",
    "\n",
    "num_of_testcase = int(input())\n",
    "for _ in range(num_of_testcase):\n",
    "    test_list = list(map(int, input().split()))\n",
    "    search_value_list = list(map(int, input().split()))\n",
    "    output_list = list()\n",
    "    for search_value in search_value_list:\n",
    "        output_list.append(binary_search(test_list, search_value))\n",
    "    \n",
    "    print(*output_list)    \n",
    "    "
   ]
  },
  {
   "cell_type": "code",
   "execution_count": null,
   "id": "7a949a10-7e36-478b-9ba9-5a92ad56e4fd",
   "metadata": {},
   "outputs": [],
   "source": []
  }
 ],
 "metadata": {
  "kernelspec": {
   "display_name": "Python 3 (ipykernel)",
   "language": "python",
   "name": "python3"
  },
  "language_info": {
   "codemirror_mode": {
    "name": "ipython",
    "version": 3
   },
   "file_extension": ".py",
   "mimetype": "text/x-python",
   "name": "python",
   "nbconvert_exporter": "python",
   "pygments_lexer": "ipython3",
   "version": "3.7.13"
  }
 },
 "nbformat": 4,
 "nbformat_minor": 5
}
