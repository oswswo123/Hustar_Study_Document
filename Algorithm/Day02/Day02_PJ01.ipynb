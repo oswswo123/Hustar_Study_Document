{
 "cells": [
  {
   "cell_type": "code",
   "execution_count": 14,
   "id": "2651399b-42b0-4705-823b-1bef776d089a",
   "metadata": {},
   "outputs": [
    {
     "name": "stdin",
     "output_type": "stream",
     "text": [
      " 3\n",
      " 2 4 6 8 10\n",
      " 1 3 5 7 9\n"
     ]
    },
    {
     "name": "stdout",
     "output_type": "stream",
     "text": [
      "2 1 2 1 2 1 2 1 2 1\n"
     ]
    },
    {
     "name": "stdin",
     "output_type": "stream",
     "text": [
      " 5 6 7 8 9\n",
      " 1 2 3 4\n"
     ]
    },
    {
     "name": "stdout",
     "output_type": "stream",
     "text": [
      "2 2 2 2 1 1 1 1 1\n"
     ]
    },
    {
     "name": "stdin",
     "output_type": "stream",
     "text": [
      " 7 9 11 21 25 30\n",
      " 5 13 14 20 27 31\n"
     ]
    },
    {
     "name": "stdout",
     "output_type": "stream",
     "text": [
      "2 1 1 1 2 2 2 1 1 2 1 2\n"
     ]
    }
   ],
   "source": [
    "# Day 02 - PJ 01. 합병 (merge)\n",
    "\n",
    "def merge(first_test_list, second_test_list):\n",
    "    temp_list = list()\n",
    "    \n",
    "    first_list_head = 0\n",
    "    first_list_tail = len(first_test_list)\n",
    "    \n",
    "    second_list_head = 0\n",
    "    second_list_tail = len(second_test_list)\n",
    "\n",
    "    while first_list_head < first_list_tail and second_list_head < second_list_tail:\n",
    "        if first_test_list[first_list_head] < second_test_list[second_list_head]:\n",
    "            # temp_list.append(first_test_list[first_list_head])\n",
    "            temp_list.append(\"1\")\n",
    "            first_list_head += 1\n",
    "        elif first_test_list[first_list_head] > second_test_list[second_list_head]:\n",
    "            # temp_list.append(second_test_list[second_list_head])\n",
    "            temp_list.append(\"2\")\n",
    "            second_list_head += 1\n",
    "        else:\n",
    "            # 조건상 일어나지 않음\n",
    "            pass\n",
    "    \n",
    "    if first_list_head >= first_list_tail:\n",
    "        for idx in range(second_list_head, second_list_tail):\n",
    "            # temp_list.append(second_test_list[idx])\n",
    "            temp_list.append(\"2\")\n",
    "    else:\n",
    "        for idx in range(first_list_head, first_list_tail):\n",
    "            # temp_list.append(first_test_list[idx])\n",
    "            temp_list.append(\"1\")\n",
    "    \n",
    "    return temp_list\n",
    "\n",
    "num_of_testcase = int(input())\n",
    "for testcase in range(num_of_testcase):\n",
    "    first_test_list = list(map(int, input().split()))\n",
    "    second_test_list = list(map(int, input().split()))\n",
    "    print(*merge(first_test_list, second_test_list))"
   ]
  },
  {
   "cell_type": "code",
   "execution_count": null,
   "id": "0737f1a8-ca96-41dc-af1c-92b8de0c4123",
   "metadata": {},
   "outputs": [],
   "source": []
  }
 ],
 "metadata": {
  "kernelspec": {
   "display_name": "Python 3 (ipykernel)",
   "language": "python",
   "name": "python3"
  },
  "language_info": {
   "codemirror_mode": {
    "name": "ipython",
    "version": 3
   },
   "file_extension": ".py",
   "mimetype": "text/x-python",
   "name": "python",
   "nbconvert_exporter": "python",
   "pygments_lexer": "ipython3",
   "version": "3.7.13"
  }
 },
 "nbformat": 4,
 "nbformat_minor": 5
}
