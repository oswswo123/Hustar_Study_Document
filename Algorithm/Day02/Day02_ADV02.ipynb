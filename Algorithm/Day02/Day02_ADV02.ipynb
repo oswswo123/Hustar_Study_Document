{
 "cells": [
  {
   "cell_type": "code",
   "execution_count": 51,
   "id": "05faddce-54cb-4daf-9997-283fbd437773",
   "metadata": {},
   "outputs": [
    {
     "name": "stdin",
     "output_type": "stream",
     "text": [
      " 2\n",
      " 3\n",
      " 3 0\n",
      " 2 0\n",
      " 1 0\n"
     ]
    },
    {
     "name": "stdout",
     "output_type": "stream",
     "text": [
      "1\n"
     ]
    },
    {
     "name": "stdin",
     "output_type": "stream",
     "text": [
      " 3\n",
      " 5 7\n",
      " 10 2\n",
      " 11 3\n"
     ]
    },
    {
     "name": "stdout",
     "output_type": "stream",
     "text": [
      "2\n"
     ]
    }
   ],
   "source": [
    "# ADV 02. 가장 가까운 두 점\n",
    "\n",
    "def calculate_l1dist(first_dot, second_dot):\n",
    "    return abs(first_dot[0] - second_dot[0]) + abs(first_dot[1] - second_dot[1])\n",
    "\n",
    "def find_min_l1dist(dot_list, head_idx, tail_idx):\n",
    "    if head_idx == tail_idx:\n",
    "        return 999999\n",
    "    \n",
    "    if tail_idx - head_idx == 1:\n",
    "        return calculate_l1dist(dot_list[head_idx], dot_list[tail_idx])\n",
    "    \n",
    "    middle_idx = (head_idx + tail_idx) // 2\n",
    "    temp_min_l1dist = min(find_min_l1dist(dot_list, head_idx, middle_idx), find_min_l1dist(dot_list, middle_idx, tail_idx))\n",
    "    \n",
    "    middle_dot = list()\n",
    "    for idx in range(head_idx, tail_idx):\n",
    "        if abs(dot_list[idx][0] - dot_list[middle_idx][0]) < temp_min_l1dist:\n",
    "            middle_dot.append(dot_list[idx])\n",
    "    \n",
    "    middle_dot = sorted(middle_dot, key=lambda x:x[1])\n",
    "    for first_idx in range(len(middle_dot)-1):\n",
    "        for second_idx in range(first_idx+1, len(middle_dot)):\n",
    "            if abs(middle_dot[first_idx][1] - middle_dot[second_idx][1]) < temp_min_l1dist:\n",
    "                temp_min_l1dist = min(calculate_l1dist(middle_dot[first_idx], middle_dot[second_idx]), temp_min_l1dist)\n",
    "            else:\n",
    "                break\n",
    "    \n",
    "    return temp_min_l1dist\n",
    "\n",
    "num_of_testcase = int(input())\n",
    "for _ in range(num_of_testcase):\n",
    "    num_of_dot = int(input())\n",
    "    dot_list = list()\n",
    "    \n",
    "    for _ in range(num_of_dot):\n",
    "        dot_list.append(tuple(map(int, input().split())))\n",
    "    \n",
    "    dot_list = sorted(dot_list, key=lambda x:x[0])\n",
    "    min_l1dist = find_min_l1dist(dot_list, 0, len(dot_list)-1)\n",
    "    \n",
    "    print(min_l1dist)"
   ]
  },
  {
   "cell_type": "code",
   "execution_count": null,
   "id": "ba4c1d12-4df8-4ad6-8d2c-9553b56b7d35",
   "metadata": {},
   "outputs": [],
   "source": [
    "2\n",
    "3\n",
    "3 0\n",
    "2 0\n",
    "1 0\n",
    "3\n",
    "5 7\n",
    "10 2\n",
    "11 3"
   ]
  },
  {
   "cell_type": "code",
   "execution_count": 41,
   "id": "12f88af0-5966-4605-9f0d-5583c0691d0f",
   "metadata": {},
   "outputs": [
    {
     "name": "stdout",
     "output_type": "stream",
     "text": [
      "4\n",
      "1\n"
     ]
    }
   ],
   "source": [
    "import bisect\n",
    "\n",
    "class KeyifyList(object):\n",
    "    def __init__(self, inner, key):\n",
    "        self.inner = inner\n",
    "        self.key = key\n",
    "\n",
    "    def __len__(self):\n",
    "        return len(self.inner)\n",
    "\n",
    "    def __getitem__(self, k):\n",
    "        return self.key(self.inner[k])\n",
    "\n",
    "temp_list = [(0, 0), (1, 5), (2, 10), (3, 15), (4, 20)]\n",
    "print(bisect.bisect_right(KeyifyList(L, lambda x: x[0]), 3))\n",
    "print(bisect.bisect_left(KeyifyList(L, lambda x: x[1]), 3))"
   ]
  },
  {
   "cell_type": "code",
   "execution_count": null,
   "id": "c3f164e1-bb64-4223-9b2f-5346a5820594",
   "metadata": {},
   "outputs": [],
   "source": []
  }
 ],
 "metadata": {
  "kernelspec": {
   "display_name": "Python 3 (ipykernel)",
   "language": "python",
   "name": "python3"
  },
  "language_info": {
   "codemirror_mode": {
    "name": "ipython",
    "version": 3
   },
   "file_extension": ".py",
   "mimetype": "text/x-python",
   "name": "python",
   "nbconvert_exporter": "python",
   "pygments_lexer": "ipython3",
   "version": "3.7.13"
  }
 },
 "nbformat": 4,
 "nbformat_minor": 5
}
