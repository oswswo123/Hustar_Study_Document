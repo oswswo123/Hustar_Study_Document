{
 "cells": [
  {
   "cell_type": "code",
   "execution_count": 14,
   "id": "ce8176d3-9458-4606-b506-4af78be24502",
   "metadata": {},
   "outputs": [
    {
     "name": "stdin",
     "output_type": "stream",
     "text": [
      " 3\n",
      " 2 10 77777\n"
     ]
    },
    {
     "name": "stdout",
     "output_type": "stream",
     "text": [
      "1024\n"
     ]
    },
    {
     "name": "stdin",
     "output_type": "stream",
     "text": [
      " 3000 0 3\n"
     ]
    },
    {
     "name": "stdout",
     "output_type": "stream",
     "text": [
      "1\n"
     ]
    },
    {
     "name": "stdin",
     "output_type": "stream",
     "text": [
      " 10000 4 2020207\n"
     ]
    },
    {
     "name": "stdout",
     "output_type": "stream",
     "text": [
      "565814\n"
     ]
    }
   ],
   "source": [
    "# 01. n^k mod m 효율적으로 계산하기\n",
    "def calculate_modular(n, k, m):\n",
    "    if k == 0:\n",
    "        return 1\n",
    "    elif k == 1:\n",
    "        return n % m\n",
    "    else:\n",
    "        x = calculate_modular(n, k//2, m)\n",
    "    \n",
    "        if k%2 == 0:\n",
    "            # even\n",
    "            return (x * x) % m\n",
    "        else:\n",
    "            # odd\n",
    "            return (x * x * n) % m\n",
    "\n",
    "num_of_testcase = int(input())\n",
    "for testcase in range(num_of_testcase):\n",
    "    n, k, m = list(map(int, input().split()))\n",
    "    print(calculate_modular(n, k, m))"
   ]
  },
  {
   "cell_type": "code",
   "execution_count": 5,
   "id": "4aaef7e9-3bb9-4288-903f-aef25e24f60c",
   "metadata": {},
   "outputs": [
    {
     "name": "stdout",
     "output_type": "stream",
     "text": [
      "1024\n",
      "1\n",
      "565814\n"
     ]
    }
   ],
   "source": [
    "print(2**10 % 77777)\n",
    "print(3000**0 % 3)\n",
    "print(10000**4 % 2020207)"
   ]
  },
  {
   "cell_type": "code",
   "execution_count": null,
   "id": "845d3d86-b1f1-46cf-80f9-e29db8202692",
   "metadata": {},
   "outputs": [],
   "source": []
  }
 ],
 "metadata": {
  "kernelspec": {
   "display_name": "Python 3 (ipykernel)",
   "language": "python",
   "name": "python3"
  },
  "language_info": {
   "codemirror_mode": {
    "name": "ipython",
    "version": 3
   },
   "file_extension": ".py",
   "mimetype": "text/x-python",
   "name": "python",
   "nbconvert_exporter": "python",
   "pygments_lexer": "ipython3",
   "version": "3.7.13"
  }
 },
 "nbformat": 4,
 "nbformat_minor": 5
}
