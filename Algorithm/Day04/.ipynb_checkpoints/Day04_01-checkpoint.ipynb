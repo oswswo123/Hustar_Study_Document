{
 "cells": [
  {
   "cell_type": "code",
   "execution_count": null,
   "id": "26cedd55-2033-4c6a-af6a-88a60695ef0c",
   "metadata": {},
   "outputs": [],
   "source": [
    "# 01. 세금징수\n",
    "\n",
    "def tax_calculate(tax):\n",
    "    num_of_coin = 0\n",
    "    coin_list = [50000, 10000, 5000, 1000, 500, 100]\n",
    "    for coin in coin_list:\n",
    "        num_of_coin += tax // coin\n",
    "        tax %= coin\n",
    "    \n",
    "    return num_of_coin\n",
    "\n",
    "def main():\n",
    "    num_of_testcase = int(input())\n",
    "    for _ in range(num_of_testcase):\n",
    "        print(tax_calculate(int(input())))\n",
    "\n",
    "if __name__ == \"__main__\":\n",
    "    main()"
   ]
  }
 ],
 "metadata": {
  "kernelspec": {
   "display_name": "Python 3 (ipykernel)",
   "language": "python",
   "name": "python3"
  },
  "language_info": {
   "codemirror_mode": {
    "name": "ipython",
    "version": 3
   },
   "file_extension": ".py",
   "mimetype": "text/x-python",
   "name": "python",
   "nbconvert_exporter": "python",
   "pygments_lexer": "ipython3",
   "version": "3.7.13"
  }
 },
 "nbformat": 4,
 "nbformat_minor": 5
}
