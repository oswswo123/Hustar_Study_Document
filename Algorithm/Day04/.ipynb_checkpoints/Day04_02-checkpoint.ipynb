{
 "cells": [
  {
   "cell_type": "code",
   "execution_count": null,
   "id": "c4eea684-2dfb-43ba-8007-38b7c145bc61",
   "metadata": {},
   "outputs": [],
   "source": [
    "# 02. 무거운 용액\n",
    "\n",
    "def calculate_heavy_liquid(liquid_list, liquid_volumn):\n",
    "    most_heavy_mass = 0\n",
    "    liquid_list = sorted(liquid_list, key=lambda x:x[0])\n",
    "    \n",
    "    while liquid_volumn > 0:\n",
    "        check_liquid = liquid_list.pop()\n",
    "        if check_liquid[2] > liquid_volumn:\n",
    "            most_heavy_mass += (check_liquid[0] * liquid_volumn)\n",
    "            liquid_volumn = 0            \n",
    "        else:\n",
    "            most_heavy_mass += (check_liquid[0] * check_liquid[2])\n",
    "            liquid_volumn -= check_liquid[2]            \n",
    "    \n",
    "    return int(most_heavy_mass)\n",
    "\n",
    "def main():\n",
    "    num_of_testcase = int(input())\n",
    "    for _ in range(num_of_testcase):\n",
    "        num_of_liquid, liquid_volumn = tuple(map(int, input().split()))\n",
    "        liquid_list = list()\n",
    "        \n",
    "        for _ in range(num_of_liquid):\n",
    "            mass, volumn = tuple(map(int, input().split()))\n",
    "            liquid_list.append((mass/volumn, mass, volumn))\n",
    "        \n",
    "        print(calculate_heavy_liquid(liquid_list, liquid_volumn))\n",
    "\n",
    "if __name__ == \"__main__\":\n",
    "    main()"
   ]
  }
 ],
 "metadata": {
  "kernelspec": {
   "display_name": "Python 3 (ipykernel)",
   "language": "python",
   "name": "python3"
  },
  "language_info": {
   "codemirror_mode": {
    "name": "ipython",
    "version": 3
   },
   "file_extension": ".py",
   "mimetype": "text/x-python",
   "name": "python",
   "nbconvert_exporter": "python",
   "pygments_lexer": "ipython3",
   "version": "3.7.13"
  }
 },
 "nbformat": 4,
 "nbformat_minor": 5
}
