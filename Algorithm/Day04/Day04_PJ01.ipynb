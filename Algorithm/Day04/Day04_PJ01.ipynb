{
 "cells": [
  {
   "cell_type": "code",
   "execution_count": null,
   "id": "fb4e02df-7502-4d70-a218-aaf8ebe7deb7",
   "metadata": {},
   "outputs": [],
   "source": [
    "# Day 04 - PJ 01. 부산에서 서울로\n",
    "\n",
    "def check_can_go(oil_capacity, gas_station_list):\n",
    "    now_position = 0\n",
    "    visited_list = [0]\n",
    "    \n",
    "    while now_position < len(gas_station_list)-1:\n",
    "        check_position = now_position + 1\n",
    "        if gas_station_list[check_position] - gas_station_list[now_position] > oil_capacity:\n",
    "            break\n",
    "        else:\n",
    "            while check_position < len(gas_station_list)-1:\n",
    "                if gas_station_list[check_position+1] - gas_station_list[now_position] <= oil_capacity:\n",
    "                    check_position += 1\n",
    "                else:\n",
    "                    break\n",
    "            now_position = check_position\n",
    "            visited_list.append(gas_station_list[now_position])\n",
    "\n",
    "    if visited_list[-1] == gas_station_list[-1]:\n",
    "        return len(visited_list[1:-1])\n",
    "    else:\n",
    "        return -1\n",
    "\n",
    "def main():\n",
    "    num_of_testcase = int(input())\n",
    "    for _ in range(num_of_testcase):\n",
    "        oil_capacity, b_to_s_distance = tuple(map(int, input().split()))\n",
    "        gas_station_list = list(map(int, input().split()))\n",
    "        gas_station_list.insert(0, 0)\n",
    "        gas_station_list.append(b_to_s_distance)\n",
    "        print(check_can_go(oil_capacity, gas_station_list))\n",
    "        \n",
    "\n",
    "if __name__ == \"__main__\":\n",
    "    main()"
   ]
  }
 ],
 "metadata": {
  "kernelspec": {
   "display_name": "",
   "name": ""
  },
  "language_info": {
   "name": ""
  }
 },
 "nbformat": 4,
 "nbformat_minor": 5
}
