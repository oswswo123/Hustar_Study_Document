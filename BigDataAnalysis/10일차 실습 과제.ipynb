{
 "cells": [
  {
   "cell_type": "code",
   "execution_count": null,
   "id": "7d43d3fd-4c85-4c6b-8b55-d002e0cd7967",
   "metadata": {},
   "outputs": [],
   "source": []
  },
  {
   "cell_type": "code",
   "execution_count": 1,
   "id": "shared-trash",
   "metadata": {},
   "outputs": [],
   "source": [
    "import numpy as np\n",
    "import pandas as pd\n",
    "from sklearn.linear_model import LinearRegression\n",
    "from sklearn.metrics import mean_squared_error, r2_score\n",
    "import matplotlib.pyplot as plt\n",
    "from sklearn.preprocessing import scale\n",
    "from sklearn.decomposition import PCA\n",
    "from sklearn.model_selection import cross_val_score"
   ]
  },
  {
   "cell_type": "markdown",
   "id": "permanent-beverage",
   "metadata": {},
   "source": [
    "### 실습 과제 1. Boston_house_small 데이터를 활용한 PCA + regression 실습\n",
    "\n",
    "#### 1) 데이터 불러온 후 train_data : test_data = 7:3 split, random_state=10\n",
    "** 종속변수는 ‘Target', 독립변수는 나머지 변수"
   ]
  },
  {
   "cell_type": "code",
   "execution_count": 31,
   "id": "analyzed-familiar",
   "metadata": {},
   "outputs": [
    {
     "data": {
      "text/plain": [
       "(60, 14)"
      ]
     },
     "execution_count": 31,
     "metadata": {},
     "output_type": "execute_result"
    }
   ],
   "source": [
    "df = pd.read_csv(\"./data/Boston_house_small.csv\")\n",
    "\n",
    "df.shape"
   ]
  },
  {
   "cell_type": "code",
   "execution_count": 32,
   "id": "353de40e-618a-42e7-999a-f06cccc57a02",
   "metadata": {},
   "outputs": [
    {
     "data": {
      "text/html": [
       "<div>\n",
       "<style scoped>\n",
       "    .dataframe tbody tr th:only-of-type {\n",
       "        vertical-align: middle;\n",
       "    }\n",
       "\n",
       "    .dataframe tbody tr th {\n",
       "        vertical-align: top;\n",
       "    }\n",
       "\n",
       "    .dataframe thead th {\n",
       "        text-align: right;\n",
       "    }\n",
       "</style>\n",
       "<table border=\"1\" class=\"dataframe\">\n",
       "  <thead>\n",
       "    <tr style=\"text-align: right;\">\n",
       "      <th></th>\n",
       "      <th>AGE</th>\n",
       "      <th>B</th>\n",
       "      <th>RM</th>\n",
       "      <th>CRIM</th>\n",
       "      <th>DIS</th>\n",
       "      <th>INDUS</th>\n",
       "      <th>LSTAT</th>\n",
       "      <th>NOX</th>\n",
       "      <th>PTRATIO</th>\n",
       "      <th>RAD</th>\n",
       "      <th>ZN</th>\n",
       "      <th>TAX</th>\n",
       "      <th>CHAS</th>\n",
       "      <th>Target</th>\n",
       "    </tr>\n",
       "  </thead>\n",
       "  <tbody>\n",
       "    <tr>\n",
       "      <th>0</th>\n",
       "      <td>40.3</td>\n",
       "      <td>392.92</td>\n",
       "      <td>5.762</td>\n",
       "      <td>2.81838</td>\n",
       "      <td>4.0983</td>\n",
       "      <td>18.10</td>\n",
       "      <td>10.42</td>\n",
       "      <td>0.532</td>\n",
       "      <td>20.2</td>\n",
       "      <td>24</td>\n",
       "      <td>0.0</td>\n",
       "      <td>666</td>\n",
       "      <td>0</td>\n",
       "      <td>21.8</td>\n",
       "    </tr>\n",
       "    <tr>\n",
       "      <th>1</th>\n",
       "      <td>59.7</td>\n",
       "      <td>24.65</td>\n",
       "      <td>5.837</td>\n",
       "      <td>12.24720</td>\n",
       "      <td>1.9976</td>\n",
       "      <td>18.10</td>\n",
       "      <td>15.69</td>\n",
       "      <td>0.584</td>\n",
       "      <td>20.2</td>\n",
       "      <td>24</td>\n",
       "      <td>0.0</td>\n",
       "      <td>666</td>\n",
       "      <td>0</td>\n",
       "      <td>10.2</td>\n",
       "    </tr>\n",
       "    <tr>\n",
       "      <th>2</th>\n",
       "      <td>91.7</td>\n",
       "      <td>396.90</td>\n",
       "      <td>6.142</td>\n",
       "      <td>1.23247</td>\n",
       "      <td>3.9769</td>\n",
       "      <td>8.14</td>\n",
       "      <td>18.72</td>\n",
       "      <td>0.538</td>\n",
       "      <td>21.0</td>\n",
       "      <td>4</td>\n",
       "      <td>0.0</td>\n",
       "      <td>307</td>\n",
       "      <td>0</td>\n",
       "      <td>15.2</td>\n",
       "    </tr>\n",
       "    <tr>\n",
       "      <th>3</th>\n",
       "      <td>52.6</td>\n",
       "      <td>390.30</td>\n",
       "      <td>7.470</td>\n",
       "      <td>0.54050</td>\n",
       "      <td>2.8720</td>\n",
       "      <td>3.97</td>\n",
       "      <td>3.16</td>\n",
       "      <td>0.575</td>\n",
       "      <td>13.0</td>\n",
       "      <td>5</td>\n",
       "      <td>20.0</td>\n",
       "      <td>264</td>\n",
       "      <td>0</td>\n",
       "      <td>43.5</td>\n",
       "    </tr>\n",
       "    <tr>\n",
       "      <th>4</th>\n",
       "      <td>100.0</td>\n",
       "      <td>366.15</td>\n",
       "      <td>6.216</td>\n",
       "      <td>9.23230</td>\n",
       "      <td>1.1691</td>\n",
       "      <td>18.10</td>\n",
       "      <td>9.53</td>\n",
       "      <td>0.631</td>\n",
       "      <td>20.2</td>\n",
       "      <td>24</td>\n",
       "      <td>0.0</td>\n",
       "      <td>666</td>\n",
       "      <td>0</td>\n",
       "      <td>50.0</td>\n",
       "    </tr>\n",
       "  </tbody>\n",
       "</table>\n",
       "</div>"
      ],
      "text/plain": [
       "     AGE       B     RM      CRIM     DIS  INDUS  LSTAT    NOX  PTRATIO  RAD  \\\n",
       "0   40.3  392.92  5.762   2.81838  4.0983  18.10  10.42  0.532     20.2   24   \n",
       "1   59.7   24.65  5.837  12.24720  1.9976  18.10  15.69  0.584     20.2   24   \n",
       "2   91.7  396.90  6.142   1.23247  3.9769   8.14  18.72  0.538     21.0    4   \n",
       "3   52.6  390.30  7.470   0.54050  2.8720   3.97   3.16  0.575     13.0    5   \n",
       "4  100.0  366.15  6.216   9.23230  1.1691  18.10   9.53  0.631     20.2   24   \n",
       "\n",
       "     ZN  TAX  CHAS  Target  \n",
       "0   0.0  666     0    21.8  \n",
       "1   0.0  666     0    10.2  \n",
       "2   0.0  307     0    15.2  \n",
       "3  20.0  264     0    43.5  \n",
       "4   0.0  666     0    50.0  "
      ]
     },
     "execution_count": 32,
     "metadata": {},
     "output_type": "execute_result"
    }
   ],
   "source": [
    "df.head()"
   ]
  },
  {
   "cell_type": "code",
   "execution_count": 33,
   "id": "aadd1146-f63e-4cdf-8ccc-43ebcca8bdfe",
   "metadata": {},
   "outputs": [
    {
     "data": {
      "text/html": [
       "<div>\n",
       "<style scoped>\n",
       "    .dataframe tbody tr th:only-of-type {\n",
       "        vertical-align: middle;\n",
       "    }\n",
       "\n",
       "    .dataframe tbody tr th {\n",
       "        vertical-align: top;\n",
       "    }\n",
       "\n",
       "    .dataframe thead th {\n",
       "        text-align: right;\n",
       "    }\n",
       "</style>\n",
       "<table border=\"1\" class=\"dataframe\">\n",
       "  <thead>\n",
       "    <tr style=\"text-align: right;\">\n",
       "      <th></th>\n",
       "      <th>AGE</th>\n",
       "      <th>B</th>\n",
       "      <th>RM</th>\n",
       "      <th>CRIM</th>\n",
       "      <th>DIS</th>\n",
       "      <th>INDUS</th>\n",
       "      <th>LSTAT</th>\n",
       "      <th>NOX</th>\n",
       "      <th>PTRATIO</th>\n",
       "      <th>RAD</th>\n",
       "      <th>ZN</th>\n",
       "      <th>TAX</th>\n",
       "      <th>CHAS</th>\n",
       "      <th>Target</th>\n",
       "    </tr>\n",
       "  </thead>\n",
       "  <tbody>\n",
       "    <tr>\n",
       "      <th>count</th>\n",
       "      <td>60.000000</td>\n",
       "      <td>60.000000</td>\n",
       "      <td>60.000000</td>\n",
       "      <td>60.000000</td>\n",
       "      <td>60.000000</td>\n",
       "      <td>60.000000</td>\n",
       "      <td>60.000000</td>\n",
       "      <td>60.000000</td>\n",
       "      <td>60.000000</td>\n",
       "      <td>60.000000</td>\n",
       "      <td>60.000000</td>\n",
       "      <td>60.000000</td>\n",
       "      <td>60.000000</td>\n",
       "      <td>60.000000</td>\n",
       "    </tr>\n",
       "    <tr>\n",
       "      <th>mean</th>\n",
       "      <td>68.041667</td>\n",
       "      <td>354.305333</td>\n",
       "      <td>6.318433</td>\n",
       "      <td>3.102863</td>\n",
       "      <td>3.901313</td>\n",
       "      <td>10.775833</td>\n",
       "      <td>12.076167</td>\n",
       "      <td>0.552950</td>\n",
       "      <td>18.691667</td>\n",
       "      <td>9.950000</td>\n",
       "      <td>9.983333</td>\n",
       "      <td>410.116667</td>\n",
       "      <td>0.033333</td>\n",
       "      <td>22.955000</td>\n",
       "    </tr>\n",
       "    <tr>\n",
       "      <th>std</th>\n",
       "      <td>27.135150</td>\n",
       "      <td>91.194366</td>\n",
       "      <td>0.699257</td>\n",
       "      <td>5.540228</td>\n",
       "      <td>2.326631</td>\n",
       "      <td>7.016623</td>\n",
       "      <td>6.163047</td>\n",
       "      <td>0.106549</td>\n",
       "      <td>1.970829</td>\n",
       "      <td>9.018672</td>\n",
       "      <td>23.614303</td>\n",
       "      <td>180.034280</td>\n",
       "      <td>0.181020</td>\n",
       "      <td>10.373098</td>\n",
       "    </tr>\n",
       "    <tr>\n",
       "      <th>min</th>\n",
       "      <td>6.500000</td>\n",
       "      <td>10.480000</td>\n",
       "      <td>5.155000</td>\n",
       "      <td>0.014320</td>\n",
       "      <td>1.169100</td>\n",
       "      <td>1.320000</td>\n",
       "      <td>2.470000</td>\n",
       "      <td>0.398000</td>\n",
       "      <td>13.000000</td>\n",
       "      <td>2.000000</td>\n",
       "      <td>0.000000</td>\n",
       "      <td>187.000000</td>\n",
       "      <td>0.000000</td>\n",
       "      <td>7.000000</td>\n",
       "    </tr>\n",
       "    <tr>\n",
       "      <th>25%</th>\n",
       "      <td>52.400000</td>\n",
       "      <td>374.197500</td>\n",
       "      <td>5.866500</td>\n",
       "      <td>0.128445</td>\n",
       "      <td>2.260625</td>\n",
       "      <td>5.130000</td>\n",
       "      <td>6.632500</td>\n",
       "      <td>0.462500</td>\n",
       "      <td>17.875000</td>\n",
       "      <td>4.000000</td>\n",
       "      <td>0.000000</td>\n",
       "      <td>276.000000</td>\n",
       "      <td>0.000000</td>\n",
       "      <td>16.225000</td>\n",
       "    </tr>\n",
       "    <tr>\n",
       "      <th>50%</th>\n",
       "      <td>71.650000</td>\n",
       "      <td>392.080000</td>\n",
       "      <td>6.177000</td>\n",
       "      <td>0.289365</td>\n",
       "      <td>3.290150</td>\n",
       "      <td>8.140000</td>\n",
       "      <td>12.830000</td>\n",
       "      <td>0.538000</td>\n",
       "      <td>19.150000</td>\n",
       "      <td>5.000000</td>\n",
       "      <td>0.000000</td>\n",
       "      <td>320.500000</td>\n",
       "      <td>0.000000</td>\n",
       "      <td>21.250000</td>\n",
       "    </tr>\n",
       "    <tr>\n",
       "      <th>75%</th>\n",
       "      <td>90.950000</td>\n",
       "      <td>396.900000</td>\n",
       "      <td>6.565000</td>\n",
       "      <td>4.094135</td>\n",
       "      <td>4.575800</td>\n",
       "      <td>18.100000</td>\n",
       "      <td>15.715000</td>\n",
       "      <td>0.616500</td>\n",
       "      <td>20.200000</td>\n",
       "      <td>24.000000</td>\n",
       "      <td>0.000000</td>\n",
       "      <td>666.000000</td>\n",
       "      <td>0.000000</td>\n",
       "      <td>24.850000</td>\n",
       "    </tr>\n",
       "    <tr>\n",
       "      <th>max</th>\n",
       "      <td>100.000000</td>\n",
       "      <td>396.900000</td>\n",
       "      <td>8.337000</td>\n",
       "      <td>28.655800</td>\n",
       "      <td>12.126500</td>\n",
       "      <td>27.740000</td>\n",
       "      <td>30.810000</td>\n",
       "      <td>0.871000</td>\n",
       "      <td>21.200000</td>\n",
       "      <td>24.000000</td>\n",
       "      <td>100.000000</td>\n",
       "      <td>711.000000</td>\n",
       "      <td>1.000000</td>\n",
       "      <td>50.000000</td>\n",
       "    </tr>\n",
       "  </tbody>\n",
       "</table>\n",
       "</div>"
      ],
      "text/plain": [
       "              AGE           B         RM       CRIM        DIS      INDUS  \\\n",
       "count   60.000000   60.000000  60.000000  60.000000  60.000000  60.000000   \n",
       "mean    68.041667  354.305333   6.318433   3.102863   3.901313  10.775833   \n",
       "std     27.135150   91.194366   0.699257   5.540228   2.326631   7.016623   \n",
       "min      6.500000   10.480000   5.155000   0.014320   1.169100   1.320000   \n",
       "25%     52.400000  374.197500   5.866500   0.128445   2.260625   5.130000   \n",
       "50%     71.650000  392.080000   6.177000   0.289365   3.290150   8.140000   \n",
       "75%     90.950000  396.900000   6.565000   4.094135   4.575800  18.100000   \n",
       "max    100.000000  396.900000   8.337000  28.655800  12.126500  27.740000   \n",
       "\n",
       "           LSTAT        NOX    PTRATIO        RAD          ZN         TAX  \\\n",
       "count  60.000000  60.000000  60.000000  60.000000   60.000000   60.000000   \n",
       "mean   12.076167   0.552950  18.691667   9.950000    9.983333  410.116667   \n",
       "std     6.163047   0.106549   1.970829   9.018672   23.614303  180.034280   \n",
       "min     2.470000   0.398000  13.000000   2.000000    0.000000  187.000000   \n",
       "25%     6.632500   0.462500  17.875000   4.000000    0.000000  276.000000   \n",
       "50%    12.830000   0.538000  19.150000   5.000000    0.000000  320.500000   \n",
       "75%    15.715000   0.616500  20.200000  24.000000    0.000000  666.000000   \n",
       "max    30.810000   0.871000  21.200000  24.000000  100.000000  711.000000   \n",
       "\n",
       "            CHAS     Target  \n",
       "count  60.000000  60.000000  \n",
       "mean    0.033333  22.955000  \n",
       "std     0.181020  10.373098  \n",
       "min     0.000000   7.000000  \n",
       "25%     0.000000  16.225000  \n",
       "50%     0.000000  21.250000  \n",
       "75%     0.000000  24.850000  \n",
       "max     1.000000  50.000000  "
      ]
     },
     "execution_count": 33,
     "metadata": {},
     "output_type": "execute_result"
    }
   ],
   "source": [
    "df.describe(include=\"all\")"
   ]
  },
  {
   "cell_type": "code",
   "execution_count": 34,
   "id": "1d64178c-46f9-4cb7-aeb3-5b69b778bdf4",
   "metadata": {},
   "outputs": [
    {
     "name": "stdout",
     "output_type": "stream",
     "text": [
      "<class 'pandas.core.frame.DataFrame'>\n",
      "RangeIndex: 60 entries, 0 to 59\n",
      "Data columns (total 14 columns):\n",
      " #   Column   Non-Null Count  Dtype  \n",
      "---  ------   --------------  -----  \n",
      " 0   AGE      60 non-null     float64\n",
      " 1   B        60 non-null     float64\n",
      " 2   RM       60 non-null     float64\n",
      " 3   CRIM     60 non-null     float64\n",
      " 4   DIS      60 non-null     float64\n",
      " 5   INDUS    60 non-null     float64\n",
      " 6   LSTAT    60 non-null     float64\n",
      " 7   NOX      60 non-null     float64\n",
      " 8   PTRATIO  60 non-null     float64\n",
      " 9   RAD      60 non-null     int64  \n",
      " 10  ZN       60 non-null     float64\n",
      " 11  TAX      60 non-null     int64  \n",
      " 12  CHAS     60 non-null     int64  \n",
      " 13  Target   60 non-null     float64\n",
      "dtypes: float64(11), int64(3)\n",
      "memory usage: 6.7 KB\n"
     ]
    }
   ],
   "source": [
    "df.info()"
   ]
  },
  {
   "cell_type": "code",
   "execution_count": 35,
   "id": "ec789357-4451-46f3-9bed-7527268b8f2e",
   "metadata": {},
   "outputs": [
    {
     "name": "stdout",
     "output_type": "stream",
     "text": [
      "(42, 13) (18, 13) (42,) (18,)\n"
     ]
    }
   ],
   "source": [
    "from sklearn.model_selection import train_test_split\n",
    "\n",
    "X = df.drop(labels=\"Target\", axis=1)\n",
    "Y = df[\"Target\"]\n",
    "\n",
    "X_train, X_test, Y_train, Y_test = train_test_split(X, Y, test_size=0.3, random_state=10)\n",
    "print(X_train.shape, X_test.shape, Y_train.shape, Y_test.shape)"
   ]
  },
  {
   "cell_type": "markdown",
   "id": "configured-radiation",
   "metadata": {},
   "source": [
    "#### 2) PCA 수행해서 주성분(principal component) 개수에 따른 mean squared Error 그래프 그리고, principal component 개수에 따른 PCA의 explained_variance_ratio 구하기\n",
    "**cross_val_score 함수 이용해서(cv=5) principal component 5개까지 mean squared error 구하기\n",
    " "
   ]
  },
  {
   "cell_type": "code",
   "execution_count": 36,
   "id": "plain-engagement",
   "metadata": {},
   "outputs": [
    {
     "data": {
      "text/plain": [
       "Text(0.5, 1.0, 'hp')"
      ]
     },
     "execution_count": 36,
     "metadata": {},
     "output_type": "execute_result"
    },
    {
     "data": {
      "image/png": "[encoded data removed]",
      "text/plain": [
       "<Figure size 432x288 with 1 Axes>"
      ]
     },
     "metadata": {
      "needs_background": "light"
     },
     "output_type": "display_data"
    }
   ],
   "source": [
    "from sklearn import svm\n",
    "\n",
    "pca = PCA()\n",
    "\n",
    "mse_list = list()\n",
    "X_train_pca = pca.fit_transform(scale(X_train))\n",
    "\n",
    "for idx in np.arange(1, 6):\n",
    "    score = -1 * cross_val_score(svm.SVR(),\n",
    "                                 X_train_pca[:, :idx], Y_train, \n",
    "                                 cv=5, scoring=\"neg_mean_squared_error\").mean()\n",
    "    mse_list.append(score)\n",
    "\n",
    "num_pca = np.arange(1, 6)\n",
    "plt.plot(num_pca, mse_list)\n",
    "plt.xlabel(\"Number of Principal Components\")\n",
    "plt.ylabel(\"MSE\")\n",
    "plt.title(\"hp\")"
   ]
  },
  {
   "cell_type": "code",
   "execution_count": 37,
   "id": "79cf37c0-65d3-4ec6-865d-6c5cb11d7e14",
   "metadata": {},
   "outputs": [
    {
     "name": "stdout",
     "output_type": "stream",
     "text": [
      "Explaned variance per principal component: [0.4903983  0.10552172 0.08436537 0.07794373 0.06522836 0.05725848\n",
      " 0.04260774 0.02852523 0.01583058 0.01303964 0.01268944 0.00498424\n",
      " 0.00160716]\n",
      "Cumulative sum: [ 49.03983021  59.59200251  68.0285391   75.82291215  82.34574858\n",
      "  88.07159624  92.3323699   95.18489305  96.76795114  98.07191534\n",
      "  99.34085954  99.83928368 100.        ]\n"
     ]
    }
   ],
   "source": [
    "print(\"Explaned variance per principal component: {}\".format(pca.explained_variance_ratio_))\n",
    "print(\"Cumulative sum: {}\".format(np.cumsum(np.round(pca.explained_variance_ratio_, decimals=13) * 100)))"
   ]
  },
  {
   "cell_type": "markdown",
   "id": "breeding-mouse",
   "metadata": {},
   "source": [
    "#### 3) 가장 작은 mean squared error 가지는 주성분 개수로  PCA 수행하고, regression을 하기. 검증 데이터(test data)에 대한 mean squared error 구하고,  모델의 R^2 구하기"
   ]
  },
  {
   "cell_type": "code",
   "execution_count": 38,
   "id": "soviet-senegal",
   "metadata": {},
   "outputs": [
    {
     "data": {
      "text/plain": [
       "GridSearchCV(cv=5, estimator=SVR(),\n",
       "             param_grid={'C': [0.01, 0.1, 0.5, 1, 10, 100],\n",
       "                         'gamma': [1, 0.75, 0.5, 0.25, 0.1, 0.01, 0.001],\n",
       "                         'kernel': ['rbf', 'poly', 'linear']},\n",
       "             return_train_score=True)"
      ]
     },
     "execution_count": 38,
     "metadata": {},
     "output_type": "execute_result"
    }
   ],
   "source": [
    "from sklearn.model_selection import GridSearchCV\n",
    "\n",
    "pca_optimal = PCA(n_components=2)\n",
    "\n",
    "X_train_pca = pca_optimal.fit_transform(scale(X_train))\n",
    "X_test_pca = pca_optimal.transform(scale(X_test))\n",
    "\n",
    "parameter_grid = {\"C\" :[0.01, 0.1, 0.5, 1, 10, 100],\n",
    "                  \"gamma\" : [1, 0.75, 0.5, 0.25, 0.1, 0.01, 0.001],\n",
    "                  \"kernel\" : [\"rbf\", \"poly\", \"linear\"]}\n",
    "grid_model = GridSearchCV(svm.SVR(), parameter_grid, cv=5, return_train_score=True)\n",
    "grid_model.fit(X_train_pca, Y_train)"
   ]
  },
  {
   "cell_type": "code",
   "execution_count": 39,
   "id": "611dc068-18e5-47e2-ad3c-b49c43501b7f",
   "metadata": {},
   "outputs": [
    {
     "name": "stdout",
     "output_type": "stream",
     "text": [
      "Best parameter: {'C': 100, 'gamma': 0.1, 'kernel': 'rbf'}\n"
     ]
    }
   ],
   "source": [
    "best_parameter = grid_model.best_params_\n",
    "print(f\"Best parameter: {best_parameter}\")\n",
    "\n",
    "best_svm = grid_model.best_estimator_"
   ]
  },
  {
   "cell_type": "code",
   "execution_count": 40,
   "id": "86cb2c71-93e9-4c39-9d39-c2d961073c9f",
   "metadata": {},
   "outputs": [
    {
     "name": "stdout",
     "output_type": "stream",
     "text": [
      "mse score : 63.84215883808492\n",
      "r^2 score : 0.5277476787096314\n"
     ]
    }
   ],
   "source": [
    "Y_pred = best_svm.predict(X_test_pca)\n",
    "\n",
    "mse_score = mean_squared_error(Y_test, Y_pred)\n",
    "r2 = r2_score(Y_test, Y_pred)\n",
    "print(\"mse score :\", mse_score)\n",
    "print(\"r^2 score :\", r2)"
   ]
  },
  {
   "cell_type": "markdown",
   "id": "freelance-accreditation",
   "metadata": {},
   "source": [
    "#### 4)  PCA 없이 regression 하기. 검증 데이터(test data)에 대한 mean squared error 구하고,  모델이 R^2 구한 후 PCA를 수행한 결과와 비교하기"
   ]
  },
  {
   "cell_type": "code",
   "execution_count": 41,
   "id": "active-disney",
   "metadata": {},
   "outputs": [
    {
     "data": {
      "text/plain": [
       "SVR(C=100, gamma=0.1)"
      ]
     },
     "execution_count": 41,
     "metadata": {},
     "output_type": "execute_result"
    }
   ],
   "source": [
    "non_pca_svm = svm.SVR(C=100, gamma=0.1, kernel=\"rbf\")\n",
    "non_pca_svm.fit(X_train, Y_train)"
   ]
  },
  {
   "cell_type": "code",
   "execution_count": 42,
   "id": "5548da75-f8db-4348-bb02-7c44bd732d9f",
   "metadata": {},
   "outputs": [
    {
     "name": "stdout",
     "output_type": "stream",
     "text": [
      "non pca mse score : 139.95304046500073\n",
      "non pca r^2 score : -0.03525867920688852\n"
     ]
    }
   ],
   "source": [
    "non_pca_Y_pred = non_pca_svm.predict(X_test)\n",
    "\n",
    "non_pca_mse_score = mean_squared_error(Y_test, np.array(non_pca_Y_pred,dtype=np.float32))\n",
    "non_pca_r2 = r2_score(Y_test, non_pca_Y_pred)\n",
    "# non_pca_r2_score = r2_score(Y_test.astype(np.float32), np.array(non_pca_Y_pred,dtype=np.float32))\n",
    "print(\"non pca mse score :\", non_pca_mse_score)\n",
    "print(\"non pca r^2 score :\", non_pca_r2)"
   ]
  },
  {
   "cell_type": "markdown",
   "id": "diagnostic-handy",
   "metadata": {},
   "source": [
    "### 실습 과제 2. Iris 데이터를 활용한 PCA + SVM 실습\n",
    "\n",
    "#### 1) 데이터 불러온 후 train_data : test_data = 7:3 split, random_state=100\n",
    "** 종속변수는 ‘Target', 독립변수는 나머지 변수"
   ]
  },
  {
   "cell_type": "code",
   "execution_count": 58,
   "id": "adaptive-force",
   "metadata": {},
   "outputs": [
    {
     "name": "stdout",
     "output_type": "stream",
     "text": [
      "(150, 5)\n"
     ]
    },
    {
     "data": {
      "text/html": [
       "<div>\n",
       "<style scoped>\n",
       "    .dataframe tbody tr th:only-of-type {\n",
       "        vertical-align: middle;\n",
       "    }\n",
       "\n",
       "    .dataframe tbody tr th {\n",
       "        vertical-align: top;\n",
       "    }\n",
       "\n",
       "    .dataframe thead th {\n",
       "        text-align: right;\n",
       "    }\n",
       "</style>\n",
       "<table border=\"1\" class=\"dataframe\">\n",
       "  <thead>\n",
       "    <tr style=\"text-align: right;\">\n",
       "      <th></th>\n",
       "      <th>Sepal.Length</th>\n",
       "      <th>Sepal.Width</th>\n",
       "      <th>Petal.Length</th>\n",
       "      <th>Petal.Width</th>\n",
       "      <th>Species</th>\n",
       "    </tr>\n",
       "  </thead>\n",
       "  <tbody>\n",
       "    <tr>\n",
       "      <th>0</th>\n",
       "      <td>5.1</td>\n",
       "      <td>3.5</td>\n",
       "      <td>1.4</td>\n",
       "      <td>0.2</td>\n",
       "      <td>setosa</td>\n",
       "    </tr>\n",
       "    <tr>\n",
       "      <th>1</th>\n",
       "      <td>4.9</td>\n",
       "      <td>3.0</td>\n",
       "      <td>1.4</td>\n",
       "      <td>0.2</td>\n",
       "      <td>setosa</td>\n",
       "    </tr>\n",
       "    <tr>\n",
       "      <th>2</th>\n",
       "      <td>4.7</td>\n",
       "      <td>3.2</td>\n",
       "      <td>1.3</td>\n",
       "      <td>0.2</td>\n",
       "      <td>setosa</td>\n",
       "    </tr>\n",
       "    <tr>\n",
       "      <th>3</th>\n",
       "      <td>4.6</td>\n",
       "      <td>3.1</td>\n",
       "      <td>1.5</td>\n",
       "      <td>0.2</td>\n",
       "      <td>setosa</td>\n",
       "    </tr>\n",
       "    <tr>\n",
       "      <th>4</th>\n",
       "      <td>5.0</td>\n",
       "      <td>3.6</td>\n",
       "      <td>1.4</td>\n",
       "      <td>0.2</td>\n",
       "      <td>setosa</td>\n",
       "    </tr>\n",
       "  </tbody>\n",
       "</table>\n",
       "</div>"
      ],
      "text/plain": [
       "   Sepal.Length  Sepal.Width  Petal.Length  Petal.Width Species\n",
       "0           5.1          3.5           1.4          0.2  setosa\n",
       "1           4.9          3.0           1.4          0.2  setosa\n",
       "2           4.7          3.2           1.3          0.2  setosa\n",
       "3           4.6          3.1           1.5          0.2  setosa\n",
       "4           5.0          3.6           1.4          0.2  setosa"
      ]
     },
     "execution_count": 58,
     "metadata": {},
     "output_type": "execute_result"
    }
   ],
   "source": [
    "df = pd.read_csv(\"./data/Iris.csv\")\n",
    "\n",
    "print(df.shape)\n",
    "df.head()"
   ]
  },
  {
   "cell_type": "code",
   "execution_count": 59,
   "id": "c6a135e9-7873-4c39-871b-cd936762d458",
   "metadata": {},
   "outputs": [
    {
     "name": "stdout",
     "output_type": "stream",
     "text": [
      "(105, 4) (45, 4) (105,) (45,)\n"
     ]
    }
   ],
   "source": [
    "X = df.drop(labels=\"Species\", axis=1)\n",
    "Y = df[\"Species\"]\n",
    "\n",
    "X_train, X_test, Y_train, Y_test = train_test_split(X, Y, test_size=0.3, random_state=100)\n",
    "\n",
    "print(X_train.shape, X_test.shape, Y_train.shape, Y_test.shape)"
   ]
  },
  {
   "cell_type": "markdown",
   "id": "temporal-chemical",
   "metadata": {},
   "source": [
    "#### 2) PCA 수행해서 주성분(principal component) 개수에 따른 accuracy그래프 그리기\n",
    "**cross_val_score 함수 이용해서(cv=5) principal component 5개까지 accuracy 구하기"
   ]
  },
  {
   "cell_type": "code",
   "execution_count": 60,
   "id": "religious-investigator",
   "metadata": {},
   "outputs": [
    {
     "data": {
      "text/plain": [
       "Text(0.5, 1.0, 'hp')"
      ]
     },
     "execution_count": 60,
     "metadata": {},
     "output_type": "execute_result"
    },
    {
     "data": {
      "image/png": "[encoded data removed]",
      "text/plain": [
       "<Figure size 432x288 with 1 Axes>"
      ]
     },
     "metadata": {
      "needs_background": "light"
     },
     "output_type": "display_data"
    }
   ],
   "source": [
    "pca = PCA()\n",
    "\n",
    "accuracy_list = list()\n",
    "X_train_pca = pca.fit_transform(scale(X_train))\n",
    "\n",
    "for idx in np.arange(1, 6):\n",
    "    score = cross_val_score(svm.SVC(), \n",
    "                            X_train_pca[:, :idx], Y_train, \n",
    "                            cv=5, scoring=\"accuracy\").mean()\n",
    "    accuracy_list.append(score)\n",
    "\n",
    "num_pca = np.arange(1, 6)\n",
    "plt.plot(num_pca, accuracy_list)\n",
    "plt.xlabel(\"Number of Principal Components\")\n",
    "plt.ylabel(\"Accuracy\")\n",
    "plt.title(\"hp\")"
   ]
  },
  {
   "cell_type": "code",
   "execution_count": 61,
   "id": "4005d10e-a3b9-4454-a398-df0bfd6b149c",
   "metadata": {},
   "outputs": [
    {
     "name": "stdout",
     "output_type": "stream",
     "text": [
      "Explaned variance per principal component: [0.72201925 0.23393497 0.03914811 0.00489767]\n",
      "Cumulative sum: [72.2  95.59 99.5  99.99]\n"
     ]
    }
   ],
   "source": [
    "print(\"Explaned variance per principal component: {}\".format(pca.explained_variance_ratio_))\n",
    "print(\"Cumulative sum: {}\".format(np.cumsum(np.round(pca.explained_variance_ratio_, decimals=4) * 100)))"
   ]
  },
  {
   "cell_type": "markdown",
   "id": "adolescent-rover",
   "metadata": {},
   "source": [
    "#### 3) 높은 accuracy 가지는 주성분 개수로 PCA 수행하고, 5-fold 교차 검증으로 SVM의 최적 하이퍼파라미터 구하기. 검증 데이터(test data)에 대한 최적 모델의 accuracy와 confusion matrix 구하기\n",
    "** C: [0.01, 0.1, 0.5, 1, 10, 100], gamma: [1, 0.75, 0.5, 0.25, 0.1, 0.01, 0.001], kernel: ['rbf', 'poly', 'linear']"
   ]
  },
  {
   "cell_type": "code",
   "execution_count": 62,
   "id": "floppy-mercy",
   "metadata": {},
   "outputs": [
    {
     "data": {
      "text/plain": [
       "GridSearchCV(cv=5, estimator=SVC(),\n",
       "             param_grid={'C': [0.01, 0.1, 0.5, 1, 10, 100],\n",
       "                         'gamma': [1, 0.75, 0.5, 0.25, 0.1, 0.01, 0.001],\n",
       "                         'kernel': ['rbf', 'poly', 'linear']},\n",
       "             return_train_score=True)"
      ]
     },
     "execution_count": 62,
     "metadata": {},
     "output_type": "execute_result"
    }
   ],
   "source": [
    "pca_optimal = PCA(n_components=3)\n",
    "\n",
    "X_train_pca = pca_optimal.fit_transform(scale(X_train))\n",
    "X_test_pca = pca_optimal.transform(scale(X_test))\n",
    "\n",
    "parameter_grid = {\"C\" :[0.01, 0.1, 0.5, 1, 10, 100],\n",
    "                  \"gamma\" : [1, 0.75, 0.5, 0.25, 0.1, 0.01, 0.001],\n",
    "                  \"kernel\" : [\"rbf\", \"poly\", \"linear\"]}\n",
    "grid_model = GridSearchCV(svm.SVC(), parameter_grid, cv=5, return_train_score=True)\n",
    "grid_model.fit(X_train_pca, Y_train)"
   ]
  },
  {
   "cell_type": "code",
   "execution_count": 73,
   "id": "5577b009-6b5b-415e-a6ab-5f60c16b5d2c",
   "metadata": {},
   "outputs": [
    {
     "name": "stdout",
     "output_type": "stream",
     "text": [
      "Best parameter: {'C': 0.5, 'gamma': 1, 'kernel': 'linear'}\n"
     ]
    }
   ],
   "source": [
    "best_parameter = grid_model.best_params_\n",
    "print(f\"Best parameter: {best_parameter}\")\n",
    "\n",
    "best_svm = grid_model.best_estimator_"
   ]
  },
  {
   "cell_type": "code",
   "execution_count": 74,
   "id": "301d4d13-686c-437c-bff7-2888d02638b0",
   "metadata": {},
   "outputs": [
    {
     "name": "stdout",
     "output_type": "stream",
     "text": [
      "pca accuracy score : 0.9333333333333333\n",
      "------------------------------\n",
      "confusion matrix :\n",
      " [[16  0  0]\n",
      " [ 0 11  0]\n",
      " [ 0  3 15]]\n"
     ]
    }
   ],
   "source": [
    "from sklearn import metrics\n",
    "\n",
    "Y_pred = best_svm.predict(X_test_pca)\n",
    "\n",
    "pca_confusion_mat = metrics.confusion_matrix(Y_test, Y_pred)\n",
    "pca_accuracy_score = metrics.accuracy_score(Y_test, Y_pred)\n",
    "# pca_f1_score = metrics.f1_score(Y_test, Y_pred)\n",
    "\n",
    "print(\"pca accuracy score :\", pca_accuracy_score)\n",
    "# print(\"pca f1 score :\", pca_f1_score)\n",
    "print(\"-\"*30)\n",
    "print(\"confusion matrix :\\n\", pca_confusion_mat)"
   ]
  },
  {
   "cell_type": "markdown",
   "id": "classical-shade",
   "metadata": {},
   "source": [
    "#### 4) PCA 없이 최적 하이퍼파라미터로 SVM 모델 학습하기 , 검증 데이터(test data)에 대한 accuracy와 confusion matrix 구하기"
   ]
  },
  {
   "cell_type": "code",
   "execution_count": 71,
   "id": "thrown-queensland",
   "metadata": {},
   "outputs": [
    {
     "data": {
      "text/plain": [
       "SVC(C=0.5, gamma=1, kernel='linear')"
      ]
     },
     "execution_count": 71,
     "metadata": {},
     "output_type": "execute_result"
    }
   ],
   "source": [
    "non_pca_svm = svm.SVC(C=0.5, gamma=1, kernel=\"linear\")\n",
    "non_pca_svm.fit(X_train, Y_train)"
   ]
  },
  {
   "cell_type": "code",
   "execution_count": 72,
   "id": "3b7e65f5-5449-480d-aed5-b498b1d26b4d",
   "metadata": {},
   "outputs": [
    {
     "name": "stdout",
     "output_type": "stream",
     "text": [
      "non pca accuracy score : 1.0\n",
      "------------------------------\n",
      "non pca confusion matrix :\n",
      " [[16  0  0]\n",
      " [ 0 11  0]\n",
      " [ 0  0 18]]\n"
     ]
    }
   ],
   "source": [
    "non_pca_Y_pred = non_pca_svm.predict(X_test)\n",
    "\n",
    "non_pca_confusion_mat = metrics.confusion_matrix(Y_test, non_pca_Y_pred)\n",
    "non_pca_accuracy_score = metrics.accuracy_score(Y_test, non_pca_Y_pred)\n",
    "# non_pca_f1_score = metrics.f1_score(Y_test, non_pca_Y_pred)\n",
    "\n",
    "print(\"non pca accuracy score :\", non_pca_accuracy_score)\n",
    "# print(\"non pca f1 score :\", non_pca_f1_score)\n",
    "print(\"-\"*30)\n",
    "print(\"non pca confusion matrix :\\n\", non_pca_confusion_mat)"
   ]
  },
  {
   "cell_type": "code",
   "execution_count": null,
   "id": "3f5fd2aa-3028-4daf-909c-72ea22a4e3b2",
   "metadata": {},
   "outputs": [],
   "source": []
  }
 ],
 "metadata": {
  "kernelspec": {
   "display_name": "Python 3 (ipykernel)",
   "language": "python",
   "name": "python3"
  },
  "language_info": {
   "codemirror_mode": {
    "name": "ipython",
    "version": 3
   },
   "file_extension": ".py",
   "mimetype": "text/x-python",
   "name": "python",
   "nbconvert_exporter": "python",
   "pygments_lexer": "ipython3",
   "version": "3.7.13"
  }
 },
 "nbformat": 4,
 "nbformat_minor": 5
}
