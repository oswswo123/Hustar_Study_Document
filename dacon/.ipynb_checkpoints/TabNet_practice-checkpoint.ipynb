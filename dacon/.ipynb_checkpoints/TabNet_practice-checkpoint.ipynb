{
 "cells": [
  {
   "cell_type": "code",
   "execution_count": 1,
   "id": "c44cac96",
   "metadata": {},
   "outputs": [
    {
     "name": "stdout",
     "output_type": "stream",
     "text": [
      "Collecting pytorch-tabnet\n",
      "  Downloading pytorch_tabnet-3.1.1-py3-none-any.whl (39 kB)\n",
      "Requirement already satisfied: scipy>1.4 in /home/piai/anaconda3/envs/iml/lib/python3.7/site-packages (from pytorch-tabnet) (1.4.1)\n",
      "Requirement already satisfied: torch<2.0,>=1.2 in /home/piai/anaconda3/envs/iml/lib/python3.7/site-packages (from pytorch-tabnet) (1.11.0)\n",
      "Requirement already satisfied: scikit_learn>0.21 in /home/piai/anaconda3/envs/iml/lib/python3.7/site-packages (from pytorch-tabnet) (1.0.2)\n",
      "Requirement already satisfied: numpy<2.0,>=1.17 in /home/piai/anaconda3/envs/iml/lib/python3.7/site-packages (from pytorch-tabnet) (1.21.5)\n",
      "Collecting tqdm<5.0,>=4.36\n",
      "  Using cached tqdm-4.64.0-py2.py3-none-any.whl (78 kB)\n",
      "Requirement already satisfied: threadpoolctl>=2.0.0 in /home/piai/anaconda3/envs/iml/lib/python3.7/site-packages (from scikit_learn>0.21->pytorch-tabnet) (3.1.0)\n",
      "Requirement already satisfied: joblib>=0.11 in /home/piai/anaconda3/envs/iml/lib/python3.7/site-packages (from scikit_learn>0.21->pytorch-tabnet) (1.1.0)\n",
      "Requirement already satisfied: typing_extensions in /home/piai/anaconda3/envs/iml/lib/python3.7/site-packages (from torch<2.0,>=1.2->pytorch-tabnet) (4.1.1)\n",
      "Installing collected packages: tqdm, pytorch-tabnet\n",
      "Successfully installed pytorch-tabnet-3.1.1 tqdm-4.64.0\n"
     ]
    }
   ],
   "source": [
    "!pip install pytorch-tabnet"
   ]
  },
  {
   "cell_type": "code",
   "execution_count": 2,
   "id": "5ec43ffc",
   "metadata": {},
   "outputs": [],
   "source": [
    "import pandas as pd\n",
    "import numpy as np\n",
    "from pytorch_tabnet.tab_model import TabNetRegressor\n",
    "from sklearn.model_selection import KFold"
   ]
  },
  {
   "cell_type": "code",
   "execution_count": null,
   "id": "252a8883",
   "metadata": {},
   "outputs": [],
   "source": []
  }
 ],
 "metadata": {
  "kernelspec": {
   "display_name": "Python 3 (ipykernel)",
   "language": "python",
   "name": "python3"
  },
  "language_info": {
   "codemirror_mode": {
    "name": "ipython",
    "version": 3
   },
   "file_extension": ".py",
   "mimetype": "text/x-python",
   "name": "python",
   "nbconvert_exporter": "python",
   "pygments_lexer": "ipython3",
   "version": "3.7.13"
  }
 },
 "nbformat": 4,
 "nbformat_minor": 5
}
