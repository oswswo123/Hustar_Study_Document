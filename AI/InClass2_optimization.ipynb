{
 "cells": [
  {
   "cell_type": "code",
   "execution_count": 1,
   "id": "6bf1b48d-901c-4d09-bf7c-44308bafc8ee",
   "metadata": {},
   "outputs": [],
   "source": [
    "import numpy as np\n",
    "import cvxpy as cvx"
   ]
  },
  {
   "cell_type": "code",
   "execution_count": 3,
   "id": "30f4f1a0-3945-487d-9c8e-ca8c1b3e4a9b",
   "metadata": {},
   "outputs": [
    {
     "name": "stdout",
     "output_type": "stream",
     "text": [
      "[[6.]\n",
      " [4.]]\n",
      "23.999999999256048\n"
     ]
    }
   ],
   "source": [
    "### Exercise 1\n",
    "\n",
    "f = np.array([[2],\n",
    "              [3]])\n",
    "\n",
    "A = np.array([[2, 2],\n",
    "              [1, 2]])\n",
    "\n",
    "B = np.array([[20],\n",
    "              [14]])\n",
    "\n",
    "lb = np.array([[1],\n",
    "               [2]])\n",
    "\n",
    "x = cvx.Variable([2, 1])\n",
    "\n",
    "obj = cvx.Maximize(f.T @ x)\n",
    "constraints = [A@x <= B, lb <= x]\n",
    "\n",
    "prob = cvx.Problem(obj, constraints)\n",
    "result = prob.solve()\n",
    "\n",
    "print(x.value)\n",
    "print(result)"
   ]
  },
  {
   "cell_type": "code",
   "execution_count": 5,
   "id": "e584c49b-d3f8-4dcb-a872-aaf9245b043d",
   "metadata": {},
   "outputs": [
    {
     "name": "stdout",
     "output_type": "stream",
     "text": [
      "[[2.45778468e-25]\n",
      " [3.82056353e-31]]\n",
      "2.457788498668255e-25\n"
     ]
    }
   ],
   "source": [
    "### Exercise 2\n",
    "\n",
    "f = np.array([[1], [1]])\n",
    "H = np.array([[1/2, 0],\n",
    "              [0, 0]])\n",
    "\n",
    "A = np.array([[2, 3],\n",
    "              [3, 4],\n",
    "              [2, 4]])\n",
    "B = np.array([[12],\n",
    "              [80],\n",
    "              [80]])\n",
    "\n",
    "lb = np.array([[0],\n",
    "               [0]])\n",
    "\n",
    "x = cvx.Variable([2, 1])\n",
    "\n",
    "obj = cvx.Minimize(cvx.quad_form(x, H) + f.T@x)\n",
    "constraints = [A@x <= B, lb <= x]\n",
    "\n",
    "prob = cvx.Problem(obj, constraints)\n",
    "result = prob.solve()\n",
    "\n",
    "print(x.value)\n",
    "print(result)"
   ]
  },
  {
   "cell_type": "code",
   "execution_count": 18,
   "id": "dd919f0e-995f-4487-88de-b0551cb136df",
   "metadata": {},
   "outputs": [
    {
     "name": "stdout",
     "output_type": "stream",
     "text": [
      "[[ 0.33333333]\n",
      " [-0.33333333]]\n"
     ]
    }
   ],
   "source": [
    "### Exercise 3\n",
    "\n",
    "H = np.matrix([[5, -1],\n",
    "               [-1, 5]])\n",
    "g = np.matrix([[-4],\n",
    "               [4]])\n",
    "\n",
    "x = np.zeros((2, 1))\n",
    "alpha = 0.05\n",
    "\n",
    "for repet in range(25):\n",
    "    df = 2*H*x + g\n",
    "    x = x - alpha*df\n",
    "\n",
    "print(x)"
   ]
  },
  {
   "cell_type": "code",
   "execution_count": null,
   "id": "98e6694c-b397-4e7b-8f89-462f228a171b",
   "metadata": {},
   "outputs": [],
   "source": []
  }
 ],
 "metadata": {
  "kernelspec": {
   "display_name": "Python 3 (ipykernel)",
   "language": "python",
   "name": "python3"
  },
  "language_info": {
   "codemirror_mode": {
    "name": "ipython",
    "version": 3
   },
   "file_extension": ".py",
   "mimetype": "text/x-python",
   "name": "python",
   "nbconvert_exporter": "python",
   "pygments_lexer": "ipython3",
   "version": "3.7.13"
  }
 },
 "nbformat": 4,
 "nbformat_minor": 5
}
