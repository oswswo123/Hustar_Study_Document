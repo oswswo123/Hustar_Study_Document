{
 "cells": [
  {
   "cell_type": "code",
   "execution_count": 7,
   "id": "e8b41d1a-3245-4093-a13d-ad8eaed4159d",
   "metadata": {},
   "outputs": [],
   "source": [
    "import numpy as np"
   ]
  },
  {
   "cell_type": "code",
   "execution_count": 7,
   "id": "4d56b2f3-383f-44a1-a94e-78a7d06e9fb2",
   "metadata": {},
   "outputs": [
    {
     "data": {
      "text/plain": [
       "matrix([[ 2.61111111],\n",
       "        [ 2.53703704],\n",
       "        [-3.2037037 ]])"
      ]
     },
     "execution_count": 7,
     "metadata": {},
     "output_type": "execute_result"
    }
   ],
   "source": [
    "# Linear Algebra Exercise 1\n",
    "\n",
    "A = np.array([[7, -2, 1],\n",
    "              [-1, 3, 0],\n",
    "              [8, -2, 4]])\n",
    "\n",
    "B = np.array([[10],\n",
    "              [5],\n",
    "              [3]])\n",
    "\n",
    "A = np.asmatrix(A)\n",
    "B = np.asmatrix(B)\n",
    "\n",
    "x = A.I*B\n",
    "\n",
    "x"
   ]
  },
  {
   "cell_type": "code",
   "execution_count": 11,
   "id": "b37e199b-ad93-48c9-aba5-c7ae4c191b1c",
   "metadata": {},
   "outputs": [
    {
     "data": {
      "text/plain": [
       "matrix([[5]])"
      ]
     },
     "execution_count": 11,
     "metadata": {},
     "output_type": "execute_result"
    }
   ],
   "source": [
    "# Linear Algebra Exercise 2 & 3\n",
    "\n",
    "x = np.array([[1],\n",
    "              [1]])\n",
    "\n",
    "y = np.array([[2],\n",
    "              [3]])\n",
    "\n",
    "x = np.asmatrix(x)\n",
    "y = np.asmatrix(y)\n",
    "\n",
    "inner_product = x.T @ y\n",
    "\n",
    "inner_product"
   ]
  },
  {
   "cell_type": "code",
   "execution_count": 16,
   "id": "aaca2ea0-b45d-4aa0-99d1-2bccbb8357b2",
   "metadata": {},
   "outputs": [
    {
     "data": {
      "text/plain": [
       "matrix([[ 0.52307692],\n",
       "        [-0.2       ]])"
      ]
     },
     "execution_count": 16,
     "metadata": {},
     "output_type": "execute_result"
    }
   ],
   "source": [
    "# Linear Algebra Exercise 4\n",
    "\n",
    "A = np.array([[4, 1],\n",
    "              [3, 2],\n",
    "              [1, 3]])\n",
    "\n",
    "B = np.array([[2],\n",
    "              [1],\n",
    "              [0]])\n",
    "\n",
    "A = np.asmatrix(A)\n",
    "B = np.asmatrix(B)\n",
    "\n",
    "X_star = (A.T * A).I * A.T * B\n",
    "\n",
    "X_star"
   ]
  },
  {
   "cell_type": "code",
   "execution_count": null,
   "id": "4136a131-ddb8-40fe-82f0-ba09f8a0b080",
   "metadata": {},
   "outputs": [],
   "source": []
  }
 ],
 "metadata": {
  "kernelspec": {
   "display_name": "Python 3 (ipykernel)",
   "language": "python",
   "name": "python3"
  },
  "language_info": {
   "codemirror_mode": {
    "name": "ipython",
    "version": 3
   },
   "file_extension": ".py",
   "mimetype": "text/x-python",
   "name": "python",
   "nbconvert_exporter": "python",
   "pygments_lexer": "ipython3",
   "version": "3.7.13"
  }
 },
 "nbformat": 4,
 "nbformat_minor": 5
}
