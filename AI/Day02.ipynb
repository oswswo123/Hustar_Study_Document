{
 "cells": [
  {
   "cell_type": "code",
   "execution_count": 5,
   "id": "1b7cb6ac-6416-48b8-af9a-42e0995e7fec",
   "metadata": {},
   "outputs": [],
   "source": [
    "import numpy as np\n",
    "import cvxpy as cvx"
   ]
  },
  {
   "cell_type": "code",
   "execution_count": 11,
   "id": "52e8ba28-ba5c-48fb-a644-04b3816541b7",
   "metadata": {},
   "outputs": [
    {
     "name": "stdout",
     "output_type": "stream",
     "text": [
      "[[2.]\n",
      " [3.]]\n"
     ]
    }
   ],
   "source": [
    "f = -np.array([[3],\n",
    "               [3/2]])\n",
    "\n",
    "lb = np.array([[-1],\n",
    "               [0]])\n",
    "ub = np.array([[2],\n",
    "               [3]])\n",
    "\n",
    "x = np.zeros(shape=(2,1))\n",
    "alpha = 0.2\n",
    "\n",
    "for idx in range(25):\n",
    "    x = x - alpha * f\n",
    "    \n",
    "    lb_TF = lb < x\n",
    "    x = x * lb_TF + lb * ~lb_TF\n",
    "    \n",
    "    ub_TF = x < ub\n",
    "    x = x * ub_TF + ub * ~ub_TF\n",
    "    \n",
    "print(x)"
   ]
  },
  {
   "cell_type": "code",
   "execution_count": 9,
   "id": "f751d9cf-c28a-47cc-a602-ba75bfdd5e50",
   "metadata": {},
   "outputs": [
    {
     "name": "stdout",
     "output_type": "stream",
     "text": [
      "[[1.99999999]\n",
      " [2.99999999]]\n",
      "-10.499999966365493\n"
     ]
    }
   ],
   "source": [
    "f = np.array([[3],\n",
    "              [3/2]])\n",
    "\n",
    "lb = np.array([[-1],\n",
    "               [0]])\n",
    "ub = np.array([[2],\n",
    "               [3]])\n",
    "\n",
    "x = cvx.Variable([2, 1])\n",
    "\n",
    "obj = cvx.Minimize(-f.T @ x)\n",
    "constraints = [lb <= x, x <= ub]\n",
    "\n",
    "prob = cvx.Problem(obj, constraints)\n",
    "result = prob.solve()\n",
    "\n",
    "print(x.value)\n",
    "print(result)"
   ]
  },
  {
   "cell_type": "code",
   "execution_count": null,
   "id": "dd670b58-f8b0-4f7f-a370-8b5947f62a60",
   "metadata": {},
   "outputs": [],
   "source": []
  }
 ],
 "metadata": {
  "kernelspec": {
   "display_name": "Python 3 (ipykernel)",
   "language": "python",
   "name": "python3"
  },
  "language_info": {
   "codemirror_mode": {
    "name": "ipython",
    "version": 3
   },
   "file_extension": ".py",
   "mimetype": "text/x-python",
   "name": "python",
   "nbconvert_exporter": "python",
   "pygments_lexer": "ipython3",
   "version": "3.7.13"
  }
 },
 "nbformat": 4,
 "nbformat_minor": 5
}
