{
 "cells": [
  {
   "cell_type": "code",
   "execution_count": 45,
   "id": "d2124892",
   "metadata": {},
   "outputs": [],
   "source": [
    "# 함수에서 Shift + Tab을 누르면 Parameter를 확인 가능\n",
    "# 함수에서 Tab을 누르면 해당 함수가 보유한 함수 확인 가능\n",
    "\n",
    "word = \"aabbccddee\""
   ]
  },
  {
   "cell_type": "code",
   "execution_count": 50,
   "id": "8d356177",
   "metadata": {},
   "outputs": [
    {
     "name": "stdout",
     "output_type": "stream",
     "text": [
      "aab\n",
      "bcc\n",
      "aabbccddee\n",
      "eeddccbbaa\n",
      "abcde\n"
     ]
    }
   ],
   "source": [
    "print(word[0:3])\n",
    "# 0 ~ 2\n",
    "print(word[3:6])\n",
    "# 3 ~ 5\n",
    "\n",
    "print(word[::])\n",
    "# 처음 ~ 끝\n",
    "print(word[::-1])\n",
    "# 처음 ~ 끝까지 step = -1\n",
    "print(word[::2])\n",
    "# 처음 ~ 끝까지 step = 2"
   ]
  },
  {
   "cell_type": "code",
   "execution_count": 51,
   "id": "27071906",
   "metadata": {},
   "outputs": [
    {
     "name": "stdout",
     "output_type": "stream",
     "text": [
      "0\n"
     ]
    }
   ],
   "source": [
    "print(word.count(\"z\"))\n",
    "# string 내 해당 string 출현 수 return"
   ]
  },
  {
   "cell_type": "code",
   "execution_count": 52,
   "id": "658ed7f9",
   "metadata": {},
   "outputs": [
    {
     "name": "stdout",
     "output_type": "stream",
     "text": [
      "4\n"
     ]
    }
   ],
   "source": [
    "print(word.index(\"c\"))\n",
    "# string 내 해당 string 출현 index return"
   ]
  },
  {
   "cell_type": "code",
   "execution_count": 54,
   "id": "8186e38b",
   "metadata": {},
   "outputs": [
    {
     "name": "stdout",
     "output_type": "stream",
     "text": [
      "a, a, b, b, c, c, d, d, e, e\n"
     ]
    }
   ],
   "source": [
    "print(\", \".join(word))\n",
    "# word string에 \", \"를 넣어서 새로운 string return"
   ]
  },
  {
   "cell_type": "code",
   "execution_count": 58,
   "id": "56d59b23",
   "metadata": {},
   "outputs": [
    {
     "name": "stdout",
     "output_type": "stream",
     "text": [
      "e\n"
     ]
    }
   ],
   "source": [
    "print(word[len(word)-1])\n",
    "# string의 가장 마지막 return"
   ]
  },
  {
   "cell_type": "code",
   "execution_count": 65,
   "id": "f47f2382",
   "metadata": {},
   "outputs": [
    {
     "name": "stdout",
     "output_type": "stream",
     "text": [
      "['pyt', 'hon', 'is', 'f', 'un']\n",
      "['pyt\\tho', ' is f\\nu', '']\n"
     ]
    }
   ],
   "source": [
    "string1 = \"pyt\\thon is f\\nun\"\n",
    "\n",
    "print(string1.split())\n",
    "# string을 parameter를 기준으로 분리하여 list 생성 후 return\n",
    "# 기본 값은 white space\n",
    "\n",
    "print(string1.split(\"n\"))"
   ]
  },
  {
   "cell_type": "code",
   "execution_count": 70,
   "id": "62fb8c57",
   "metadata": {},
   "outputs": [],
   "source": [
    "number_list = [1, 2, 3, 4]\n",
    "els = list()\n",
    "season = [\"spring\", \"summer\", \"fall\", \"winter\"]"
   ]
  },
  {
   "cell_type": "code",
   "execution_count": 80,
   "id": "ba719779",
   "metadata": {},
   "outputs": [
    {
     "data": {
      "text/plain": [
       "range(1, 11)"
      ]
     },
     "execution_count": 80,
     "metadata": {},
     "output_type": "execute_result"
    }
   ],
   "source": [
    "range(1, 11)"
   ]
  },
  {
   "cell_type": "code",
   "execution_count": 82,
   "id": "1d706b06",
   "metadata": {},
   "outputs": [
    {
     "name": "stdout",
     "output_type": "stream",
     "text": [
      "[1, 2, 3, 4, 5, 6]\n",
      "[1, 2, 3, 1, 2, 3, 1, 2, 3]\n"
     ]
    }
   ],
   "source": [
    "# 리스트 더하기 및 반복\n",
    "a = [1, 2, 3]\n",
    "b = [4, 5, 6]\n",
    "\n",
    "print(a + b)\n",
    "print(a * 3)"
   ]
  },
  {
   "cell_type": "code",
   "execution_count": 93,
   "id": "3ed6eb8f",
   "metadata": {},
   "outputs": [
    {
     "name": "stdout",
     "output_type": "stream",
     "text": [
      "1 2 3\n",
      "<class 'int'>\n"
     ]
    }
   ],
   "source": [
    "# List packing, unpacking\n",
    "t = [1, 2, 3]\n",
    "t1, t2, t3 = t\n",
    "\n",
    "print(t1, t2, t3)\n",
    "print(type(t1))"
   ]
  },
  {
   "cell_type": "markdown",
   "id": "73eff7ae",
   "metadata": {},
   "source": [
    "실습 문제4)\n",
    "날짜(연/월/일)입력 : 2022/03/29\n",
    "입력한 날짜의 10년 후는 2032년 3월 29일"
   ]
  },
  {
   "cell_type": "code",
   "execution_count": 111,
   "id": "a97d24db",
   "metadata": {},
   "outputs": [
    {
     "name": "stdout",
     "output_type": "stream",
     "text": [
      "날짜(연/월/일)입력:2022/05/11\n",
      "입력한 날짜의 10년 후는 2032년 5월 11일\n"
     ]
    }
   ],
   "source": [
    "date = input(\"날짜(연/월/일)입력:\")\n",
    "\n",
    "date_list = date.split(\"/\")\n",
    "\n",
    "for i in range(len(date_list)):\n",
    "    date_list[i] = int(date_list[i])\n",
    "\n",
    "print(\"입력한 날짜의 10년 후는 %d년 %d월 %d일\" % \n",
    "      (date_list[0]+10, date_list[1], date_list[2]))"
   ]
  },
  {
   "cell_type": "code",
   "execution_count": 114,
   "id": "9faa1584",
   "metadata": {},
   "outputs": [
    {
     "name": "stdout",
     "output_type": "stream",
     "text": [
      "거짓\n",
      "100보다 크거나 같다\n",
      "프로그램 끝\n"
     ]
    }
   ],
   "source": [
    "# if - else\n",
    "\n",
    "a = 200\n",
    "\n",
    "if a < 100:\n",
    "    print(\"참\")\n",
    "    print(\"100보다 작다\")\n",
    "else:\n",
    "    print(\"거짓\")\n",
    "    print(\"100보다 크거나 같다\")\n",
    "\n",
    "print(\"프로그램 끝\")"
   ]
  },
  {
   "cell_type": "code",
   "execution_count": 115,
   "id": "437b0d2b",
   "metadata": {},
   "outputs": [
    {
     "name": "stdout",
     "output_type": "stream",
     "text": [
      "정수를 입력하시오: 99\n",
      "양수입니다.\n"
     ]
    }
   ],
   "source": [
    "# if - elif - else\n",
    "\n",
    "num = int(input(\"정수를 입력하시오: \"))\n",
    "\n",
    "if num > 0:\n",
    "    print(\"양수입니다.\")\n",
    "elif num == 0:\n",
    "    print(\"0입니다.\")\n",
    "else:\n",
    "    print(\"음수입니다.\")   "
   ]
  },
  {
   "cell_type": "markdown",
   "id": "336912a8",
   "metadata": {},
   "source": [
    "조건문 - 실습1)\n",
    "학생수준평가 시험에서 영어 점수와 수학 점수가 합해서 110점 이상이면 합격이다. 단, 각 점수가 40점 미만이면 불합격이다. 영어(eng), 수학(math)점수를 입력받아 합격 여부를 출력하는 프로그램을 작성하시오."
   ]
  },
  {
   "cell_type": "code",
   "execution_count": 122,
   "id": "1ee2329a",
   "metadata": {},
   "outputs": [
    {
     "name": "stdout",
     "output_type": "stream",
     "text": [
      "영어 점수 입력:35\n",
      "수학 점수 입력:95\n",
      "불합격: 영어 점수 부족\n"
     ]
    }
   ],
   "source": [
    "eng = int(input(\"영어 점수 입력:\"))\n",
    "math = int(input(\"수학 점수 입력:\"))\n",
    "\n",
    "if eng + math < 110 or eng < 40 or math < 40:\n",
    "    # 불합격\n",
    "    if eng + math < 110:\n",
    "        print(\"불합격: 총합 점수 부족\")\n",
    "    elif eng < 40:\n",
    "        print(\"불합격: 영어 점수 부족\")\n",
    "    elif math < 40:\n",
    "        print(\"불합격: 수학 점수 부족\")\n",
    "    else:\n",
    "        print(\"오류 발생\")\n",
    "else:  # 합격\n",
    "    print(\"합격\")"
   ]
  },
  {
   "cell_type": "markdown",
   "id": "90228b87",
   "metadata": {},
   "source": [
    "조건문 - 실습2) 세 개의 정수를 입력 받아, 가장 큰 수만 출력하는 프로그램을 작성하시오. (반복문, max 함수, 정렬 함수 등을 사용할 수 없음)"
   ]
  },
  {
   "cell_type": "code",
   "execution_count": 130,
   "id": "f2ca79ef",
   "metadata": {},
   "outputs": [
    {
     "name": "stdout",
     "output_type": "stream",
     "text": [
      "세 개의 수를 입력하시오30 22 50\n",
      "가장 큰 수는 50입니다.\n"
     ]
    }
   ],
   "source": [
    "input_value = input(\"세 개의 수를 입력하시오\")\n",
    "a, b, c = input_value.split(\" \")\n",
    "\n",
    "max_number = None\n",
    "\n",
    "if int(a) > int(b):\n",
    "    max_number = int(a)\n",
    "else:\n",
    "    max_number = int(b)\n",
    "\n",
    "if max_number < int(c):\n",
    "    max_number = int(c)    \n",
    "\n",
    "print(\"가장 큰 수는 %d입니다.\" % (max_number))"
   ]
  },
  {
   "cell_type": "code",
   "execution_count": 131,
   "id": "5438ab2d",
   "metadata": {},
   "outputs": [
    {
     "name": "stdout",
     "output_type": "stream",
     "text": [
      "1 2 3 4 5 "
     ]
    }
   ],
   "source": [
    "# while\n",
    "\n",
    "number = 1\n",
    "while number <= 5:\n",
    "    print(number, end=(\" \"))\n",
    "    number += 1"
   ]
  },
  {
   "cell_type": "code",
   "execution_count": 135,
   "id": "bff1f34b",
   "metadata": {},
   "outputs": [
    {
     "name": "stdout",
     "output_type": "stream",
     "text": [
      "55\n"
     ]
    }
   ],
   "source": [
    "# 1부터 10까지의 합\n",
    "digit = 0\n",
    "repeat = 0\n",
    "\n",
    "while repeat < 11:\n",
    "    digit += repeat\n",
    "    repeat += 1\n",
    "\n",
    "print(digit)"
   ]
  },
  {
   "cell_type": "code",
   "execution_count": 137,
   "id": "b031d2f2",
   "metadata": {},
   "outputs": [
    {
     "name": "stdout",
     "output_type": "stream",
     "text": [
      "출력하고 싶은 단을 입력하세요: 7\n",
      "7 * 1 =  7\n",
      "7 * 2 = 14\n",
      "7 * 3 = 21\n",
      "7 * 4 = 28\n",
      "7 * 5 = 35\n",
      "7 * 6 = 42\n",
      "7 * 7 = 49\n",
      "7 * 8 = 56\n",
      "7 * 9 = 63\n"
     ]
    }
   ],
   "source": [
    "# for\n",
    "# range(start, stop, step)\n",
    "\n",
    "input_number = int(input(\"출력하고 싶은 단을 입력하세요: \"))\n",
    "\n",
    "for integer in range(1, 10):\n",
    "    print(\"{} * {} = {:2d}\".format(input_number, integer, input_number*integer))"
   ]
  },
  {
   "cell_type": "code",
   "execution_count": null,
   "id": "21ce2474",
   "metadata": {},
   "outputs": [],
   "source": []
  }
 ],
 "metadata": {
  "kernelspec": {
   "display_name": "Python 3 (ipykernel)",
   "language": "python",
   "name": "python3"
  },
  "language_info": {
   "codemirror_mode": {
    "name": "ipython",
    "version": 3
   },
   "file_extension": ".py",
   "mimetype": "text/x-python",
   "name": "python",
   "nbconvert_exporter": "python",
   "pygments_lexer": "ipython3",
   "version": "3.9.7"
  }
 },
 "nbformat": 4,
 "nbformat_minor": 5
}
