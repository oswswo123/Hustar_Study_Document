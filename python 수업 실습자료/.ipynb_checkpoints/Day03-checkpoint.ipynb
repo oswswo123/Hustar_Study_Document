{
 "cells": [
  {
   "cell_type": "markdown",
   "id": "01734082",
   "metadata": {},
   "source": [
    "- merge cell with next cell : Shift + m (command mode) </br>\n",
    "- split cell at cursor : Ctrl + Shift + - (edit mode) </br>\n",
    "- Command mode에서 되돌리기 : z (command mode) </br>"
   ]
  },
  {
   "cell_type": "code",
   "execution_count": 5,
   "id": "1b8bf0c3",
   "metadata": {},
   "outputs": [
    {
     "name": "stdout",
     "output_type": "stream",
     "text": [
      "★★★\n",
      "★\n",
      "★★★★★\n",
      "★★★★★★★★★\n",
      "★★★★\n"
     ]
    }
   ],
   "source": [
    "# 반복문 - 실습 2\n",
    "\n",
    "number = \"31594\"\n",
    "\n",
    "for x in number:\n",
    "    print(\"★\" * int(x))"
   ]
  },
  {
   "cell_type": "code",
   "execution_count": 6,
   "id": "d2d618d4",
   "metadata": {},
   "outputs": [
    {
     "name": "stdout",
     "output_type": "stream",
     "text": [
      "12345eeee\n"
     ]
    }
   ],
   "source": [
    "# break\n",
    "\n",
    "for i in range(1, 11):\n",
    "    if i > 5:\n",
    "        break\n",
    "    print(i, end=\"\")\n",
    "print(\"eeee\")"
   ]
  },
  {
   "cell_type": "markdown",
   "id": "6d7b17a0",
   "metadata": {},
   "source": [
    "##### in\n",
    "> - 순서가 있는 data의 element인가를 결정하는 연산자 </br>\n",
    "> - 있다면 True, 없다면 False를 return"
   ]
  },
  {
   "cell_type": "code",
   "execution_count": 13,
   "id": "e513ad8c",
   "metadata": {},
   "outputs": [
    {
     "name": "stdout",
     "output_type": "stream",
     "text": [
      "['red', 'blue', 'green']\n",
      "['red', 'green']\n"
     ]
    }
   ],
   "source": [
    "colors = list()\n",
    "\n",
    "colors.append(\"red\")\n",
    "colors.append(\"blue\")\n",
    "colors.append(\"green\")\n",
    "\n",
    "print(colors)\n",
    "\n",
    "# 있을때만 지우는 방법\n",
    "\n",
    "if \"blue\" in colors:\n",
    "    colors.remove(\"blue\")\n",
    "\n",
    "print(colors)"
   ]
  },
  {
   "cell_type": "markdown",
   "id": "b365a988",
   "metadata": {},
   "source": [
    "##### &lt;list_name&gt;.sort() & sorted(&lt;list_name&gt;)\n",
    "> - sort()는 return 값이 없고, sorted()는 return 값이 있다. </br>\n",
    "> - 즉, sorted()는 원본이 바뀌지 않고, sort는 원본이 변경됨"
   ]
  },
  {
   "cell_type": "code",
   "execution_count": 20,
   "id": "0a935f8c",
   "metadata": {},
   "outputs": [
    {
     "name": "stdout",
     "output_type": "stream",
     "text": [
      "[1, 2, 5, 7, 9]\n",
      "['banana', 'apple', 'orange']\n",
      "['apple', 'banana', 'orange']\n"
     ]
    }
   ],
   "source": [
    "a = [1, 7, 9, 2, 5]\n",
    "a.sort()\n",
    "print(a)\n",
    "\n",
    "f = [\"banana\", \"apple\", \"orange\"]\n",
    "sorted(f)\n",
    "print(f)\n",
    "\n",
    "f.sort()\n",
    "print(f)"
   ]
  },
  {
   "cell_type": "code",
   "execution_count": 21,
   "id": "f2ca7b1f",
   "metadata": {},
   "outputs": [
    {
     "name": "stdout",
     "output_type": "stream",
     "text": [
      "9\n",
      "1\n",
      "24\n"
     ]
    }
   ],
   "source": [
    "# max(list_name), min(list_name), sum(list_name)\n",
    "\n",
    "a = [1, 7, 9, 2, 5]\n",
    "print(max(a))\n",
    "print(min(a))\n",
    "print(sum(a))"
   ]
  },
  {
   "cell_type": "code",
   "execution_count": 26,
   "id": "2ef54d7e",
   "metadata": {},
   "outputs": [
    {
     "name": "stdout",
     "output_type": "stream",
     "text": [
      "Enter a number: 7\n",
      "Enter a number: 2\n",
      "Enter a number: 9\n",
      "Enter a number: 3\n",
      "Enter a number: 5\n",
      "Enter a number: done\n",
      "[7.0, 2.0, 9.0, 3.0, 5.0]\n",
      "Average:  5.2\n",
      "Maximum:  9.0\n",
      "Minimum:  2.0\n"
     ]
    }
   ],
   "source": [
    "# list - 실습1\n",
    "# “done”을 입력할 때까지 사용자로부터 숫자를 입력 받아 리스트에 저장하고,\n",
    "# “done”을 입력하면, 리스트의 평균, 최대값과 최소값을 출력하는 프로그램을\n",
    "# 작성하시오. (힌트. sum(), max(), min() 함수를 사용)\n",
    "\n",
    "input_data = None\n",
    "number_list = list()\n",
    "\n",
    "while input_data != \"done\":\n",
    "    input_data = input(\"Enter a number: \")\n",
    "    if(input_data == \"done\"):\n",
    "        continue\n",
    "    \n",
    "    number_list.append(float(input_data))\n",
    "\n",
    "print(number_list)\n",
    "print(\"Average: \", sum(number_list)/len(number_list))\n",
    "print(\"Maximum: \", max(number_list))\n",
    "print(\"Minimum: \", min(number_list))"
   ]
  },
  {
   "cell_type": "code",
   "execution_count": 30,
   "id": "1428fea1",
   "metadata": {},
   "outputs": [
    {
     "name": "stdout",
     "output_type": "stream",
     "text": [
      "<class 'tuple'>\n"
     ]
    }
   ],
   "source": [
    "# tuple\n",
    "\n",
    "t = tuple()\n",
    "print(type(t))"
   ]
  },
  {
   "cell_type": "code",
   "execution_count": 32,
   "id": "20472fee",
   "metadata": {},
   "outputs": [
    {
     "name": "stdout",
     "output_type": "stream",
     "text": [
      "(1, 2, 3, 4, 5)\n",
      "<class 'tuple'>\n"
     ]
    }
   ],
   "source": [
    "# tuple - 소괄호 생략 가능\n",
    "\n",
    "t = 1, 2, 3, 4, 5\n",
    "print(t)\n",
    "print(type(t))"
   ]
  },
  {
   "cell_type": "markdown",
   "id": "ee794b81",
   "metadata": {},
   "source": [
    "##### Set\n",
    "> - 순서 없이 element를 저장. 항목이 중복될 수 없음 </br>\n",
    "> - 중복 제거 및 sorting에서 사용 가능 </br>"
   ]
  },
  {
   "cell_type": "code",
   "execution_count": 37,
   "id": "3ff02933",
   "metadata": {},
   "outputs": [
    {
     "name": "stdout",
     "output_type": "stream",
     "text": [
      "<class 'set'>\n",
      "{1, 2, 3, 4, 5, 6, 7, 9, 10}\n"
     ]
    }
   ],
   "source": [
    "s = set()\n",
    "\n",
    "print(type(s))\n",
    "\n",
    "s = {1, 2, 3, 3, 4, 3, 4, 5, 6, 10, 2, 7, 9}\n",
    "print(s)"
   ]
  },
  {
   "cell_type": "markdown",
   "id": "82bda572",
   "metadata": {},
   "source": [
    "##### Dictionary\n",
    "> - 중괄호{} 로 묶여 있으며, key와 value의 쌍으로 이루어짐 </br>\n",
    "> - ex. d = {key1 : value1, key2 : value2} </br>\n",
    "> - key로 value를 관리. key는 중복 될 수 없음. </br>\n",
    "> - 항목들 사이에 순서가 없음"
   ]
  },
  {
   "cell_type": "code",
   "execution_count": 47,
   "id": "538da3a2",
   "metadata": {},
   "outputs": [
    {
     "name": "stdout",
     "output_type": "stream",
     "text": [
      "<class 'dict'>\n",
      "{'kim': 1, 'park': 2}\n",
      "2\n",
      "{'kim': 5, 'park': 2}\n",
      "dict_keys(['kim', 'park'])\n",
      "dict_values([5, 2])\n",
      "dict_items([('kim', 5), ('park', 2)])\n",
      "True\n"
     ]
    }
   ],
   "source": [
    "d = dict()\n",
    "\n",
    "print(type(d))\n",
    "\n",
    "d[\"kim\"] = 1\n",
    "d[\"park\"] = 2\n",
    "\n",
    "print(d)\n",
    "\n",
    "# key를 사용하여 value에 접근\n",
    "print(d[\"park\"])\n",
    "\n",
    "# 이미 있는 key의 경우 기존 value 변경\n",
    "d[\"kim\"] = 5\n",
    "print(d)\n",
    "\n",
    "# key만 출력\n",
    "print(d.keys())\n",
    "\n",
    "# value만 출력\n",
    "print(d.values())\n",
    "\n",
    "# key와 value를 tuple로 출력\n",
    "print(d.items())\n",
    "\n",
    "# in 함수 사용 가능\n",
    "print(\"kim\" in d)\n"
   ]
  },
  {
   "cell_type": "code",
   "execution_count": 65,
   "id": "fcf23521",
   "metadata": {},
   "outputs": [
    {
     "name": "stdout",
     "output_type": "stream",
     "text": [
      "Enter a sentence: Python is fun!\n",
      "{'P': 1, 'y': 1, 't': 1, 'h': 1, 'o': 1, 'n': 2, ' ': 2, 'i': 1, 's': 1, 'f': 1, 'u': 1, '!': 1}\n"
     ]
    }
   ],
   "source": [
    "# Dictionary - 실습\n",
    "\n",
    "input_data = input(\"Enter a sentence: \")\n",
    "dict_data = dict()\n",
    "\n",
    "for char in input_data:\n",
    "    if char in dict_data:\n",
    "        dict_data[char] += 1\n",
    "    else:\n",
    "        dict_data[char] = 1\n",
    "\n",
    "print(dict_data)"
   ]
  },
  {
   "cell_type": "markdown",
   "id": "a34b008a",
   "metadata": {},
   "source": [
    "##### Pythonic Code\n",
    "> - 파이썬 특유의 문법을 활용하여 효율적으로 코드를 표현(파이썬 스타일의 코딩 기법)"
   ]
  },
  {
   "cell_type": "code",
   "execution_count": 68,
   "id": "0a916374",
   "metadata": {},
   "outputs": [
    {
     "name": "stdout",
     "output_type": "stream",
     "text": [
      "redgreenblue\n"
     ]
    }
   ],
   "source": [
    "# 여러 문자열을 하나로 이을 때\n",
    "\n",
    "''' 일반적인 방식\n",
    "colors = ['red', 'green', 'blue']\n",
    "result = \"\"\n",
    "\n",
    "for word in colors:\n",
    "    result += word\n",
    "'''\n",
    "\n",
    "result = \"\".join(colors)\n",
    "\n",
    "print(result)"
   ]
  },
  {
   "cell_type": "markdown",
   "id": "d1299067",
   "metadata": {},
   "source": [
    "##### List Comprehensions\n",
    "> - 리스트에 for 문을 사용하여 반복적으로 표현식을 실행해서 리스트 요소들을 정의하는 용법\n",
    "> - 기존 리스트를 사용하여 간단히 다른 리스트를 만드는 기법\n",
    "> - [ 표현식 for 요소 in 시퀀스자료형 [if 조건식] ]"
   ]
  },
  {
   "cell_type": "code",
   "execution_count": 71,
   "id": "e798db0b",
   "metadata": {},
   "outputs": [
    {
     "name": "stdout",
     "output_type": "stream",
     "text": [
      "[2, 4, 6, 8, 10]\n"
     ]
    }
   ],
   "source": [
    "ls = [i*2 for i in range(1, 6)]\n",
    "\n",
    "print(ls)"
   ]
  },
  {
   "cell_type": "code",
   "execution_count": 72,
   "id": "0304c7b3",
   "metadata": {},
   "outputs": [
    {
     "name": "stdout",
     "output_type": "stream",
     "text": [
      "[3, 4, 5, 6, 8, 10, 9, 12, 15]\n"
     ]
    }
   ],
   "source": [
    "L1 = [1, 2, 3]\n",
    "L2 = [3, 4, 5]\n",
    "\n",
    "ls = [x * y for x in L1 for y in L2]\n",
    "\n",
    "print(ls)"
   ]
  },
  {
   "cell_type": "markdown",
   "id": "08faf44f",
   "metadata": {},
   "source": [
    "- enumerate()\n",
    "> list의 모든 element를 index와 value의 쌍으로 추출"
   ]
  },
  {
   "cell_type": "code",
   "execution_count": 78,
   "id": "ac4a6119",
   "metadata": {},
   "outputs": [
    {
     "name": "stdout",
     "output_type": "stream",
     "text": [
      "[(0, 'red'), (1, 'green'), (2, 'blue')]\n",
      "0 red\n",
      "1 green\n",
      "2 blue\n"
     ]
    }
   ],
   "source": [
    "colors = [\"red\", \"green\", \"blue\"]\n",
    "result = list(enumerate(colors))\n",
    "print(result)\n",
    "\n",
    "for index, color in enumerate(colors):\n",
    "    print(index, color)"
   ]
  },
  {
   "cell_type": "markdown",
   "id": "d858be93",
   "metadata": {},
   "source": [
    "- zip()\n",
    "> 2개 이상의 list를, 각 list의 같은 index 원소끼리 묶은 튜플을 요소로 하는 리스트를 만들어 줌"
   ]
  },
  {
   "cell_type": "code",
   "execution_count": 80,
   "id": "be0615ee",
   "metadata": {},
   "outputs": [
    {
     "name": "stdout",
     "output_type": "stream",
     "text": [
      "[(1, 4), (2, 5), (3, 6)]\n",
      "[5, 7, 9]\n"
     ]
    }
   ],
   "source": [
    "a = list(zip([1,2,3], [4,5,6]))\n",
    "print(a)\n",
    "\n",
    "b = [sum(x) for x in zip([1, 2, 3], [4, 5, 6])]\n",
    "print(b)"
   ]
  },
  {
   "cell_type": "code",
   "execution_count": 87,
   "id": "c91f99fa",
   "metadata": {},
   "outputs": [
    {
     "name": "stdout",
     "output_type": "stream",
     "text": [
      "{'one': 1, 'two': 2, 'three': 3, 'four': 4}\n"
     ]
    }
   ],
   "source": [
    "# 실습 4-2 실습 1)\n",
    "\n",
    "L1 = [\"one\", \"two\", \"three\", \"four\"]\n",
    "L2 = [1, 2, 3, 4]\n",
    "\n",
    "dict_temp = {key:value for key, value in zip(L1, L2)}\n",
    "\n",
    "print(dict_temp)"
   ]
  },
  {
   "cell_type": "markdown",
   "id": "98e02068",
   "metadata": {},
   "source": [
    "##### 함수 (function)"
   ]
  },
  {
   "cell_type": "code",
   "execution_count": 89,
   "id": "1277fb27",
   "metadata": {},
   "outputs": [
    {
     "name": "stdout",
     "output_type": "stream",
     "text": [
      "300\n"
     ]
    }
   ],
   "source": [
    "def add(a, b):\n",
    "    result = a + b\n",
    "    return result\n",
    "\n",
    "add_result = add(100, 200)\n",
    "print(add_result)"
   ]
  },
  {
   "cell_type": "markdown",
   "id": "8530a264",
   "metadata": {},
   "source": [
    "##### 파일 (File)\n",
    "- &lt;file pointer&gt;.readline() : 파일에서 한 줄 읽어옴\n",
    "- &lt;file pointer&gt;.readlines() : 모든 라인을 한꺼번에 읽어서 각각의 줄을 요소로 갖는 list로 return\n",
    "- &lt;file pointer&gt;.read() : 파일을 전부 읽은 문자열을 반환\n",
    "- for문 사용 : for line in &lt;file pointer&gt;:"
   ]
  },
  {
   "cell_type": "code",
   "execution_count": 93,
   "id": "fcdc2fb6",
   "metadata": {},
   "outputs": [],
   "source": [
    "file_pointer = open(\"new.txt\", \"w\")\n",
    "\n",
    "for integer in range(1, 6):\n",
    "    data = \"{} line\\n\".format(integer)\n",
    "    file_pointer.write(data)\n",
    "\n",
    "file_pointer.close()    "
   ]
  },
  {
   "cell_type": "code",
   "execution_count": 98,
   "id": "b96b7906",
   "metadata": {},
   "outputs": [
    {
     "name": "stdout",
     "output_type": "stream",
     "text": [
      "1 line\n",
      "2 line\n",
      "3 line\n",
      "4 line\n",
      "5 line\n"
     ]
    }
   ],
   "source": [
    "file_pointer = open(\"new.txt\", \"r\")\n",
    "\n",
    "while True:\n",
    "    line = file_pointer.readline()\n",
    "    if line == \"\":\n",
    "        break\n",
    "    print(line, end=\"\")\n",
    "\n",
    "file_pointer.close()"
   ]
  },
  {
   "cell_type": "code",
   "execution_count": 100,
   "id": "df949751",
   "metadata": {},
   "outputs": [
    {
     "name": "stdout",
     "output_type": "stream",
     "text": [
      "1 line\n",
      "2 line\n",
      "3 line\n",
      "4 line\n",
      "5 line\n"
     ]
    }
   ],
   "source": [
    "file_pointer = open(\"new.txt\", \"r\")\n",
    "\n",
    "for line in file_pointer:\n",
    "    print(line, end=\"\")\n",
    "\n",
    "file_pointer.close()"
   ]
  },
  {
   "cell_type": "code",
   "execution_count": null,
   "id": "3288d9ca",
   "metadata": {},
   "outputs": [],
   "source": []
  }
 ],
 "metadata": {
  "kernelspec": {
   "display_name": "Python 3 (ipykernel)",
   "language": "python",
   "name": "python3"
  },
  "language_info": {
   "codemirror_mode": {
    "name": "ipython",
    "version": 3
   },
   "file_extension": ".py",
   "mimetype": "text/x-python",
   "name": "python",
   "nbconvert_exporter": "python",
   "pygments_lexer": "ipython3",
   "version": "3.9.7"
  }
 },
 "nbformat": 4,
 "nbformat_minor": 5
}
