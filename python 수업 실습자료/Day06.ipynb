{
 "cells": [
  {
   "cell_type": "code",
   "execution_count": 4,
   "id": "c8062259",
   "metadata": {},
   "outputs": [
    {
     "name": "stdout",
     "output_type": "stream",
     "text": [
      "0\n",
      "500\n",
      "500\n",
      "200\n",
      "200\n"
     ]
    }
   ],
   "source": [
    "balance = 0\n",
    "\n",
    "def deposit(amount):\n",
    "    global balance\n",
    "    balance += amount\n",
    "    return balance\n",
    "\n",
    "def withdraw(amount):\n",
    "    global balance\n",
    "    balance -= amount\n",
    "    return balance\n",
    "    \n",
    "\n",
    "print(balance)\n",
    "print(deposit(500))\n",
    "print(balance)\n",
    "print(withdraw(300))\n",
    "print(balance)"
   ]
  },
  {
   "cell_type": "code",
   "execution_count": 6,
   "id": "63503bc8",
   "metadata": {},
   "outputs": [
    {
     "name": "stdout",
     "output_type": "stream",
     "text": [
      "<class 'list'>\n"
     ]
    }
   ],
   "source": [
    "list_ex = [1, 2, 3]\n",
    "print(type(list_ex))"
   ]
  },
  {
   "cell_type": "code",
   "execution_count": 9,
   "id": "f8ee8f1e",
   "metadata": {},
   "outputs": [
    {
     "name": "stdout",
     "output_type": "stream",
     "text": [
      "Wal Wal !!\n"
     ]
    }
   ],
   "source": [
    "class Dog:\n",
    "    name = \"MongJa\"\n",
    "    \n",
    "    def bark(self):\n",
    "        return \"Wal Wal !!\"\n",
    "\n",
    "dog1 = Dog()\n",
    "\n",
    "print(dog1.bark())"
   ]
  },
  {
   "cell_type": "code",
   "execution_count": 16,
   "id": "beb978de",
   "metadata": {},
   "outputs": [
    {
     "name": "stdout",
     "output_type": "stream",
     "text": [
      "<class '__main__.Dog'>\n",
      "<class 'method'>\n",
      "<class 'str'>\n"
     ]
    }
   ],
   "source": [
    "print(type(dog1))\n",
    "print(type(dog1.bark))\n",
    "print(type(dog1.bark()))"
   ]
  },
  {
   "cell_type": "markdown",
   "id": "8b34a0ea",
   "metadata": {},
   "source": [
    "#### Class\n",
    "- 데이터와 함수를 묶어 객체로 만들어 주는 개념\n",
    "- 객체의 기반이 되는 틀을 정의하는 개념\n",
    "- PEP8에 의하면 Class는 첫 글자를 대문자로, 나머지는 소문자로\n",
    "\n",
    "#### Special Method\n",
    "- Special Method의 특징\n",
    "> - 항상 \"&#95;&#95;<메서드 이름>&#95;&#95;\"과 같은 이름을 가짐\n",
    "> - 내장 함수와 동일하게 미리 동작이 정의 되어 있음\n",
    "> - 일반적인 메서드의 사용 방법과는 다르게 자동으로 작동함\n",
    "\n",
    "- 가장 대표적인 특수 메서트 : &#95;&#95;init&#95;&#95;\n",
    "> - java의 생성자와 유사\n",
    "> - 인스턴스 생성시 자동으로 호출되는 메서드\n",
    "> - 인스턴스가 갖게 될 여러 어트리뷰트를 정해주는 역할"
   ]
  },
  {
   "cell_type": "code",
   "execution_count": 18,
   "id": "c31b6c5f",
   "metadata": {},
   "outputs": [
    {
     "name": "stdout",
     "output_type": "stream",
     "text": [
      "__init__ 함수 호출\n",
      "__init__ 함수 호출\n",
      "MongJa\n",
      "0\n",
      "DangDang-Yee\n",
      "5\n"
     ]
    }
   ],
   "source": [
    "class Dog:\n",
    "    def __init__(self, name=\"MongJa\", age=0):\n",
    "        print(\"__init__ 함수 호출\")\n",
    "        self.name = name\n",
    "        self.age = age\n",
    "    \n",
    "    def bark(self):\n",
    "        return \"Wal Wal !!\"\n",
    "\n",
    "dog1 = Dog()\n",
    "dog2 = Dog(\"DangDang-Yee\", 5)\n",
    "\n",
    "print(dog1.name)\n",
    "print(dog1.age)\n",
    "\n",
    "print(dog2.name)\n",
    "print(dog2.age)"
   ]
  },
  {
   "cell_type": "markdown",
   "id": "26fbd1b5",
   "metadata": {},
   "source": [
    "#### self\n",
    "- 인스턴스의 직관적인 사용 및 사용자 편의 도모\n",
    "- 자기 자신 객체를 호출하는 argument\n",
    "> ex)</br>\n",
    ">     a = [1, 2, 3]\n",
    ">     list.append(a, 5)\n",
    ">     a.append(5)\n",
    "> - list.append(a, 5)와 a.append(5)는 같은 일을 함. 그러나 후자가 더 직관적."
   ]
  },
  {
   "cell_type": "code",
   "execution_count": 29,
   "id": "f154c7f9",
   "metadata": {},
   "outputs": [
    {
     "name": "stdout",
     "output_type": "stream",
     "text": [
      "28\n",
      "29\n",
      "174\n",
      "52\n",
      "Oh Seung Hwan\n"
     ]
    }
   ],
   "source": [
    "# 클래스 실습\n",
    "# 사람 클래스 만들기\n",
    "\n",
    "class Person:\n",
    "    def __init__(self, name, age, height, weight):\n",
    "        self.name = name\n",
    "        self.age = age\n",
    "        self.height = height\n",
    "        self.weight = weight\n",
    "    \n",
    "    def age_up(self):\n",
    "        self.age += 1\n",
    "        return\n",
    "    \n",
    "    def set_name(self, name):\n",
    "        self.name = name\n",
    "        return\n",
    "    \n",
    "    def set_height(self, height):\n",
    "        self.height = height\n",
    "        return\n",
    "    \n",
    "    def set_weight(self, weight):\n",
    "        self.weight = weight\n",
    "        return\n",
    "    \n",
    "    def get_height(self): return self.height\n",
    "    def get_weight(self): return self.weight\n",
    "    def get_name(self): return self.name\n",
    "    def get_age(self): return self.age\n",
    "\n",
    "person_me = Person(\"Oh Seung Hwan\", 28, 174, 52)\n",
    "\n",
    "print(person_me.get_age())\n",
    "person_me.age_up()\n",
    "print(person_me.get_age())\n",
    "print(person_me.get_height())\n",
    "print(person_me.get_weight())\n",
    "print(person_me.get_name())"
   ]
  },
  {
   "cell_type": "markdown",
   "id": "8d9adecd",
   "metadata": {},
   "source": [
    "##### dir(&#60;class name&#62;)\n",
    "- class의 element를 list로 묶어서 return"
   ]
  },
  {
   "cell_type": "code",
   "execution_count": 30,
   "id": "fdc9d70a",
   "metadata": {},
   "outputs": [
    {
     "data": {
      "text/plain": [
       "['__class__',\n",
       " '__delattr__',\n",
       " '__dict__',\n",
       " '__dir__',\n",
       " '__doc__',\n",
       " '__eq__',\n",
       " '__format__',\n",
       " '__ge__',\n",
       " '__getattribute__',\n",
       " '__gt__',\n",
       " '__hash__',\n",
       " '__init__',\n",
       " '__init_subclass__',\n",
       " '__le__',\n",
       " '__lt__',\n",
       " '__module__',\n",
       " '__ne__',\n",
       " '__new__',\n",
       " '__reduce__',\n",
       " '__reduce_ex__',\n",
       " '__repr__',\n",
       " '__setattr__',\n",
       " '__sizeof__',\n",
       " '__str__',\n",
       " '__subclasshook__',\n",
       " '__weakref__',\n",
       " 'age_up',\n",
       " 'get_age',\n",
       " 'get_height',\n",
       " 'get_name',\n",
       " 'get_weight',\n",
       " 'set_height',\n",
       " 'set_name',\n",
       " 'set_weight']"
      ]
     },
     "execution_count": 30,
     "metadata": {},
     "output_type": "execute_result"
    }
   ],
   "source": [
    "dir(Person)"
   ]
  },
  {
   "cell_type": "code",
   "execution_count": null,
   "id": "77417ae6",
   "metadata": {},
   "outputs": [],
   "source": []
  }
 ],
 "metadata": {
  "kernelspec": {
   "display_name": "Python 3 (ipykernel)",
   "language": "python",
   "name": "python3"
  },
  "language_info": {
   "codemirror_mode": {
    "name": "ipython",
    "version": 3
   },
   "file_extension": ".py",
   "mimetype": "text/x-python",
   "name": "python",
   "nbconvert_exporter": "python",
   "pygments_lexer": "ipython3",
   "version": "3.9.7"
  }
 },
 "nbformat": 4,
 "nbformat_minor": 5
}
