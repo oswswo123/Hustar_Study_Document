{
 "cells": [
  {
   "cell_type": "markdown",
   "id": "80fdea9c",
   "metadata": {},
   "source": [
    "#### 가변 매개변수\n",
    "> - argument가 몇 개인지 모를 경우 사용\n",
    "> - 가변 매개변수는 argument의 가장 뒤에 사용\n",
    "> - ex) def count_even(num, *nums): (o)\n",
    "> - ex) def count_even(num, *nums, num2): (x)"
   ]
  },
  {
   "cell_type": "code",
   "execution_count": 1,
   "id": "76bfd6b1",
   "metadata": {},
   "outputs": [
    {
     "name": "stdout",
     "output_type": "stream",
     "text": [
      "2\n"
     ]
    }
   ],
   "source": [
    "def count_even(*nums):\n",
    "    count = 0\n",
    "    for value in nums:\n",
    "        if value % 2 == 0:\n",
    "            count += 1\n",
    "    return count\n",
    "\n",
    "print(count_even(1, 2, 3, 4, 5))"
   ]
  },
  {
   "cell_type": "code",
   "execution_count": 9,
   "id": "5996e96f",
   "metadata": {},
   "outputs": [
    {
     "name": "stdout",
     "output_type": "stream",
     "text": [
      "15\n"
     ]
    }
   ],
   "source": [
    "def add_all(*nums):\n",
    "    return sum(nums)\n",
    "\n",
    "print(add_all(1, 2, 3, 4, 5))"
   ]
  },
  {
   "cell_type": "code",
   "execution_count": 13,
   "id": "acb2016c",
   "metadata": {},
   "outputs": [
    {
     "name": "stdout",
     "output_type": "stream",
     "text": [
      "[1.5, 1.5] [7.5, 5.5] [4.140000000000001, 2.72]\n"
     ]
    }
   ],
   "source": [
    "# 실습 4\n",
    "\n",
    "def vector_sum(vector, *vectors):\n",
    "    sum_of_vector = vector[:]\n",
    "    for item in vectors:\n",
    "        sum_of_vector[0] += item[0]\n",
    "        sum_of_vector[1] += item[1]\n",
    "    return sum_of_vector\n",
    "\n",
    "v1 = [0, 1]\n",
    "v2 = [0.5, 0.5]\n",
    "v3 = [1, 0]\n",
    "v4 = [6, 4]\n",
    "v5 = [3.14, 2.72]\n",
    "\n",
    "m1 = vector_sum(v1, v2, v3)\n",
    "m2 = vector_sum(v1, v2, v3, v4)\n",
    "m3 = vector_sum(v3, v5)\n",
    "print(m1, m2, m3)"
   ]
  },
  {
   "cell_type": "markdown",
   "id": "a6fa9fb5",
   "metadata": {},
   "source": [
    "#### default 매개변수\n",
    "> - argument의 default값을 지정해 줄 수 있다\n",
    "> - 함수 호출 시, 해당 매개변수에 대응되는 값을 주지 않으면 정의할 때 지정한 기본값을 가짐\n",
    "> - 앞 argument가 default값을 가지면 뒤에 오는 argument는 반드시 default를 가져야 함\n",
    "> - ex) def print_name(first=\"kim\", second): (x)\n",
    "> - ex) def print_name(first, second=\"kim\", third=\"M\"): (o)"
   ]
  },
  {
   "cell_type": "code",
   "execution_count": 14,
   "id": "25eac8f6",
   "metadata": {},
   "outputs": [
    {
     "name": "stdout",
     "output_type": "stream",
     "text": [
      "My name is Gildong Hong.\n",
      "My name is Gildong kim.\n"
     ]
    }
   ],
   "source": [
    "def print_name(first, second=\"kim\"):\n",
    "    print(\"My name is\", first, second + \".\")\n",
    "\n",
    "print_name(\"Gildong\", \"Hong\")\n",
    "print_name(\"Gildong\")"
   ]
  },
  {
   "cell_type": "markdown",
   "id": "9ceecc26",
   "metadata": {},
   "source": [
    "#### keyward 매개변수\n",
    "> - 함수 호출 시, 해당 매개변수 이름을 명시적으로 지정해서 전달\n",
    "> - ex) def calc(x, y=0, z=0):\n",
    "> - ex) ... return\n",
    "> - ex) result = calc(y=20, x=10, z=30)  -> 매개변수 순서 상관이 없음"
   ]
  },
  {
   "cell_type": "code",
   "execution_count": 21,
   "id": "8c3d5503",
   "metadata": {},
   "outputs": [
    {
     "name": "stdout",
     "output_type": "stream",
     "text": [
      "[1, 1, 2, 2, 3, 5, 9]\n",
      "[0, 4, 6, 9]\n",
      "[0, 0]\n"
     ]
    }
   ],
   "source": [
    "# 실습 5\n",
    "\n",
    "def merge_list(input_list1 = [0], input_list2 = [0]):\n",
    "    temp_list = input_list1[:]\n",
    "    temp_list += input_list2\n",
    "    temp_list.sort()\n",
    "    return temp_list\n",
    "\n",
    "l = [3, 5, 9, 1, 2]\n",
    "ml1 = merge_list(l, [2, 1])\n",
    "ml2 = merge_list([6, 9, 4])\n",
    "ml3 = merge_list()\n",
    "print(ml1)\n",
    "print(ml2)\n",
    "print(ml3)"
   ]
  },
  {
   "cell_type": "code",
   "execution_count": 7,
   "id": "62111fbe",
   "metadata": {},
   "outputs": [
    {
     "name": "stdout",
     "output_type": "stream",
     "text": [
      "3\n",
      "1\n"
     ]
    }
   ],
   "source": [
    "import arth\n",
    "\n",
    "print(arth.add(1, 2))\n",
    "print(arth.sub(3, 2))"
   ]
  },
  {
   "cell_type": "code",
   "execution_count": 9,
   "id": "d26a446a",
   "metadata": {},
   "outputs": [
    {
     "name": "stdout",
     "output_type": "stream",
     "text": [
      "e\n"
     ]
    }
   ],
   "source": [
    "import random\n",
    "\n",
    "# input 중 하나를 random으로 return\n",
    "print(random.choice(\"abcdefg\"))"
   ]
  },
  {
   "cell_type": "code",
   "execution_count": 10,
   "id": "0cf0fbcd",
   "metadata": {},
   "outputs": [
    {
     "name": "stdout",
     "output_type": "stream",
     "text": [
      "9\n"
     ]
    }
   ],
   "source": [
    "print(random.randint(1, 10))"
   ]
  },
  {
   "cell_type": "code",
   "execution_count": 11,
   "id": "4f0ca961",
   "metadata": {},
   "outputs": [
    {
     "name": "stdout",
     "output_type": "stream",
     "text": [
      "10\n"
     ]
    }
   ],
   "source": [
    "print(random.randrange(1, 11))"
   ]
  },
  {
   "cell_type": "code",
   "execution_count": 18,
   "id": "07be3a2b",
   "metadata": {},
   "outputs": [
    {
     "name": "stdout",
     "output_type": "stream",
     "text": [
      "[1, 4, 5, 10, 8, 3, 9, 7, 2, 6]\n",
      "[4, 2]\n"
     ]
    }
   ],
   "source": [
    "temp_list = [1, 2, 3, 4, 5, 6, 7, 8, 9, 10]\n",
    "\n",
    "random.shuffle(temp_list)\n",
    "print(temp_list)\n",
    "\n",
    "print(random.sample(temp_list, 2))"
   ]
  },
  {
   "cell_type": "code",
   "execution_count": 97,
   "id": "e4fb4c80",
   "metadata": {},
   "outputs": [
    {
     "name": "stdout",
     "output_type": "stream",
     "text": [
      "** 로또 번호 자동 기입을 시작합니다 **\n",
      "1번째 자동 기입 ==>  12 19 23 28 38 45\n",
      "2번째 자동 기입 ==>  5 6 16 22 36 39\n",
      "3번째 자동 기입 ==>  12 18 28 29 33 44\n",
      "4번째 자동 기입 ==>  11 14 16 23 34 44\n",
      "5번째 자동 기입 ==>  4 5 8 17 24 39\n"
     ]
    }
   ],
   "source": [
    "# 실습 6\n",
    "# 로또 번호 자동 기입 프로그램\n",
    "\n",
    "import random\n",
    "\n",
    "def lotto_program():\n",
    "    number_list = list(range(1, 46))\n",
    "    lotto_list = list()\n",
    "\n",
    "    for _ in range(5):\n",
    "        temp = random.sample(number_list, 6)\n",
    "        temp.sort()\n",
    "        lotto_list.append(temp)\n",
    "\n",
    "    print(\"** 로또 번호 자동 기입을 시작합니다 **\")\n",
    "    count = 1\n",
    "    for string in lotto_list:\n",
    "        print(\"{}번째 자동 기입 ==> \".format(count), *string)\n",
    "        count += 1\n",
    "    return\n",
    "\n",
    "lotto_program()"
   ]
  },
  {
   "cell_type": "code",
   "execution_count": 98,
   "id": "5fc6cfba",
   "metadata": {},
   "outputs": [
    {
     "name": "stdout",
     "output_type": "stream",
     "text": [
      "1\n",
      "9\n",
      "[3, 5, 2]\n"
     ]
    }
   ],
   "source": [
    "# 실습 7\n",
    "\n",
    "def get_min_max(input_list):\n",
    "    min_val = min(input_list)\n",
    "    max_val = max(input_list)\n",
    "    \n",
    "    input_list.remove(min_val)\n",
    "    input_list.remove(max_val)\n",
    "    \n",
    "    return min_val, max_val\n",
    "\n",
    "l = [3, 5, 9, 1, 2]\n",
    "min_val, max_val = get_min_max(l)\n",
    "\n",
    "print(min_val)\n",
    "print(max_val)\n",
    "print(l)"
   ]
  },
  {
   "cell_type": "code",
   "execution_count": 104,
   "id": "986d17a2",
   "metadata": {},
   "outputs": [
    {
     "name": "stdout",
     "output_type": "stream",
     "text": [
      "{'a': 3, 'b': 3, 'd': 7, 'e': 9, 'c': 4}\n"
     ]
    }
   ],
   "source": [
    "# 실습 8\n",
    "\n",
    "import copy\n",
    "\n",
    "def comb_dict(input_dict_1, input_dict_2):\n",
    "    co_dict = copy.deepcopy(input_dict_1)\n",
    "    \n",
    "    for key, value in input_dict_2.items():\n",
    "        if key in co_dict:\n",
    "            co_dict[key] += value\n",
    "        else:\n",
    "            co_dict[key] = value\n",
    "    return co_dict\n",
    "\n",
    "d1 = {\"a\": 1, \"b\": 3, \"d\": 7, \"e\": 8}\n",
    "d2 = {\"a\": 2, \"c\": 4, \"e\": 1}\n",
    "d3 = comb_dict(d1, d2)\n",
    "print(d3)"
   ]
  },
  {
   "cell_type": "code",
   "execution_count": 102,
   "id": "5622b288",
   "metadata": {},
   "outputs": [
    {
     "name": "stdout",
     "output_type": "stream",
     "text": [
      "4\n",
      "300\n"
     ]
    }
   ],
   "source": [
    "# 실습 9\n",
    "\n",
    "def diff(first, second, *etc):\n",
    "    temp_list = list()\n",
    "    temp_list.append(first)\n",
    "    temp_list.append(second)\n",
    "    \n",
    "    for number in etc:\n",
    "        temp_list.append(number)\n",
    "        \n",
    "    return max(temp_list) - min(temp_list)\n",
    "\n",
    "print(diff(1, 2, 3, 4, 5))\n",
    "print(diff(-100, 200))\n",
    "\n",
    "# 오류 발생 해야함\n",
    "# diff(1) "
   ]
  },
  {
   "cell_type": "code",
   "execution_count": null,
   "id": "8d3d69f7",
   "metadata": {},
   "outputs": [],
   "source": []
  }
 ],
 "metadata": {
  "kernelspec": {
   "display_name": "Python 3 (ipykernel)",
   "language": "python",
   "name": "python3"
  },
  "language_info": {
   "codemirror_mode": {
    "name": "ipython",
    "version": 3
   },
   "file_extension": ".py",
   "mimetype": "text/x-python",
   "name": "python",
   "nbconvert_exporter": "python",
   "pygments_lexer": "ipython3",
   "version": "3.9.7"
  }
 },
 "nbformat": 4,
 "nbformat_minor": 5
}
