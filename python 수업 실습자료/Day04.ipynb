{
 "cells": [
  {
   "cell_type": "code",
   "execution_count": 3,
   "id": "a5d83587",
   "metadata": {},
   "outputs": [],
   "source": [
    "file_pointer = open(\"new.txt\", \"w\")\n",
    "\n",
    "for integer in range(1, 6):\n",
    "    data = \"{} line\\n\".format(integer)\n",
    "    file_pointer.write(data)\n",
    "\n",
    "file_pointer.close()"
   ]
  },
  {
   "cell_type": "code",
   "execution_count": 8,
   "id": "10bd304f",
   "metadata": {},
   "outputs": [
    {
     "name": "stdout",
     "output_type": "stream",
     "text": [
      "1 line\n",
      "2 line\n",
      "3 line\n",
      "4 line\n",
      "5 line\n"
     ]
    }
   ],
   "source": [
    "file_pointer = open(\"new.txt\", \"r\")\n",
    "\n",
    "lines = file_pointer.readlines()\n",
    "\n",
    "for line in lines:\n",
    "    line = line[:-1]\n",
    "    print(line)\n",
    "\n",
    "file_pointer.close()"
   ]
  },
  {
   "cell_type": "markdown",
   "id": "3d7dae6b",
   "metadata": {},
   "source": [
    "실습 1) - PPT 자료\n",
    "파일에 있는 각각의 단어 수 구하기\n",
    "> <test.txt></br>\n",
    "> first line hello world</br>\n",
    "> second line</br>\n",
    "> third line</br> \n",
    "> python is fun</br>"
   ]
  },
  {
   "cell_type": "code",
   "execution_count": 5,
   "id": "346eed3f",
   "metadata": {},
   "outputs": [
    {
     "name": "stdout",
     "output_type": "stream",
     "text": [
      "line 3\n",
      "first 1\n",
      "hello 1\n",
      "world 1\n",
      "second 1\n",
      "third 1\n",
      "python 1\n",
      "is 1\n",
      "fun 1\n"
     ]
    }
   ],
   "source": [
    "import os\n",
    "\n",
    "file_pointer = open(\"test.txt\", \"r\")\n",
    "if os.path.exists(\"test.txt\") != True:\n",
    "    print(\"파일이 존재하지 않는다.\")\n",
    "    exit(1)\n",
    "\n",
    "temp_dict = dict()\n",
    "\n",
    "for line in file_pointer:\n",
    "    token_list = line.split()\n",
    "    for token in token_list:\n",
    "        if token in temp_dict:\n",
    "            temp_dict[token] += 1\n",
    "        else:\n",
    "            temp_dict[token] = 1\n",
    "\n",
    "file_pointer.close()\n",
    "\n",
    "temp_list = list()\n",
    "for key, value in temp_dict.items():\n",
    "    temp_list.append([key, value])\n",
    "\n",
    "temp_list.sort(key=lambda obj : obj[1], reverse=True)\n",
    "\n",
    "for line in temp_list:\n",
    "    word, count = line\n",
    "    print(word, count)"
   ]
  },
  {
   "cell_type": "markdown",
   "id": "239e4f25",
   "metadata": {},
   "source": [
    "##### lambda function\n",
    "> 사용법 : lambda 인자리스트 : 표현식</br>\n",
    "> ex) gl = lambda num_1, num_2 : num_1 + num_2 + (num_1 * num_2)</br>\n",
    "> ex) print(gl(5, 10))</br>\n",
    "> ex) 65</br>"
   ]
  },
  {
   "cell_type": "code",
   "execution_count": 1,
   "id": "b48be6cb",
   "metadata": {},
   "outputs": [
    {
     "name": "stdout",
     "output_type": "stream",
     "text": [
      "65\n"
     ]
    }
   ],
   "source": [
    "gl = lambda num_1, num_2 : num_1 + num_2 + (num_1 * num_2)\n",
    "print(gl(5, 10))"
   ]
  },
  {
   "cell_type": "markdown",
   "id": "046b6705",
   "metadata": {},
   "source": [
    "실습 2) - PPT 자료\n",
    "파일명을 입력 받아, 해당 파일을 한 줄씩 읽어 파일의 내용을 모두 대문자로 출력하는 프로그램을 작성하시오. 단, 파일이 없는 경우 \"파일이 존재하지 않는다\" 정도의 메시지를 출력할 것."
   ]
  },
  {
   "cell_type": "code",
   "execution_count": 22,
   "id": "5ae07d6c",
   "metadata": {},
   "outputs": [
    {
     "name": "stdout",
     "output_type": "stream",
     "text": [
      "Enter a file name:test.txt\n",
      "FIRST LINE HELLO WORLD\n",
      "SECOND LINE\n",
      "THIRD LINE\n",
      "PYTHON IS FUN\n"
     ]
    }
   ],
   "source": [
    "import os\n",
    "\n",
    "input_string = input(\"Enter a file name:\")\n",
    "if os.path.exists(input_string) != True:\n",
    "    print(\"파일이 존재하지 않는다.\")\n",
    "    exit(1)\n",
    "\n",
    "file_pointer = open(input_string, \"r\")\n",
    "\n",
    "for line in file_pointer:\n",
    "    line = line.upper()\n",
    "    if line[-1] == \"\\n\":\n",
    "        line = line[:-1]\n",
    "    print(line)\n",
    "\n",
    "file_pointer.close()"
   ]
  },
  {
   "cell_type": "markdown",
   "id": "84d72cae",
   "metadata": {},
   "source": [
    "실습 4) 아래의 score.txt를 읽어서 학생들의 성적을 처리하여 그 결과를 report.txt로 출력하는 프로그램을 작성하시오."
   ]
  },
  {
   "cell_type": "code",
   "execution_count": 40,
   "id": "71abdf61",
   "metadata": {},
   "outputs": [],
   "source": [
    "file_pointer = open(\"score.txt\", \"r\")\n",
    "\n",
    "score_list = list()\n",
    "\n",
    "for line in file_pointer:\n",
    "    data = line.split()\n",
    "    score_list.append(data)\n",
    "\n",
    "file_pointer.close()\n",
    "\n",
    "for score_data in score_list:\n",
    "    total_score = float(score_data[1]) * 0.4 + float(score_data[2]) * 0.6\n",
    "    if total_score >= 90:\n",
    "        total_score = str(total_score) + \"(A)\"\n",
    "    elif total_score >= 80 and total_score < 90:\n",
    "        total_score = str(total_score) + \"(B)\"\n",
    "    elif total_score >= 70 and total_score < 80:\n",
    "        total_score = str(total_score) + \"(C)\"\n",
    "    elif total_score >= 60 and total_score < 70:\n",
    "        total_score = str(total_score) + \"(D)\"\n",
    "    elif total_score < 60:\n",
    "        total_score = str(total_score) + \"(F)\"\n",
    "    else:\n",
    "        print(\"error !\")\n",
    "    \n",
    "    score_data.append(total_score)\n",
    "\n",
    "file_pointer = open(\"report.txt\", \"w\")\n",
    "\n",
    "counter = 0\n",
    "for score_data in score_list:\n",
    "    file_pointer.write(score_data[0] + \" \" + score_data[1] + \" \" + score_data[2]\n",
    "                       + \"  \" + score_data[3])\n",
    "    counter += 1\n",
    "    \n",
    "    if counter != len(score_list):\n",
    "        file_pointer.write(\"\\n\")\n",
    "\n",
    "file_pointer.close()"
   ]
  },
  {
   "cell_type": "code",
   "execution_count": 29,
   "id": "bfb652d2",
   "metadata": {},
   "outputs": [
    {
     "name": "stdout",
     "output_type": "stream",
     "text": [
      "6 14\n",
      "6 14\n"
     ]
    }
   ],
   "source": [
    "# 실습 1\n",
    "\n",
    "def my_len(input_string):\n",
    "    length = 0\n",
    "    for _ in input_string:\n",
    "        length += 1    \n",
    "    return length\n",
    "\n",
    "a = [5, 5, 6, 7, 8, 3]\n",
    "b = \"Life is short.\"\n",
    "\n",
    "print(len(a), len(b))\n",
    "print(my_len(a), my_len(b))"
   ]
  },
  {
   "cell_type": "code",
   "execution_count": 42,
   "id": "cf39a5b3",
   "metadata": {},
   "outputs": [
    {
     "name": "stdout",
     "output_type": "stream",
     "text": [
      "7\n",
      "12\n"
     ]
    }
   ],
   "source": [
    "# 실습 1-1\n",
    "\n",
    "def add_and_mul(a, b):\n",
    "    return (a+b, a*b)\n",
    "\n",
    "add_res, mul_res = add_and_mul(3, 4)\n",
    "print(add_res)\n",
    "print(mul_res)"
   ]
  },
  {
   "cell_type": "code",
   "execution_count": 1,
   "id": "63fd2cda",
   "metadata": {},
   "outputs": [
    {
     "name": "stdout",
     "output_type": "stream",
     "text": [
      "6\n",
      "120\n"
     ]
    }
   ],
   "source": [
    "# 실습 2\n",
    "\n",
    "def mult(a, b):\n",
    "    result = 1\n",
    "    for number in range(a, b+1):\n",
    "        result *= number\n",
    "    return result\n",
    "\n",
    "print(mult(1, 3))\n",
    "print(mult(2, 5))"
   ]
  },
  {
   "cell_type": "code",
   "execution_count": 51,
   "id": "bc919241",
   "metadata": {},
   "outputs": [
    {
     "name": "stdout",
     "output_type": "stream",
     "text": [
      "7 -9\n",
      "1 -1\n"
     ]
    }
   ],
   "source": [
    "# 실습 3\n",
    "\n",
    "def sum_pos_neg(input_list):\n",
    "    pos_sum = 0\n",
    "    neg_sum = 0\n",
    "    for number in input_list:\n",
    "        if number > 0:\n",
    "            pos_sum += number\n",
    "        else:\n",
    "            neg_sum += number\n",
    "    return pos_sum, neg_sum\n",
    "\n",
    "possum, negsum = sum_pos_neg([3, 4, -6, -3])\n",
    "print(possum, negsum)\n",
    "\n",
    "mylist = [0, 0, 0, 0, 0, 0, 0, 0, 0, 1, -1]\n",
    "possum2, negsum2 = sum_pos_neg(mylist)\n",
    "print(possum2, negsum2)"
   ]
  },
  {
   "cell_type": "code",
   "execution_count": null,
   "id": "3b61fbd4",
   "metadata": {},
   "outputs": [],
   "source": []
  }
 ],
 "metadata": {
  "kernelspec": {
   "display_name": "Python 3 (ipykernel)",
   "language": "python",
   "name": "python3"
  },
  "language_info": {
   "codemirror_mode": {
    "name": "ipython",
    "version": 3
   },
   "file_extension": ".py",
   "mimetype": "text/x-python",
   "name": "python",
   "nbconvert_exporter": "python",
   "pygments_lexer": "ipython3",
   "version": "3.9.7"
  }
 },
 "nbformat": 4,
 "nbformat_minor": 5
}
