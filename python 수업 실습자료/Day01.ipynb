{
 "cells": [
  {
   "cell_type": "markdown",
   "id": "e2ff90c4",
   "metadata": {},
   "source": [
    "### Hello, World !! 출력\n",
    "print 함수로 ***Hello, Wolrd !!*** 를 <br>\n",
    "출력합니다"
   ]
  },
  {
   "cell_type": "code",
   "execution_count": 2,
   "id": "6d4fb927",
   "metadata": {
    "scrolled": true
   },
   "outputs": [
    {
     "name": "stdout",
     "output_type": "stream",
     "text": [
      "Hello world !!\n"
     ]
    }
   ],
   "source": [
    "print(\"Hello World !!\")\n",
    "print(\"Hello World !!\")\n",
    "print(\"Hello World !!\")"
   ]
  },
  {
   "cell_type": "code",
   "execution_count": 4,
   "id": "daf26fea",
   "metadata": {},
   "outputs": [
    {
     "name": "stdout",
     "output_type": "stream",
     "text": [
      "Enter your name : SeungHwan_Oh\n",
      "SeungHwan_Oh\n"
     ]
    }
   ],
   "source": [
    "name = input(\"Enter your name : \")\n",
    "print(name)"
   ]
  },
  {
   "cell_type": "code",
   "execution_count": null,
   "id": "94d1137d",
   "metadata": {},
   "outputs": [],
   "source": []
  }
 ],
 "metadata": {
  "kernelspec": {
   "display_name": "Python 3 (ipykernel)",
   "language": "python",
   "name": "python3"
  },
  "language_info": {
   "codemirror_mode": {
    "name": "ipython",
    "version": 3
   },
   "file_extension": ".py",
   "mimetype": "text/x-python",
   "name": "python",
   "nbconvert_exporter": "python",
   "pygments_lexer": "ipython3",
   "version": "3.9.7"
  }
 },
 "nbformat": 4,
 "nbformat_minor": 5
}
