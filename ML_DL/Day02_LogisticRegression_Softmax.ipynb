{
 "cells": [
  {
   "cell_type": "code",
   "execution_count": 3,
   "id": "de79bfb3-fa03-4ea9-af12-40ba7076d32c",
   "metadata": {},
   "outputs": [],
   "source": [
    "import tensorflow as tf\n",
    "import numpy as np\n",
    "import pandas as pd\n",
    "import matplotlib.pyplot as plt\n",
    "import random\n",
    "\n",
    "random.seed(1)\n",
    "np.random.seed(1)\n",
    "tf.random.set_seed(1)"
   ]
  },
  {
   "cell_type": "code",
   "execution_count": 10,
   "id": "53fcc534-3cad-40b9-b07d-80ed3bff6565",
   "metadata": {},
   "outputs": [
    {
     "name": "stdout",
     "output_type": "stream",
     "text": [
      "tf.Tensor(\n",
      "[3.9868412 3.5705628 3.1794603 3.8390007 4.0045967 2.9357703 2.3844175\n",
      " 2.752141  1.5923578 3.2721753 3.5191803 3.9702654 4.3685017 3.822718\n",
      " 2.049305  2.549039  2.9378245 2.9167316 2.2858586 2.4225528], shape=(20,), dtype=float32)\n",
      "tf.Tensor(\n",
      "[5.1025014 6.597985  7.234834  5.394439  6.4014525 6.0227747 5.7620163\n",
      " 5.627129  5.3607    4.9423194 6.1076727 6.1861634 5.2216816 7.779335\n",
      " 7.6827497 5.682905  6.30909   5.797064  7.0187526 6.4636674], shape=(20,), dtype=float32)\n"
     ]
    }
   ],
   "source": [
    "# Logistic Regression\n",
    "\n",
    "x_0 = tf.random.normal([20], 3, 1)\n",
    "x_1 = tf.random.normal([20], 5.5, 1)\n",
    "y_0 = tf.zeros(20)\n",
    "y_1 = tf.ones(20)\n",
    "\n",
    "print(x_0)\n",
    "print(x_1)\n",
    "\n",
    "x = tf.concat([x_0, x_1], axis=0)\n",
    "y = tf.concat([y_0, y_1], axis=0)"
   ]
  },
  {
   "cell_type": "code",
   "execution_count": 11,
   "id": "8f232acd-1878-482f-a5d4-8ad3fdce38e4",
   "metadata": {},
   "outputs": [
    {
     "data": {
      "text/plain": [
       "<tf.Tensor: shape=(40,), dtype=float32, numpy=\n",
       "array([3.9868412, 3.5705628, 3.1794603, 3.8390007, 4.0045967, 2.9357703,\n",
       "       2.3844175, 2.752141 , 1.5923578, 3.2721753, 3.5191803, 3.9702654,\n",
       "       4.3685017, 3.822718 , 2.049305 , 2.549039 , 2.9378245, 2.9167316,\n",
       "       2.2858586, 2.4225528, 5.1025014, 6.597985 , 7.234834 , 5.394439 ,\n",
       "       6.4014525, 6.0227747, 5.7620163, 5.627129 , 5.3607   , 4.9423194,\n",
       "       6.1076727, 6.1861634, 5.2216816, 7.779335 , 7.6827497, 5.682905 ,\n",
       "       6.30909  , 5.797064 , 7.0187526, 6.4636674], dtype=float32)>"
      ]
     },
     "execution_count": 11,
     "metadata": {},
     "output_type": "execute_result"
    }
   ],
   "source": [
    "x"
   ]
  },
  {
   "cell_type": "code",
   "execution_count": 16,
   "id": "0bc4212f-8325-4fc2-8407-8957bd1a0d5c",
   "metadata": {},
   "outputs": [],
   "source": [
    "def plot_graph(X, Y, X_hat=None, Y_hat=None, str_title=None):\n",
    "    fig = plt.figure(figsize=(8,6))\n",
    "    \n",
    "    if str_title is not None:\n",
    "        plt.title(str_title, fontsize=20)\n",
    "    \n",
    "    plt.plot(X, Y, ls=\"none\", marker=\"x\")\n",
    "    \n",
    "    if X_hat is not None and Y_hat is not None:\n",
    "        plt.plot(X_hat, Y_hat)\n",
    "    \n",
    "    plt.tick_params(axis=\"both\", labelsize=14)"
   ]
  },
  {
   "cell_type": "code",
   "execution_count": 17,
   "id": "4b874c21-b860-4228-8b4f-4f1c9c4391a3",
   "metadata": {},
   "outputs": [
    {
     "data": {
      "image/png": "[encoded data removed]",
      "text/plain": [
       "<Figure size 576x432 with 1 Axes>"
      ]
     },
     "metadata": {
      "needs_background": "light"
     },
     "output_type": "display_data"
    }
   ],
   "source": [
    "plot_graph(x, y)"
   ]
  },
  {
   "cell_type": "code",
   "execution_count": 23,
   "id": "e325f5f6-ceba-4611-ac68-b81a01910aad",
   "metadata": {},
   "outputs": [
    {
     "name": "stdout",
     "output_type": "stream",
     "text": [
      "<tf.Variable 'Variable:0' shape=(1,) dtype=float32, numpy=array([1.7451856], dtype=float32)>\n",
      "<tf.Variable 'Variable:0' shape=(1,) dtype=float32, numpy=array([-0.19985001], dtype=float32)>\n"
     ]
    }
   ],
   "source": [
    "W = tf.Variable(tf.random_normal_initializer(stddev=1)([1]))\n",
    "b = tf.Variable(tf.random_normal_initializer(stddev=1)([1]))\n",
    "\n",
    "print(W)\n",
    "print(b)"
   ]
  },
  {
   "cell_type": "code",
   "execution_count": 32,
   "id": "510a4ecb-6c11-4f0b-bbdb-eede7dbf288f",
   "metadata": {},
   "outputs": [],
   "source": [
    "def cross_entropy(y_pred, y_true):\n",
    "    y_pred = tf.clip_by_value(y_pred, 1e-9, 1.)  # 최소값 1e-9, 최대값 1.로 지정. 그 사이값이면 그냥 자기 자신\n",
    "    return -tf.reduce_sum(y_true*tf.math.log(y_pred) + (1-y_true)*tf.math.log(1-y_pred))"
   ]
  },
  {
   "cell_type": "code",
   "execution_count": 35,
   "id": "25589f4e-4ce4-4f43-86cf-fd5139d3bd6c",
   "metadata": {},
   "outputs": [],
   "source": [
    "lr = 0.001\n",
    "optimizer = tf.optimizers.SGD(learning_rate=lr)\n",
    "\n",
    "def run_optimizer():\n",
    "    with tf.GradientTape() as g:\n",
    "        pred = 1/(1 + tf.math.exp(-1*(x*W+b)))\n",
    "        loss = cross_entropy(pred, y)\n",
    "    \n",
    "    gradients = g.gradient(loss, [W, b])\n",
    "    optimizer.apply_gradients(zip(gradients, [W,b]))"
   ]
  },
  {
   "cell_type": "code",
   "execution_count": 26,
   "id": "a0fbb4f5-f47c-4260-91ae-f436d1595c13",
   "metadata": {},
   "outputs": [
    {
     "data": {
      "image/png": "[encoded data removed]",
      "text/plain": [
       "<Figure size 576x432 with 1 Axes>"
      ]
     },
     "metadata": {
      "needs_background": "light"
     },
     "output_type": "display_data"
    }
   ],
   "source": [
    "x_f1 = np.linspace(np.min(x), np.max(x), 100)\n",
    "plot_graph(x, y, X_hat=x_f1, Y_hat=1/(1+tf.math.exp(-1*(x_f1*W+b))), str_title=\"Logistic Regression\")"
   ]
  },
  {
   "cell_type": "code",
   "execution_count": 44,
   "id": "9e3f109e-353c-42e3-9ce9-4e5a31c088e7",
   "metadata": {},
   "outputs": [
    {
     "name": "stdout",
     "output_type": "stream",
     "text": [
      "step : 500 , loss : 4.4127607\n",
      "step : 1000 , loss : 4.1971383\n",
      "step : 1500 , loss : 4.0075364\n",
      "step : 2000 , loss : 3.8391933\n",
      "step : 2500 , loss : 3.688471\n",
      "step : 3000 , loss : 3.5525403\n",
      "step : 3500 , loss : 3.4291692\n",
      "step : 4000 , loss : 3.316564\n",
      "step : 4500 , loss : 3.2132635\n",
      "step : 5000 , loss : 3.1180766\n",
      "step : 5500 , loss : 3.0300097\n",
      "step : 6000 , loss : 2.9482307\n",
      "step : 6500 , loss : 2.872034\n",
      "step : 7000 , loss : 2.800826\n",
      "step : 7500 , loss : 2.7340927\n",
      "step : 8000 , loss : 2.671389\n",
      "step : 8500 , loss : 2.6123352\n",
      "step : 9000 , loss : 2.556593\n",
      "step : 9500 , loss : 2.5038714\n",
      "step : 10000 , loss : 2.4539135\n"
     ]
    }
   ],
   "source": [
    "training_steps = 10000\n",
    "display_step = 500\n",
    "for step in range(1, training_steps+1):\n",
    "    run_optimizer()\n",
    "    \n",
    "    if step % display_step == 0:\n",
    "        pred = 1/(1+tf.math.exp(-1*(W*x+b)))\n",
    "        loss = cross_entropy(pred, y)\n",
    "        print(\"step :\", step, \", loss :\", loss.numpy())\n"
   ]
  },
  {
   "cell_type": "code",
   "execution_count": 45,
   "id": "3871b2ed-a4ef-4424-9b86-097a756479e5",
   "metadata": {},
   "outputs": [
    {
     "data": {
      "image/png": "[encoded data removed]",
      "text/plain": [
       "<Figure size 576x432 with 1 Axes>"
      ]
     },
     "metadata": {
      "needs_background": "light"
     },
     "output_type": "display_data"
    }
   ],
   "source": [
    "x_f1 = np.linspace(np.min(x), np.max(x), 100)\n",
    "plot_graph(x, y, X_hat=x_f1, Y_hat=1/(1+tf.math.exp(-1*(x_f1*W+b))), str_title=\"Logistic Regression\")"
   ]
  },
  {
   "cell_type": "code",
   "execution_count": 48,
   "id": "550196df-0ab7-43dd-9907-471bb95405de",
   "metadata": {},
   "outputs": [
    {
     "data": {
      "image/png": "[encoded data removed]",
      "text/plain": [
       "<Figure size 432x288 with 1 Axes>"
      ]
     },
     "metadata": {
      "needs_background": "light"
     },
     "output_type": "display_data"
    },
    {
     "name": "stdout",
     "output_type": "stream",
     "text": [
      "Label : 5\n"
     ]
    },
    {
     "data": {
      "image/png": "[encoded data removed]",
      "text/plain": [
       "<Figure size 432x288 with 1 Axes>"
      ]
     },
     "metadata": {
      "needs_background": "light"
     },
     "output_type": "display_data"
    },
    {
     "name": "stdout",
     "output_type": "stream",
     "text": [
      "Label : 0\n"
     ]
    },
    {
     "data": {
      "image/png": "[encoded data removed]",
      "text/plain": [
       "<Figure size 432x288 with 1 Axes>"
      ]
     },
     "metadata": {
      "needs_background": "light"
     },
     "output_type": "display_data"
    },
    {
     "name": "stdout",
     "output_type": "stream",
     "text": [
      "Label : 4\n"
     ]
    },
    {
     "data": {
      "image/png": "[encoded data removed]",
      "text/plain": [
       "<Figure size 432x288 with 1 Axes>"
      ]
     },
     "metadata": {
      "needs_background": "light"
     },
     "output_type": "display_data"
    },
    {
     "name": "stdout",
     "output_type": "stream",
     "text": [
      "Label : 1\n"
     ]
    },
    {
     "data": {
      "image/png": "[encoded data removed]",
      "text/plain": [
       "<Figure size 432x288 with 1 Axes>"
      ]
     },
     "metadata": {
      "needs_background": "light"
     },
     "output_type": "display_data"
    },
    {
     "name": "stdout",
     "output_type": "stream",
     "text": [
      "Label : 9\n"
     ]
    },
    {
     "data": {
      "image/png": "[encoded data removed]",
      "text/plain": [
       "<Figure size 432x288 with 1 Axes>"
      ]
     },
     "metadata": {
      "needs_background": "light"
     },
     "output_type": "display_data"
    },
    {
     "name": "stdout",
     "output_type": "stream",
     "text": [
      "Label : 2\n"
     ]
    },
    {
     "data": {
      "image/png": "[encoded data removed]",
      "text/plain": [
       "<Figure size 432x288 with 1 Axes>"
      ]
     },
     "metadata": {
      "needs_background": "light"
     },
     "output_type": "display_data"
    },
    {
     "name": "stdout",
     "output_type": "stream",
     "text": [
      "Label : 1\n"
     ]
    },
    {
     "data": {
      "image/png": "[encoded data removed]",
      "text/plain": [
       "<Figure size 432x288 with 1 Axes>"
      ]
     },
     "metadata": {
      "needs_background": "light"
     },
     "output_type": "display_data"
    },
    {
     "name": "stdout",
     "output_type": "stream",
     "text": [
      "Label : 3\n"
     ]
    },
    {
     "data": {
      "image/png": "[encoded data removed]",
      "text/plain": [
       "<Figure size 432x288 with 1 Axes>"
      ]
     },
     "metadata": {
      "needs_background": "light"
     },
     "output_type": "display_data"
    },
    {
     "name": "stdout",
     "output_type": "stream",
     "text": [
      "Label : 1\n"
     ]
    },
    {
     "data": {
      "image/png": "[encoded data removed]",
      "text/plain": [
       "<Figure size 432x288 with 1 Axes>"
      ]
     },
     "metadata": {
      "needs_background": "light"
     },
     "output_type": "display_data"
    },
    {
     "name": "stdout",
     "output_type": "stream",
     "text": [
      "Label : 4\n"
     ]
    }
   ],
   "source": [
    "# Sofrmax\n",
    "\n",
    "(x_train, y_train), (x_test, y_test) = tf.keras.datasets.mnist.load_data()\n",
    "\n",
    "# plt.imshow(x_train[100], cmap=\"gray\")\n",
    "for i in range(10):\n",
    "    plt.imshow(x_train[i], cmap=\"gray\")\n",
    "    plt.show()\n",
    "    print(\"Label : {}\".format(y_train[i]))"
   ]
  },
  {
   "cell_type": "code",
   "execution_count": 54,
   "id": "9d96bdf2-fd88-43e7-bfe2-b025c4689b8a",
   "metadata": {},
   "outputs": [
    {
     "name": "stdout",
     "output_type": "stream",
     "text": [
      "float32\n",
      "<dtype: 'float32'>\n"
     ]
    }
   ],
   "source": [
    "x_train, x_test = x_train.astype(\"float32\"), tf.cast(x_test, tf.float32)\n",
    "\n",
    "print(x_train.dtype)\n",
    "print(x_test.dtype)"
   ]
  },
  {
   "cell_type": "code",
   "execution_count": 55,
   "id": "3aede340-8c05-4681-a861-e6a9bf44ddd1",
   "metadata": {},
   "outputs": [
    {
     "name": "stdout",
     "output_type": "stream",
     "text": [
      "(60000, 28, 28) (10000, 28, 28)\n",
      "(60000, 784) (10000, 784)\n"
     ]
    }
   ],
   "source": [
    "num_classes = 10\n",
    "num_features = x_train.shape[1] * x_train.shape[2]  # 28 * 28 = 784\n",
    "\n",
    "print(x_train.shape, x_test.shape)\n",
    "x_train, x_test = tf.reshape(x_train, [-1, 784]), tf.reshape(x_test, [-1, 784])\n",
    "print(x_train.shape, x_test.shape)"
   ]
  },
  {
   "cell_type": "code",
   "execution_count": 57,
   "id": "2305e480-65b3-4d77-9f38-64b342530b31",
   "metadata": {},
   "outputs": [
    {
     "name": "stdout",
     "output_type": "stream",
     "text": [
      "<tf.Variable 'Variable:0' shape=(784, 10) dtype=float32, numpy=\n",
      "array([[ 0.79197717, -1.131111  ,  1.6587342 , ...,  1.2500193 ,\n",
      "        -1.1102936 ,  0.5073211 ],\n",
      "       [ 0.05488074,  0.9527809 , -0.24288355, ..., -0.45667332,\n",
      "        -2.0232387 ,  0.5104552 ],\n",
      "       [-1.0036199 , -0.04079075,  2.0626738 , ..., -0.68655396,\n",
      "        -1.0730895 ,  0.14973624],\n",
      "       ...,\n",
      "       [ 1.0188084 , -0.33444825,  0.04166285, ...,  0.01579366,\n",
      "         0.10025237,  0.5633319 ],\n",
      "       [ 0.30713168, -0.84468114,  1.1326637 , ..., -2.137238  ,\n",
      "        -0.39124927,  1.6970681 ],\n",
      "       [-0.17846096, -1.1516916 ,  1.0244898 , ..., -0.0087656 ,\n",
      "         0.4040944 ,  1.3811097 ]], dtype=float32)> <tf.Variable 'Variable:0' shape=(10,) dtype=float32, numpy=\n",
      "array([ 0.5714776 ,  1.5619512 ,  0.2876568 ,  0.07719883, -0.2890212 ,\n",
      "       -1.3109047 ,  0.06569927, -0.348075  , -0.8163057 , -1.0142268 ],\n",
      "      dtype=float32)>\n"
     ]
    }
   ],
   "source": [
    "W = tf.Variable(tf.random_normal_initializer(stddev=1)([num_features, num_classes]))\n",
    "b = tf.Variable(tf.random_normal_initializer(stddev=1)([num_classes]))\n",
    "\n",
    "print(W, b)"
   ]
  },
  {
   "cell_type": "code",
   "execution_count": 77,
   "id": "ee73b834-bc74-4953-b281-a8af3dc665e6",
   "metadata": {},
   "outputs": [],
   "source": [
    "lr = 0.001\n",
    "optimizer = tf.optimizers.SGD(learning_rate=lr)\n",
    "\n",
    "def run_optimization(x, y):\n",
    "    with tf.GradientTape() as g:\n",
    "        pred = softmax_transformation(x)\n",
    "        loss = categorical_cross_entropy(pred, y)\n",
    "    gradients = g.gradient(loss, [W, b])\n",
    "    optimizer.apply_gradients(zip(gradients, [W, b]))\n",
    "\n",
    "def softmax_transformation(x):\n",
    "    return tf.nn.softmax(tf.matmul(x, W)+b)\n",
    "\n",
    "def categorical_cross_entropy(y_pred, y_true):\n",
    "    y_true = tf.one_hot(y_true, depth=num_classes)\n",
    "    y_pred = tf.clip_by_value(y_pred, 1e-9, 1.)\n",
    "    return tf.reduce_mean(-tf.reduce_sum(y_true*tf.math.log(y_pred), axis=1))\n",
    "\n",
    "def accuracy(y_pred, y_true):\n",
    "    correct_prediction = tf.equal(tf.argmax(y_pred, axis=1), tf.cast(y_true, tf.int64))\n",
    "    return tf.reduce_mean(tf.cast(correct_prediction, tf.float32))"
   ]
  },
  {
   "cell_type": "code",
   "execution_count": 63,
   "id": "287e47d4-53bc-47e2-83f1-910543f64123",
   "metadata": {},
   "outputs": [],
   "source": [
    "batch_size = 200\n",
    "train_data = tf.data.Dataset.from_tensor_slices((x_train, y_train))"
   ]
  },
  {
   "cell_type": "code",
   "execution_count": 64,
   "id": "4896f0ec-25d4-40c1-b03c-a928851c6b4d",
   "metadata": {},
   "outputs": [],
   "source": [
    "train_data = train_data.shuffle(60000).batch(batch_size).prefetch(1)"
   ]
  },
  {
   "cell_type": "code",
   "execution_count": 78,
   "id": "b86e913f-5184-49b2-aa9d-eef6bf175b18",
   "metadata": {},
   "outputs": [
    {
     "name": "stdout",
     "output_type": "stream",
     "text": [
      "epoch : 1 , step : 100 , loss : 11.190564 , accuracy : 0.46\n",
      "epoch : 1 , step : 200 , loss : 10.6724825 , accuracy : 0.485\n",
      "epoch : 1 , step : 300 , loss : 10.879714 , accuracy : 0.475\n",
      "epoch : 2 , step : 100 , loss : 12.318439 , accuracy : 0.405\n",
      "epoch : 2 , step : 200 , loss : 11.915879 , accuracy : 0.425\n",
      "epoch : 2 , step : 300 , loss : 11.915879 , accuracy : 0.425\n",
      "epoch : 3 , step : 100 , loss : 10.568866 , accuracy : 0.49\n",
      "epoch : 3 , step : 200 , loss : 12.2267275 , accuracy : 0.41\n",
      "epoch : 3 , step : 300 , loss : 10.983332 , accuracy : 0.47\n",
      "epoch : 4 , step : 100 , loss : 9.947168 , accuracy : 0.52\n",
      "epoch : 4 , step : 200 , loss : 11.29418 , accuracy : 0.455\n",
      "epoch : 4 , step : 300 , loss : 11.397797 , accuracy : 0.45\n",
      "epoch : 5 , step : 100 , loss : 12.019495 , accuracy : 0.42\n",
      "epoch : 5 , step : 200 , loss : 12.43396 , accuracy : 0.4\n",
      "epoch : 5 , step : 300 , loss : 10.050784 , accuracy : 0.515\n",
      "epoch : 6 , step : 100 , loss : 10.776098 , accuracy : 0.48\n",
      "epoch : 6 , step : 200 , loss : 10.154401 , accuracy : 0.51\n",
      "epoch : 6 , step : 300 , loss : 10.983332 , accuracy : 0.47\n",
      "epoch : 7 , step : 100 , loss : 11.708645 , accuracy : 0.435\n",
      "epoch : 7 , step : 200 , loss : 11.840152 , accuracy : 0.425\n",
      "epoch : 7 , step : 300 , loss : 11.915879 , accuracy : 0.425\n",
      "epoch : 8 , step : 100 , loss : 11.915879 , accuracy : 0.425\n",
      "epoch : 8 , step : 200 , loss : 11.501413 , accuracy : 0.445\n",
      "epoch : 8 , step : 300 , loss : 10.6724825 , accuracy : 0.485\n",
      "epoch : 9 , step : 100 , loss : 12.019495 , accuracy : 0.42\n",
      "epoch : 9 , step : 200 , loss : 12.952041 , accuracy : 0.375\n",
      "epoch : 9 , step : 300 , loss : 11.915879 , accuracy : 0.425\n",
      "epoch : 10 , step : 100 , loss : 10.879714 , accuracy : 0.475\n",
      "epoch : 10 , step : 200 , loss : 11.397797 , accuracy : 0.45\n",
      "epoch : 10 , step : 300 , loss : 11.885229 , accuracy : 0.425\n",
      "epoch : 11 , step : 100 , loss : 10.983332 , accuracy : 0.47\n",
      "epoch : 11 , step : 200 , loss : 11.086948 , accuracy : 0.465\n",
      "epoch : 11 , step : 300 , loss : 10.050784 , accuracy : 0.515\n",
      "epoch : 12 , step : 100 , loss : 9.32547 , accuracy : 0.55\n",
      "epoch : 12 , step : 200 , loss : 10.983332 , accuracy : 0.47\n",
      "epoch : 12 , step : 300 , loss : 10.776098 , accuracy : 0.48\n",
      "epoch : 13 , step : 100 , loss : 12.43396 , accuracy : 0.4\n",
      "epoch : 13 , step : 200 , loss : 12.123111 , accuracy : 0.415\n",
      "epoch : 13 , step : 300 , loss : 12.848425 , accuracy : 0.38\n",
      "epoch : 14 , step : 100 , loss : 10.154401 , accuracy : 0.51\n",
      "epoch : 14 , step : 200 , loss : 9.843552 , accuracy : 0.525\n",
      "epoch : 14 , step : 300 , loss : 10.465249 , accuracy : 0.495\n",
      "epoch : 15 , step : 100 , loss : 11.397797 , accuracy : 0.45\n",
      "epoch : 15 , step : 200 , loss : 9.32547 , accuracy : 0.55\n",
      "epoch : 15 , step : 300 , loss : 11.812262 , accuracy : 0.43\n"
     ]
    }
   ],
   "source": [
    "num_epoch = 15\n",
    "display_step = 100\n",
    "\n",
    "for epoch in range(1, num_epoch+1):\n",
    "    for step, (batch_x, batch_y) in enumerate(train_data, 1):\n",
    "        run_optimization(batch_x, batch_y)\n",
    "        \n",
    "        if step % display_step == 0:\n",
    "            pred = softmax_transformation(batch_x)\n",
    "            loss = categorical_cross_entropy(pred, batch_y)\n",
    "            acc = accuracy(pred, batch_y)\n",
    "            print(\"epoch :\", epoch, \", step :\", step, \", loss :\", loss.numpy(), \", accuracy :\", acc.numpy())"
   ]
  },
  {
   "cell_type": "code",
   "execution_count": 80,
   "id": "0de4f8fd-f2ed-48b9-868f-d02890e57fa5",
   "metadata": {},
   "outputs": [
    {
     "name": "stdout",
     "output_type": "stream",
     "text": [
      "tf.Tensor(0.4668, shape=(), dtype=float32)\n",
      "0.4668\n"
     ]
    }
   ],
   "source": [
    "pred = softmax_transformation(x_test)\n",
    "acc = accuracy(pred, y_test)\n",
    "print(acc)\n",
    "print(acc.numpy())"
   ]
  },
  {
   "cell_type": "code",
   "execution_count": null,
   "id": "724738b0-9e6e-4bb7-af76-7e64f00fcf6b",
   "metadata": {},
   "outputs": [],
   "source": []
  }
 ],
 "metadata": {
  "kernelspec": {
   "display_name": "Python 3 (ipykernel)",
   "language": "python",
   "name": "python3"
  },
  "language_info": {
   "codemirror_mode": {
    "name": "ipython",
    "version": 3
   },
   "file_extension": ".py",
   "mimetype": "text/x-python",
   "name": "python",
   "nbconvert_exporter": "python",
   "pygments_lexer": "ipython3",
   "version": "3.7.13"
  }
 },
 "nbformat": 4,
 "nbformat_minor": 5
}
