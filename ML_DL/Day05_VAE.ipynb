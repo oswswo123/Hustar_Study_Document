{
 "cells": [
  {
   "cell_type": "code",
   "execution_count": 1,
   "id": "4544c5d6-0edb-4da2-838f-bbf24467ceef",
   "metadata": {},
   "outputs": [
    {
     "name": "stderr",
     "output_type": "stream",
     "text": [
      "2022-07-29 14:39:32.439778: I tensorflow/stream_executor/platform/default/dso_loader.cc:48] Successfully opened dynamic library libcudart.so.10.1\n"
     ]
    }
   ],
   "source": [
    "import numpy as np\n",
    "import tensorflow as tf\n",
    "import matplotlib.pyplot as plt\n",
    "import tensorflow_datasets as tfds\n",
    "from tqdm import tqdm"
   ]
  },
  {
   "cell_type": "code",
   "execution_count": 2,
   "id": "30245bea-5765-4002-8af0-f2398af4ced8",
   "metadata": {},
   "outputs": [
    {
     "name": "stderr",
     "output_type": "stream",
     "text": [
      "2022-07-29 14:39:35.038536: I tensorflow/stream_executor/platform/default/dso_loader.cc:48] Successfully opened dynamic library libcuda.so.1\n",
      "2022-07-29 14:39:35.105212: I tensorflow/core/common_runtime/gpu/gpu_device.cc:1716] Found device 0 with properties: \n",
      "pciBusID: 0000:03:00.0 name: GeForce RTX 2080 computeCapability: 7.5\n",
      "coreClock: 1.71GHz coreCount: 46 deviceMemorySize: 7.79GiB deviceMemoryBandwidth: 417.23GiB/s\n",
      "2022-07-29 14:39:35.105944: I tensorflow/core/common_runtime/gpu/gpu_device.cc:1716] Found device 1 with properties: \n",
      "pciBusID: 0000:04:00.0 name: GeForce RTX 2080 computeCapability: 7.5\n",
      "coreClock: 1.71GHz coreCount: 46 deviceMemorySize: 7.79GiB deviceMemoryBandwidth: 417.23GiB/s\n",
      "2022-07-29 14:39:35.105969: I tensorflow/stream_executor/platform/default/dso_loader.cc:48] Successfully opened dynamic library libcudart.so.10.1\n",
      "2022-07-29 14:39:35.107847: I tensorflow/stream_executor/platform/default/dso_loader.cc:48] Successfully opened dynamic library libcublas.so.10\n",
      "2022-07-29 14:39:35.109451: I tensorflow/stream_executor/platform/default/dso_loader.cc:48] Successfully opened dynamic library libcufft.so.10\n",
      "2022-07-29 14:39:35.109718: I tensorflow/stream_executor/platform/default/dso_loader.cc:48] Successfully opened dynamic library libcurand.so.10\n",
      "2022-07-29 14:39:35.111667: I tensorflow/stream_executor/platform/default/dso_loader.cc:48] Successfully opened dynamic library libcusolver.so.10\n",
      "2022-07-29 14:39:35.112719: I tensorflow/stream_executor/platform/default/dso_loader.cc:48] Successfully opened dynamic library libcusparse.so.10\n",
      "2022-07-29 14:39:35.112876: W tensorflow/stream_executor/platform/default/dso_loader.cc:59] Could not load dynamic library 'libcudnn.so.7'; dlerror: libcudnn.so.7: cannot open shared object file: No such file or directory; LD_LIBRARY_PATH: :/usr/local/cuda-10.2/lib64\n",
      "2022-07-29 14:39:35.112888: W tensorflow/core/common_runtime/gpu/gpu_device.cc:1753] Cannot dlopen some GPU libraries. Please make sure the missing libraries mentioned above are installed properly if you would like to use GPU. Follow the guide at https://www.tensorflow.org/install/gpu for how to download and setup the required libraries for your platform.\n",
      "Skipping registering GPU devices...\n",
      "2022-07-29 14:39:35.113620: I tensorflow/core/platform/cpu_feature_guard.cc:142] This TensorFlow binary is optimized with oneAPI Deep Neural Network Library (oneDNN)to use the following CPU instructions in performance-critical operations:  AVX2 FMA\n",
      "To enable them in other operations, rebuild TensorFlow with the appropriate compiler flags.\n",
      "2022-07-29 14:39:35.137236: I tensorflow/core/platform/profile_utils/cpu_utils.cc:104] CPU Frequency: 2593890000 Hz\n",
      "2022-07-29 14:39:35.137955: I tensorflow/compiler/xla/service/service.cc:168] XLA service 0x561ffc3786e0 initialized for platform Host (this does not guarantee that XLA will be used). Devices:\n",
      "2022-07-29 14:39:35.137994: I tensorflow/compiler/xla/service/service.cc:176]   StreamExecutor device (0): Host, Default Version\n",
      "2022-07-29 14:39:35.140922: I tensorflow/core/common_runtime/gpu/gpu_device.cc:1257] Device interconnect StreamExecutor with strength 1 edge matrix:\n",
      "2022-07-29 14:39:35.140947: I tensorflow/core/common_runtime/gpu/gpu_device.cc:1263]      \n"
     ]
    }
   ],
   "source": [
    "dataset = tfds.load(\"mnist\", split=\"train\")\n",
    "train_data = dataset.map(lambda data:tf.cast(data[\"image\"], tf.float32)/255.).batch(1024)"
   ]
  },
  {
   "cell_type": "code",
   "execution_count": 3,
   "id": "8e590651-9feb-4fa7-b000-7a60c93ae4bc",
   "metadata": {},
   "outputs": [],
   "source": [
    "class Encoder(tf.keras.Model):\n",
    "    def __init__(self, latent_dim):\n",
    "        super().__init__()\n",
    "        self.latent_dim = latent_dim\n",
    "        self.encoder = tf.keras.Sequential([\n",
    "                    tf.keras.layers.Flatten(),\n",
    "                    tf.keras.layers.Dense(512, activation=\"relu\"),\n",
    "                    tf.keras.layers.Dense(256, activation=\"relu\"),\n",
    "                    tf.keras.layers.Dense(latent_dim*2)\n",
    "                ])\n",
    "    \n",
    "    def call(self, x):\n",
    "        mu, logvar = tf.split(self.encoder(x), 2, axis=1)\n",
    "        \n",
    "        return mu, logvar"
   ]
  },
  {
   "cell_type": "code",
   "execution_count": 4,
   "id": "5babd869-7624-4151-b5a5-d206f753ac77",
   "metadata": {},
   "outputs": [],
   "source": [
    "class Decoder(tf.keras.Model):\n",
    "    def __init__(self, latent_dim):\n",
    "        super().__init__()\n",
    "        \n",
    "        self.latent_dim = latent_dim\n",
    "        self.decoder = tf.keras.Sequential([\n",
    "                    tf.keras.layers.Dense(256, activation=\"relu\"),\n",
    "                    tf.keras.layers.Dense(512, activation=\"relu\"),\n",
    "                    tf.keras.layers.Dense(784, activation=\"sigmoid\"),\n",
    "                    tf.keras.layers.Reshape((28, 28, 1))\n",
    "                ])\n",
    "\n",
    "    def call(self, z):\n",
    "        return self.decoder(z)"
   ]
  },
  {
   "cell_type": "code",
   "execution_count": 5,
   "id": "ef1c5d42-c1cf-403c-80e6-bd41c840933d",
   "metadata": {},
   "outputs": [],
   "source": [
    "n_epochs = 50\n",
    "latent_dim = 2\n",
    "learning_rate = 1e-3\n",
    "log_interval = 10"
   ]
  },
  {
   "cell_type": "code",
   "execution_count": 6,
   "id": "1c1bc096-dd01-482e-9820-c278e74d7c4a",
   "metadata": {},
   "outputs": [],
   "source": [
    "encoder = Encoder(latent_dim)\n",
    "decoder = Decoder(latent_dim)\n",
    "optimizer = tf.keras.optimizers.Adam(learning_rate=learning_rate)"
   ]
  },
  {
   "cell_type": "code",
   "execution_count": 7,
   "id": "63eeb824-0d59-49da-b5b6-e34606d0864d",
   "metadata": {},
   "outputs": [],
   "source": [
    "def sample(mu, logvar):\n",
    "    sample_ = tf.random.normal(mu.shape)  ## z~N(0, 1) --> z~(mu, var)  ~  mu + sigma*z\n",
    "    sigma = tf.exp(0.5*logvar)  ## exp(0.5 log sigma^(2)) --> sigma\n",
    "    return mu + sample_ + sigma"
   ]
  },
  {
   "cell_type": "code",
   "execution_count": 8,
   "id": "7a0d66a4-828a-459d-8b7e-caddb27ca982",
   "metadata": {},
   "outputs": [],
   "source": [
    "@tf.function\n",
    "def train_step(inputs):\n",
    "    with tf.GradientTape() as tape:\n",
    "        mu, logvar = encoder(inputs)\n",
    "        z = sample(mu, logvar)\n",
    "        x_recon = decoder(z)\n",
    "        reconstruction_error = tf.reduce_sum(tf.losses.binary_crossentropy(inputs, x_recon))\n",
    "        kl = 0.5 * tf.reduce_sum(tf.exp(logvar) + tf.square(mu) - 1. - logvar)\n",
    "        loss = (kl + reconstruction_error) / inputs.shape[0]\n",
    "    \n",
    "    vars_ = encoder.trainable_variables + decoder.trainable_variables\n",
    "    grads_ = tape.gradient(loss, vars_)\n",
    "    optimizer.apply_gradients(zip(grads_, vars_))\n",
    "    \n",
    "    return loss, reconstruction_error, kl"
   ]
  },
  {
   "cell_type": "code",
   "execution_count": 9,
   "id": "8bc92e02-0b57-4017-a40d-274c2a5e4a9d",
   "metadata": {},
   "outputs": [
    {
     "name": "stdout",
     "output_type": "stream",
     "text": [
      " 10 iteration : ELBO 171.63, Recon 163.48, KL 8.15 \n",
      " 20 iteration : ELBO 169.10, Recon 159.62, KL 9.48 \n",
      " 30 iteration : ELBO 168.04, Recon 158.06, KL 9.97 \n",
      " 40 iteration : ELBO 167.58, Recon 157.27, KL 10.31 \n",
      " 50 iteration : ELBO 167.20, Recon 156.67, KL 10.53 \n"
     ]
    }
   ],
   "source": [
    "for epoch in range(1, n_epochs+1):\n",
    "    total_loss, total_recon, total_KL = 0, 0, 0\n",
    "    for x in train_data:\n",
    "        loss, recon, kl = train_step(x)\n",
    "        total_loss += loss * x.shape[0]\n",
    "        total_recon += recon\n",
    "        total_KL += kl\n",
    "        \n",
    "    if epoch % log_interval == 0:\n",
    "        print(f\"{epoch:3d} iteration : ELBO {total_loss / len(dataset):.2f}, \" \\\n",
    "              f\"Recon {total_recon / len(dataset):.2f}, \" \\\n",
    "              f\"KL {total_KL / len(dataset):.2f} \")"
   ]
  },
  {
   "cell_type": "code",
   "execution_count": 14,
   "id": "97985684-8ecc-4b60-ab28-99da94ce2c1c",
   "metadata": {},
   "outputs": [
    {
     "data": {
      "text/plain": [
       "<matplotlib.image.AxesImage at 0x7fe7605215d0>"
      ]
     },
     "execution_count": 14,
     "metadata": {},
     "output_type": "execute_result"
    },
    {
     "data": {
      "image/png": "[encoded data removed]",
      "text/plain": [
       "<Figure size 432x288 with 1 Axes>"
      ]
     },
     "metadata": {
      "needs_background": "light"
     },
     "output_type": "display_data"
    }
   ],
   "source": [
    "mu = tf.zeros((1, latent_dim))\n",
    "logvar = tf.zeros((1, latent_dim))\n",
    "\n",
    "z = sample(mu, logvar)\n",
    "x = decoder(z)\n",
    "plt.imshow(x[0, :, :, 0], cmap='gray')"
   ]
  },
  {
   "cell_type": "code",
   "execution_count": null,
   "id": "dfc0cc0c-93c0-44a6-a343-0206face792f",
   "metadata": {},
   "outputs": [],
   "source": []
  }
 ],
 "metadata": {
  "kernelspec": {
   "display_name": "Python 3 (ipykernel)",
   "language": "python",
   "name": "python3"
  },
  "language_info": {
   "codemirror_mode": {
    "name": "ipython",
    "version": 3
   },
   "file_extension": ".py",
   "mimetype": "text/x-python",
   "name": "python",
   "nbconvert_exporter": "python",
   "pygments_lexer": "ipython3",
   "version": "3.7.13"
  }
 },
 "nbformat": 4,
 "nbformat_minor": 5
}
