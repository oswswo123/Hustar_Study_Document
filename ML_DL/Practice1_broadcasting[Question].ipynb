{
 "cells": [
  {
   "cell_type": "markdown",
   "metadata": {},
   "source": [
    "랜덤하게 생성한 100개의 점이 특정한 4개 점((1.0, 1.0), (-1.0, 1.0), (-1.0, -1.0), (1.0, -1.0)) 중 어느 점에 제일 가까운지 (Euclidean distance 기준) 확인하는 코드를 작성해봅시다.  \n",
    "과제의 지시사항과 지시사항별 배점은 아래와 같습니다.\n",
    "\n",
    "#### 1. 100개의 점들이 각각 특정한 4개의 점 중 Euclidean distance 기준으로 어느 점과 제일 가까운지 구하는 코드를 **TODO 파트의 지시대로** 정확하게 구현하기 (+5점)\n",
    "#### 2. 구현 중 TODO 파트의 제한사항과 관련하여, broadcasting을 사용해야하는 이유와 이를 위해 expand_dims를 사용한 방식에 대해, 연산에 사용된 tensor의 shape과 관련지어 적절하게 서술하기 (+5점) (단, 3줄 내외로 작성할 것)\n",
    "\n",
    "\n",
    "1과 관련한 코드 작성은 TODO 파트에만 해주시고, 다른 부분은 그대로 둬주세요.   \n",
    "1번 항목에 적혀있듯, 해당 파트에 보다 자세한 지시사항들이 포함되어 있습니다.  \n",
    "<a href='#TODO'>TODO 파트로 이동하기</a>  \n",
    "\n",
    "2와 관련한 서술은 파일 제일 아래에 생성해둔 markdown 셀을 이용해주세요.  \n",
    "<a href='#explanation'>서술내용 작성할 마크다운 셀로 이동하기</a>  \n",
    "과제 제출시에는 1, 2에 대한 내용 작성 후 해당 파일 파일명에 [이름]란을 채워 제출합니다.  \n",
    "\n",
    "**표절이 발견되는 경우, 코드 제공자와 표절자 구분 없이 0점 처리합니다.**"
   ]
  },
  {
   "cell_type": "code",
   "execution_count": 1,
   "metadata": {},
   "outputs": [
    {
     "name": "stdout",
     "output_type": "stream",
     "text": [
      "2.2.0\n"
     ]
    }
   ],
   "source": [
    "import tensorflow as tf\n",
    "import numpy as np\n",
    "import matplotlib.pyplot as plt\n",
    "import random\n",
    "\n",
    "random.seed(1)\n",
    "np.random.seed(1)\n",
    "tf.random.set_seed(1)\n",
    "\n",
    "print(tf.__version__)"
   ]
  },
  {
   "cell_type": "markdown",
   "metadata": {},
   "source": [
    "### Plotting functions\n",
    "문제 이해와 코드의 적절성 확인을 visualization을 통해 도와주는 그래프 플롯 함수입니다."
   ]
  },
  {
   "cell_type": "code",
   "execution_count": 2,
   "metadata": {},
   "outputs": [],
   "source": [
    "def plot_graph(p, s_p=None, c_p=None, str_title=None):\n",
    "    fig = plt.figure(figsize=(6, 6))\n",
    "\n",
    "    if str_title is not None:\n",
    "        plt.title(str_title, fontsize=20, pad=20)\n",
    "\n",
    "    if c_p is not None:\n",
    "        for (i, col) in [(0, 'c'), (1, 'm'), (2, 'y'), (3, 'k')]:\n",
    "            plt.plot(s_p[i,0], s_p[i,1], ls='none', marker='*', markeredgecolor=col, markerfacecolor=col, markersize=12)\n",
    "            idx = tf.squeeze(tf.where(c_p==i))\n",
    "            plt.plot(tf.gather(p, idx)[:,0], tf.gather(p, idx)[:,1], ls='none', marker='o', markeredgecolor=col, markerfacecolor=col)\n",
    "    else:\n",
    "        plt.plot(p[:,0], p[:,1], ls='none', marker='o')\n",
    "        if s_p is not None:\n",
    "            plt.plot(s_p[0,0], s_p[0,1], ls='none', marker='*', markeredgecolor='c', markerfacecolor='c', markersize=12)\n",
    "            plt.plot(s_p[1,0], s_p[1,1], ls='none', marker='*', markeredgecolor='m', markerfacecolor='m', markersize=12)\n",
    "            plt.plot(s_p[2,0], s_p[2,1], ls='none', marker='*', markeredgecolor='y', markerfacecolor='y', markersize=12)\n",
    "            plt.plot(s_p[3,0], s_p[3,1], ls='none', marker='*', markeredgecolor='k', markerfacecolor='k', markersize=12)\n",
    "\n",
    "    plt.tick_params(axis='both', labelsize=14)"
   ]
  },
  {
   "cell_type": "markdown",
   "metadata": {},
   "source": [
    "## Preliminary"
   ]
  },
  {
   "cell_type": "markdown",
   "metadata": {},
   "source": [
    "### Euclidean distance\n",
    "Euclidean distance에 대한 wiki 링크: https://en.wikipedia.org/wiki/Euclidean_distance\n",
    "\n",
    "두 점 $(p_1, p_2)$와 $(q_1, q_2)$ 사이의 euclidean distance는 아래와 같이 계산합니다.\n",
    "\n",
    "$$\\text {Euclidean distance between }(p_1, p_2) \\text { and } (q_1, q_2) = \\sqrt {(p_1-q_1)^2 + (p_2-q_2)^2} $$"
   ]
  },
  {
   "cell_type": "markdown",
   "metadata": {},
   "source": [
    "### tf.argmin()\n",
    "tf.argmin() 함수에 대한 tensorflow 공식 홈페이지 설명 링크: https://www.tensorflow.org/api_docs/python/tf/math/argmin\n",
    "\n",
    "아래 예시 코드와 tensorflow 공식 홈페이지에서의 설명을 참고하여 tf.argmin() 함수를 이해하고 필요시 사용하세요."
   ]
  },
  {
   "cell_type": "code",
   "execution_count": 3,
   "metadata": {},
   "outputs": [
    {
     "name": "stdout",
     "output_type": "stream",
     "text": [
      "tf.Tensor(\n",
      "[[3.  1.5 0.  2.5]\n",
      " [5.  1.  2.  0.5]], shape=(2, 4), dtype=float32)\n",
      "tf.Tensor([0 1 0 1], shape=(4,), dtype=int64)\n",
      "tf.Tensor([2 3], shape=(2,), dtype=int64)\n"
     ]
    }
   ],
   "source": [
    "ex = tf.constant([[3.0, 1.5, 0.0, 2.5], [5.0, 1.0, 2.0, 0.5]])\n",
    "print(ex)\n",
    "\n",
    "argmin1 = tf.argmin(ex, 0) #hint: [3.0, 1.5, 0.0, 2.5]에서 가장 작은 수는 0.0이고, 인덱스는 2\n",
    "argmin2 = tf.argmin(ex, 1) #hint: [3.0, 5.0]에서 가장 작은 수는 3.0이고, 인덱스는 0\n",
    "print(argmin1)\n",
    "print(argmin2)"
   ]
  },
  {
   "cell_type": "markdown",
   "metadata": {},
   "source": [
    "## Ready\n",
    "\n",
    "무작위의 점 100개와 특정 점 4개를 생성합니다."
   ]
  },
  {
   "cell_type": "code",
   "execution_count": 4,
   "metadata": {},
   "outputs": [
    {
     "data": {
      "image/png": "[encoded data removed]",
      "text/plain": [
       "<Figure size 432x432 with 1 Axes>"
      ]
     },
     "metadata": {
      "needs_background": "light"
     },
     "output_type": "display_data"
    }
   ],
   "source": [
    "#무작위의 점 100개 생성\n",
    "p = tf.random.normal([100, 2], 0, 1)\n",
    "plot_graph(p)"
   ]
  },
  {
   "cell_type": "code",
   "execution_count": 5,
   "metadata": {},
   "outputs": [
    {
     "data": {
      "image/png": "[encoded data removed]",
      "text/plain": [
       "<Figure size 432x432 with 1 Axes>"
      ]
     },
     "metadata": {
      "needs_background": "light"
     },
     "output_type": "display_data"
    }
   ],
   "source": [
    "#특정한 4개의 점 생성 (그래프에서 다른 점들과 다른 색의 별표로 표시됨)\n",
    "#위에서 생성한 100개 점이 이 네 개 점 중 어느 점과 가장 가까운지 찾는 것이 목표\n",
    "s_p = tf.constant([[1.0, 1.0], [-1.0, 1.0], [-1.0, -1.0], [1.0, -1.0]])\n",
    "# visulization\n",
    "plot_graph(p,s_p)"
   ]
  },
  {
   "cell_type": "markdown",
   "metadata": {},
   "source": [
    "<a id='TODO'></a>\n",
    "## TODO Part"
   ]
  },
  {
   "cell_type": "markdown",
   "metadata": {},
   "source": [
    "**Input으로 활용할 텐서**    \n",
    "p: shape이 [100, 2]인 tensor로, p[i, 0]은 i번째 랜덤 포인트의 x좌표값을, p[i, 1]은 i번째 랜덤 포인트의 y좌표값을 담고 있습니다.  \n",
    "s_p: shape이 [4, 2]인 tensor로, s_p[j, 0]은 특정 포인트 j의 x좌표값을, s_p[j, 1]은 특정 포인트 j의 y좌표값을 담고 있습니다. 위에서 생성한 100개의 데이터가 이 특정 포인트 0, 1, 2, 3 중 어느 점과 가장 가까운지 찾아야합니다.  \n",
    "\n",
    "**최종 Output**    \n",
    "p_c: shape이 [100, ]인 tensor로, p_c[k]는 k번째 랜덤 포인트(p[k,:])와 가장 가까운 특정 포인트의 번호(0, 1, 2, 3 중 하나의 값, 데이터 타입: int64)를 담고 있습니다.\n",
    "\n",
    "**제한 사항**\n",
    "1. 코드 구현시 broadcasting을 사용할 것\n",
    "2. 코드 구현시 broadcasting을 위해 expand_dims를 사용할 것"
   ]
  },
  {
   "cell_type": "code",
   "execution_count": 6,
   "metadata": {},
   "outputs": [],
   "source": [
    "#--------(TODO start)--------#\n",
    "\n",
    "\n",
    "#--------(TODO end)--------#"
   ]
  },
  {
   "cell_type": "markdown",
   "metadata": {},
   "source": [
    "## Verification"
   ]
  },
  {
   "cell_type": "code",
   "execution_count": 7,
   "metadata": {},
   "outputs": [
    {
     "name": "stdout",
     "output_type": "stream",
     "text": [
      "(100,)\n",
      "<dtype: 'int64'>\n"
     ]
    }
   ],
   "source": [
    "print(p_c.shape)\n",
    "print(p_c.dtype)"
   ]
  },
  {
   "cell_type": "code",
   "execution_count": 8,
   "metadata": {},
   "outputs": [
    {
     "data": {
      "image/png": "[encoded data removed]",
      "text/plain": [
       "<Figure size 432x432 with 1 Axes>"
      ]
     },
     "metadata": {
      "needs_background": "light"
     },
     "output_type": "display_data"
    }
   ],
   "source": [
    "# 정답으로 생성되어야 할 이미지 모습입니다.\n",
    "plot_graph(p,s_p,p_c)"
   ]
  },
  {
   "cell_type": "markdown",
   "metadata": {},
   "source": [
    "<a id='explanation'></a>\n",
    "## 문제와 관련한 서술\n",
    "\n",
    "구현 중 broadcasting을 사용해야하는 이유와 이를 위해 expand_dims를 사용한 방식에 대하여, 연산에 사용된 tensor의 shape과 관련지어 아래 마크다운 셀에 세줄 내외로 적절히 서술하세요."
   ]
  },
  {
   "cell_type": "markdown",
   "metadata": {},
   "source": []
  }
 ],
 "metadata": {
  "kernelspec": {
   "display_name": "Python 3 (ipykernel)",
   "language": "python",
   "name": "python3"
  },
  "language_info": {
   "codemirror_mode": {
    "name": "ipython",
    "version": 3
   },
   "file_extension": ".py",
   "mimetype": "text/x-python",
   "name": "python",
   "nbconvert_exporter": "python",
   "pygments_lexer": "ipython3",
   "version": "3.7.13"
  }
 },
 "nbformat": 4,
 "nbformat_minor": 4
}
