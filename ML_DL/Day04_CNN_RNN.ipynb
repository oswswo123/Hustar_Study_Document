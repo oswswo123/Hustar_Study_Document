{
 "cells": [
  {
   "cell_type": "markdown",
   "id": "98c0250c-2048-41ed-b688-076b3b61b7d4",
   "metadata": {},
   "source": [
    "## CNN continue"
   ]
  },
  {
   "cell_type": "code",
   "execution_count": 1,
   "id": "db211a0d-3317-4a29-a573-370ebb4d92e2",
   "metadata": {},
   "outputs": [
    {
     "name": "stderr",
     "output_type": "stream",
     "text": [
      "2022-07-28 14:09:43.108107: I tensorflow/stream_executor/platform/default/dso_loader.cc:48] Successfully opened dynamic library libcudart.so.10.1\n"
     ]
    }
   ],
   "source": [
    "import numpy as np\n",
    "import tensorflow as tf\n",
    "import matplotlib.pyplot as plt\n",
    "from sklearn.model_selection import train_test_split"
   ]
  },
  {
   "cell_type": "code",
   "execution_count": 2,
   "id": "74f8fade-bf6d-4d85-aac0-92f0bbbd4866",
   "metadata": {},
   "outputs": [
    {
     "name": "stdout",
     "output_type": "stream",
     "text": [
      "Model: \"sequential\"\n",
      "_________________________________________________________________\n",
      "Layer (type)                 Output Shape              Param #   \n",
      "=================================================================\n",
      "dense (Dense)                (None, 50)                850       \n",
      "_________________________________________________________________\n",
      "dense_1 (Dense)              (None, 20)                1020      \n",
      "=================================================================\n",
      "Total params: 1,870\n",
      "Trainable params: 1,870\n",
      "Non-trainable params: 0\n",
      "_________________________________________________________________\n"
     ]
    },
    {
     "name": "stderr",
     "output_type": "stream",
     "text": [
      "2022-07-28 14:09:45.185815: I tensorflow/stream_executor/platform/default/dso_loader.cc:48] Successfully opened dynamic library libcuda.so.1\n",
      "2022-07-28 14:09:45.242872: I tensorflow/core/common_runtime/gpu/gpu_device.cc:1716] Found device 0 with properties: \n",
      "pciBusID: 0000:03:00.0 name: GeForce RTX 2080 computeCapability: 7.5\n",
      "coreClock: 1.71GHz coreCount: 46 deviceMemorySize: 7.79GiB deviceMemoryBandwidth: 417.23GiB/s\n",
      "2022-07-28 14:09:45.243618: I tensorflow/core/common_runtime/gpu/gpu_device.cc:1716] Found device 1 with properties: \n",
      "pciBusID: 0000:04:00.0 name: GeForce RTX 2080 computeCapability: 7.5\n",
      "coreClock: 1.71GHz coreCount: 46 deviceMemorySize: 7.79GiB deviceMemoryBandwidth: 417.23GiB/s\n",
      "2022-07-28 14:09:45.243644: I tensorflow/stream_executor/platform/default/dso_loader.cc:48] Successfully opened dynamic library libcudart.so.10.1\n",
      "2022-07-28 14:09:45.245613: I tensorflow/stream_executor/platform/default/dso_loader.cc:48] Successfully opened dynamic library libcublas.so.10\n",
      "2022-07-28 14:09:45.247252: I tensorflow/stream_executor/platform/default/dso_loader.cc:48] Successfully opened dynamic library libcufft.so.10\n",
      "2022-07-28 14:09:45.247553: I tensorflow/stream_executor/platform/default/dso_loader.cc:48] Successfully opened dynamic library libcurand.so.10\n",
      "2022-07-28 14:09:45.249537: I tensorflow/stream_executor/platform/default/dso_loader.cc:48] Successfully opened dynamic library libcusolver.so.10\n",
      "2022-07-28 14:09:45.250599: I tensorflow/stream_executor/platform/default/dso_loader.cc:48] Successfully opened dynamic library libcusparse.so.10\n",
      "2022-07-28 14:09:45.250764: W tensorflow/stream_executor/platform/default/dso_loader.cc:59] Could not load dynamic library 'libcudnn.so.7'; dlerror: libcudnn.so.7: cannot open shared object file: No such file or directory; LD_LIBRARY_PATH: :/usr/local/cuda-10.2/lib64\n",
      "2022-07-28 14:09:45.250776: W tensorflow/core/common_runtime/gpu/gpu_device.cc:1753] Cannot dlopen some GPU libraries. Please make sure the missing libraries mentioned above are installed properly if you would like to use GPU. Follow the guide at https://www.tensorflow.org/install/gpu for how to download and setup the required libraries for your platform.\n",
      "Skipping registering GPU devices...\n",
      "2022-07-28 14:09:45.251871: I tensorflow/core/platform/cpu_feature_guard.cc:142] This TensorFlow binary is optimized with oneAPI Deep Neural Network Library (oneDNN)to use the following CPU instructions in performance-critical operations:  AVX2 FMA\n",
      "To enable them in other operations, rebuild TensorFlow with the appropriate compiler flags.\n",
      "2022-07-28 14:09:45.283648: I tensorflow/core/platform/profile_utils/cpu_utils.cc:104] CPU Frequency: 2593905000 Hz\n",
      "2022-07-28 14:09:45.284231: I tensorflow/compiler/xla/service/service.cc:168] XLA service 0x55c3012db9b0 initialized for platform Host (this does not guarantee that XLA will be used). Devices:\n",
      "2022-07-28 14:09:45.284261: I tensorflow/compiler/xla/service/service.cc:176]   StreamExecutor device (0): Host, Default Version\n",
      "2022-07-28 14:09:45.286665: I tensorflow/core/common_runtime/gpu/gpu_device.cc:1257] Device interconnect StreamExecutor with strength 1 edge matrix:\n",
      "2022-07-28 14:09:45.286685: I tensorflow/core/common_runtime/gpu/gpu_device.cc:1263]      \n"
     ]
    }
   ],
   "source": [
    "model = tf.keras.Sequential([tf.keras.Input([16, ]), tf.keras.layers.Dense(50), tf.keras.layers.Dense(20)])\n",
    "\n",
    "model.summary()"
   ]
  },
  {
   "cell_type": "code",
   "execution_count": 3,
   "id": "a427077d-3f8a-46ca-b3fe-8f4635667a4e",
   "metadata": {},
   "outputs": [
    {
     "name": "stdout",
     "output_type": "stream",
     "text": [
      "<class 'numpy.ndarray'> (60000, 28, 28)\n",
      "<class 'numpy.ndarray'> (50000, 28, 28)\n",
      "<class 'numpy.ndarray'> (10000, 28, 28)\n"
     ]
    }
   ],
   "source": [
    "(x_trainval, y_trainval), (x_test, y_test) = tf.keras.datasets.mnist.load_data()\n",
    "\n",
    "print(type(x_trainval), x_trainval.shape)\n",
    "\n",
    "x_train, x_valid, y_train, y_valid = train_test_split(x_trainval, y_trainval, test_size=1/6, shuffle=True,\n",
    "                                                      stratify=y_trainval, random_state=34)\n",
    "\n",
    "print(type(x_train), x_train.shape)\n",
    "print(type(x_valid), x_valid.shape)"
   ]
  },
  {
   "cell_type": "code",
   "execution_count": 4,
   "id": "c080be63-341c-46c8-8bff-b86ce8b3bc31",
   "metadata": {},
   "outputs": [
    {
     "name": "stdout",
     "output_type": "stream",
     "text": [
      "(50000, 28, 28)\n",
      "(50000, 28, 28, 1)\n"
     ]
    }
   ],
   "source": [
    "x_train, x_valid, x_test = x_train.astype(\"float32\")/255, x_valid.astype(\"float32\")/255, x_test.astype(\"float32\")/255\n",
    "\n",
    "print(x_train.shape)\n",
    "\n",
    "x_train = x_train.reshape(-1, 28, 28, 1)\n",
    "x_valid = x_valid.reshape(-1, 28, 28, 1)\n",
    "x_test = x_test.reshape(-1, 28, 28, 1)\n",
    "\n",
    "print(x_train.shape)"
   ]
  },
  {
   "cell_type": "code",
   "execution_count": 5,
   "id": "04dcfe87-7319-495e-b455-e042879b27ef",
   "metadata": {},
   "outputs": [
    {
     "name": "stdout",
     "output_type": "stream",
     "text": [
      "Model: \"sequential_1\"\n",
      "_________________________________________________________________\n",
      "Layer (type)                 Output Shape              Param #   \n",
      "=================================================================\n",
      "conv2d (Conv2D)              (None, 28, 28, 32)        320       \n",
      "_________________________________________________________________\n",
      "max_pooling2d (MaxPooling2D) (None, 14, 14, 32)        0         \n",
      "_________________________________________________________________\n",
      "conv2d_1 (Conv2D)            (None, 14, 14, 64)        18496     \n",
      "_________________________________________________________________\n",
      "max_pooling2d_1 (MaxPooling2 (None, 7, 7, 64)          0         \n",
      "_________________________________________________________________\n",
      "flatten (Flatten)            (None, 3136)              0         \n",
      "_________________________________________________________________\n",
      "dense_2 (Dense)              (None, 128)               401536    \n",
      "_________________________________________________________________\n",
      "dense_3 (Dense)              (None, 10)                1290      \n",
      "=================================================================\n",
      "Total params: 421,642\n",
      "Trainable params: 421,642\n",
      "Non-trainable params: 0\n",
      "_________________________________________________________________\n"
     ]
    }
   ],
   "source": [
    "cnn = tf.keras.Sequential(\n",
    "    [tf.keras.layers.Conv2D(32, 3, strides=1, padding=\"same\", activation=\"relu\", input_shape=(28, 28, 1)),\n",
    "     tf.keras.layers.MaxPool2D(3, strides=2, padding=\"same\"),\n",
    "     tf.keras.layers.Conv2D(64, 3, strides=1, padding=\"same\", activation=\"relu\"),\n",
    "     tf.keras.layers.MaxPool2D(3, strides=2, padding=\"same\"),\n",
    "     tf.keras.layers.Flatten(),\n",
    "     tf.keras.layers.Dense(128, activation=\"relu\"),\n",
    "     tf.keras.layers.Dense(10, activation=\"softmax\")\n",
    "    ]\n",
    ")\n",
    "\n",
    "cnn.summary()"
   ]
  },
  {
   "cell_type": "code",
   "execution_count": 6,
   "id": "bb2f859c-7a04-43e2-a2f6-36bcd007213c",
   "metadata": {},
   "outputs": [],
   "source": [
    "cnn.compile(loss=\"sparse_categorical_crossentropy\",\n",
    "            optimizer=tf.keras.optimizers.SGD(learning_rate=0.01),\n",
    "            metrics=[\"accuracy\"])"
   ]
  },
  {
   "cell_type": "code",
   "execution_count": 7,
   "id": "0e2c5eb2-e3d9-48cc-8472-0da60813b288",
   "metadata": {},
   "outputs": [
    {
     "name": "stdout",
     "output_type": "stream",
     "text": [
      "Epoch 1/5\n",
      "391/391 [==============================] - 16s 40ms/step - loss: 1.2337 - accuracy: 0.6756 - val_loss: 0.4245 - val_accuracy: 0.8826\n",
      "Epoch 2/5\n",
      "391/391 [==============================] - 16s 40ms/step - loss: 0.3236 - accuracy: 0.9042 - val_loss: 0.2432 - val_accuracy: 0.9299\n",
      "Epoch 3/5\n",
      "391/391 [==============================] - 16s 40ms/step - loss: 0.2089 - accuracy: 0.9374 - val_loss: 0.2036 - val_accuracy: 0.9404\n",
      "Epoch 4/5\n",
      "391/391 [==============================] - 16s 40ms/step - loss: 0.1632 - accuracy: 0.9499 - val_loss: 0.1581 - val_accuracy: 0.9531\n",
      "Epoch 5/5\n",
      "391/391 [==============================] - 16s 40ms/step - loss: 0.1374 - accuracy: 0.9578 - val_loss: 0.1336 - val_accuracy: 0.9580\n"
     ]
    }
   ],
   "source": [
    "result = cnn.fit(x_train, y_train, epochs=5, batch_size=128, validation_data=(x_valid, y_valid))"
   ]
  },
  {
   "cell_type": "code",
   "execution_count": 8,
   "id": "ae6514c5-0ded-4d33-9d4b-56d865797f93",
   "metadata": {},
   "outputs": [
    {
     "name": "stdout",
     "output_type": "stream",
     "text": [
      "313/313 [==============================] - 1s 4ms/step - loss: 0.1208 - accuracy: 0.9591\n",
      "test_loss :  0.12078461050987244\n",
      "test_accuracy :  0.9591000080108643\n"
     ]
    }
   ],
   "source": [
    "test_result = cnn.evaluate(x_test, y_test)\n",
    "print(\"test_loss : \", test_result[0])\n",
    "print(\"test_accuracy : \", test_result[1])"
   ]
  },
  {
   "cell_type": "markdown",
   "id": "c5043471-806e-468b-a687-3b6bd2e4bb8e",
   "metadata": {},
   "source": [
    "## RNN"
   ]
  },
  {
   "cell_type": "code",
   "execution_count": 9,
   "id": "eda2d1db-6543-405f-9029-63f1fef84f24",
   "metadata": {},
   "outputs": [
    {
     "name": "stdout",
     "output_type": "stream",
     "text": [
      "[[0.0], [0.1], [0.2], [0.3]] 0.4\n",
      "[[0.1], [0.2], [0.3], [0.4]] 0.5\n",
      "[[0.2], [0.3], [0.4], [0.5]] 0.6\n",
      "[[0.3], [0.4], [0.5], [0.6]] 0.7\n",
      "[[0.4], [0.5], [0.6], [0.7]] 0.8\n",
      "[[0.5], [0.6], [0.7], [0.8]] 0.9\n",
      "[[0.6], [0.7], [0.8], [0.9]] 1.0\n",
      "[[0.7], [0.8], [0.9], [1.0]] 1.1\n",
      "[[0.8], [0.9], [1.0], [1.1]] 1.2\n",
      "[[0.9], [1.0], [1.1], [1.2]] 1.3\n"
     ]
    }
   ],
   "source": [
    "x = list()\n",
    "y = list()\n",
    "\n",
    "for i in range(10):\n",
    "    lst = list(range(i, i+4))\n",
    "    x.append(list(map(lambda c: [c/10], lst)))\n",
    "    y.append((i+4)/10)\n",
    "\n",
    "X = np.array(x)\n",
    "Y = np.array(y)\n",
    "\n",
    "for i in range(len(x)):\n",
    "    print(x[i], y[i])"
   ]
  },
  {
   "cell_type": "code",
   "execution_count": 12,
   "id": "709a6aba-34dd-47ad-a2f3-fee78dd8951a",
   "metadata": {},
   "outputs": [
    {
     "name": "stdout",
     "output_type": "stream",
     "text": [
      "Model: \"sequential_3\"\n",
      "_________________________________________________________________\n",
      "Layer (type)                 Output Shape              Param #   \n",
      "=================================================================\n",
      "simple_rnn_1 (SimpleRNN)     (None, 10)                120       \n",
      "_________________________________________________________________\n",
      "dense_5 (Dense)              (None, 1)                 11        \n",
      "=================================================================\n",
      "Total params: 131\n",
      "Trainable params: 131\n",
      "Non-trainable params: 0\n",
      "_________________________________________________________________\n"
     ]
    }
   ],
   "source": [
    "rnn = tf.keras.Sequential([\n",
    "    tf.keras.layers.SimpleRNN(units=10, return_sequences=False, input_shape=[4, 1]),  ## [sequence number, feature]\n",
    "    tf.keras.layers.Dense(1)\n",
    "])\n",
    "\n",
    "rnn.summary()"
   ]
  },
  {
   "cell_type": "code",
   "execution_count": 20,
   "id": "8d51f18d-3927-4d71-9a4a-9a1aca92b33a",
   "metadata": {},
   "outputs": [
    {
     "name": "stdout",
     "output_type": "stream",
     "text": [
      "Epoch 1/10\n",
      "1/1 [==============================] - 0s 2ms/step - loss: 0.0117\n",
      "Epoch 2/10\n",
      "1/1 [==============================] - 0s 1ms/step - loss: 0.0112\n",
      "Epoch 3/10\n",
      "1/1 [==============================] - 0s 693us/step - loss: 0.0108\n",
      "Epoch 4/10\n",
      "1/1 [==============================] - 0s 844us/step - loss: 0.0105\n",
      "Epoch 5/10\n",
      "1/1 [==============================] - 0s 1ms/step - loss: 0.0102\n",
      "Epoch 6/10\n",
      "1/1 [==============================] - 0s 1ms/step - loss: 0.0099\n",
      "Epoch 7/10\n",
      "1/1 [==============================] - 0s 1ms/step - loss: 0.0097\n",
      "Epoch 8/10\n",
      "1/1 [==============================] - 0s 1ms/step - loss: 0.0095\n",
      "Epoch 9/10\n",
      "1/1 [==============================] - 0s 1ms/step - loss: 0.0093\n",
      "Epoch 10/10\n",
      "1/1 [==============================] - 0s 2ms/step - loss: 0.0091\n"
     ]
    },
    {
     "data": {
      "text/plain": [
       "<tensorflow.python.keras.callbacks.History at 0x7ff634574bd0>"
      ]
     },
     "execution_count": 20,
     "metadata": {},
     "output_type": "execute_result"
    }
   ],
   "source": [
    "rnn.compile(optimizer=\"SGD\", loss=\"mse\")\n",
    "\n",
    "rnn.fit(X, Y, epochs=10)"
   ]
  },
  {
   "cell_type": "code",
   "execution_count": 21,
   "id": "83e8f7a5-2c84-4ace-a229-ad58ab0e9a9b",
   "metadata": {},
   "outputs": [
    {
     "name": "stdout",
     "output_type": "stream",
     "text": [
      "[[1.33906]]\n",
      "[[-0.0356234]]\n"
     ]
    }
   ],
   "source": [
    "print(rnn.predict(np.array([[[1.5], [1.6], [1.7], [1.8]]])))\n",
    "print(rnn.predict(np.array([[[-0.1], [0.0], [0.1], [0.2]]])))"
   ]
  },
  {
   "cell_type": "markdown",
   "id": "5c3cd5ab-9310-4c5c-8c5e-e3259aff1bdd",
   "metadata": {},
   "source": [
    "## 감성사전"
   ]
  },
  {
   "cell_type": "code",
   "execution_count": 22,
   "id": "6c80e547-3a8c-49ad-8bf4-b2fff6c8f519",
   "metadata": {},
   "outputs": [],
   "source": [
    "max_vocab = 10000\n",
    "maxlen = 500\n",
    "batch_size = 128"
   ]
  },
  {
   "cell_type": "code",
   "execution_count": 23,
   "id": "84230d7a-a341-4c67-8975-7892c4e363c0",
   "metadata": {},
   "outputs": [
    {
     "name": "stdout",
     "output_type": "stream",
     "text": [
      "Downloading data from https://storage.googleapis.com/tensorflow/tf-keras-datasets/imdb.npz\n",
      "17465344/17464789 [==============================] - 2s 0us/step\n"
     ]
    }
   ],
   "source": [
    "(input_train, y_train), (input_test, y_test) = tf.keras.datasets.imdb.load_data(num_words=max_vocab)"
   ]
  },
  {
   "cell_type": "code",
   "execution_count": 24,
   "id": "12ab1a18-a873-4866-80d1-18f377ba354a",
   "metadata": {},
   "outputs": [
    {
     "name": "stdout",
     "output_type": "stream",
     "text": [
      "[1, 14, 22, 16, 43, 530, 973, 1622, 1385, 65, 458, 4468, 66, 3941, 4, 173, 36, 256, 5, 25, 100, 43, 838, 112, 50, 670, 2, 9, 35, 480, 284, 5, 150, 4, 172, 112, 167, 2, 336, 385, 39, 4, 172, 4536, 1111, 17, 546, 38, 13, 447, 4, 192, 50, 16, 6, 147, 2025, 19, 14, 22, 4, 1920, 4613, 469, 4, 22, 71, 87, 12, 16, 43, 530, 38, 76, 15, 13, 1247, 4, 22, 17, 515, 17, 12, 16, 626, 18, 2, 5, 62, 386, 12, 8, 316, 8, 106, 5, 4, 2223, 5244, 16, 480, 66, 3785, 33, 4, 130, 12, 16, 38, 619, 5, 25, 124, 51, 36, 135, 48, 25, 1415, 33, 6, 22, 12, 215, 28, 77, 52, 5, 14, 407, 16, 82, 2, 8, 4, 107, 117, 5952, 15, 256, 4, 2, 7, 3766, 5, 723, 36, 71, 43, 530, 476, 26, 400, 317, 46, 7, 4, 2, 1029, 13, 104, 88, 4, 381, 15, 297, 98, 32, 2071, 56, 26, 141, 6, 194, 7486, 18, 4, 226, 22, 21, 134, 476, 26, 480, 5, 144, 30, 5535, 18, 51, 36, 28, 224, 92, 25, 104, 4, 226, 65, 16, 38, 1334, 88, 12, 16, 283, 5, 16, 4472, 113, 103, 32, 15, 16, 5345, 19, 178, 32]\n"
     ]
    }
   ],
   "source": [
    "print(input_train[0])"
   ]
  },
  {
   "cell_type": "code",
   "execution_count": 26,
   "id": "0a5eb3ab-84c8-40ff-8bf6-7fe30d356b38",
   "metadata": {},
   "outputs": [
    {
     "name": "stdout",
     "output_type": "stream",
     "text": [
      "(25000, 500) (25000, 500)\n",
      "[   0    0    0    0    0    0    0    0    0    0    0    0    0    0\n",
      "    0    0    0    0    0    0    0    0    0    0    0    0    0    0\n",
      "    0    0    0    0    0    0    0    0    0    0    0    0    0    0\n",
      "    0    0    0    0    0    0    0    0    0    0    0    0    0    0\n",
      "    0    0    0    0    0    0    0    0    0    0    0    0    0    0\n",
      "    0    0    0    0    0    0    0    0    0    0    0    0    0    0\n",
      "    0    0    0    0    0    0    0    0    0    0    0    0    0    0\n",
      "    0    0    0    0    0    0    0    0    0    0    0    0    0    0\n",
      "    0    0    0    0    0    0    0    0    0    0    0    0    0    0\n",
      "    0    0    0    0    0    0    0    0    0    0    0    0    0    0\n",
      "    0    0    0    0    0    0    0    0    0    0    0    0    0    0\n",
      "    0    0    0    0    0    0    0    0    0    0    0    0    0    0\n",
      "    0    0    0    0    0    0    0    0    0    0    0    0    0    0\n",
      "    0    0    0    0    0    0    0    0    0    0    0    0    0    0\n",
      "    0    0    0    0    0    0    0    0    0    0    0    0    0    0\n",
      "    0    0    0    0    0    0    0    0    0    0    0    0    0    0\n",
      "    0    0    0    0    0    0    0    0    0    0    0    0    0    0\n",
      "    0    0    0    0    0    0    0    0    0    0    0    0    0    0\n",
      "    0    0    0    0    0    0    0    0    0    0    0    0    0    0\n",
      "    0    0    0    0    0    0    0    0    0    0    0    0    0    0\n",
      "    0    0    1   14   22   16   43  530  973 1622 1385   65  458 4468\n",
      "   66 3941    4  173   36  256    5   25  100   43  838  112   50  670\n",
      "    2    9   35  480  284    5  150    4  172  112  167    2  336  385\n",
      "   39    4  172 4536 1111   17  546   38   13  447    4  192   50   16\n",
      "    6  147 2025   19   14   22    4 1920 4613  469    4   22   71   87\n",
      "   12   16   43  530   38   76   15   13 1247    4   22   17  515   17\n",
      "   12   16  626   18    2    5   62  386   12    8  316    8  106    5\n",
      "    4 2223 5244   16  480   66 3785   33    4  130   12   16   38  619\n",
      "    5   25  124   51   36  135   48   25 1415   33    6   22   12  215\n",
      "   28   77   52    5   14  407   16   82    2    8    4  107  117 5952\n",
      "   15  256    4    2    7 3766    5  723   36   71   43  530  476   26\n",
      "  400  317   46    7    4    2 1029   13  104   88    4  381   15  297\n",
      "   98   32 2071   56   26  141    6  194 7486   18    4  226   22   21\n",
      "  134  476   26  480    5  144   30 5535   18   51   36   28  224   92\n",
      "   25  104    4  226   65   16   38 1334   88   12   16  283    5   16\n",
      " 4472  113  103   32   15   16 5345   19  178   32]\n"
     ]
    }
   ],
   "source": [
    "input_train = tf.keras.preprocessing.sequence.pad_sequences(input_train, maxlen=maxlen)\n",
    "input_test = tf.keras.preprocessing.sequence.pad_sequences(input_test, maxlen=maxlen)\n",
    "\n",
    "print(input_train.shape, input_test.shape)\n",
    "print(input_train[0])"
   ]
  },
  {
   "cell_type": "code",
   "execution_count": 29,
   "id": "157dc318-04e4-4d93-8f9b-078410063ac1",
   "metadata": {},
   "outputs": [
    {
     "name": "stdout",
     "output_type": "stream",
     "text": [
      "Model: \"sequential_6\"\n",
      "_________________________________________________________________\n",
      "Layer (type)                 Output Shape              Param #   \n",
      "=================================================================\n",
      "embedding_2 (Embedding)      (None, None, 100)         1000000   \n",
      "_________________________________________________________________\n",
      "lstm_2 (LSTM)                (None, 32)                17024     \n",
      "_________________________________________________________________\n",
      "dense_6 (Dense)              (None, 1)                 33        \n",
      "=================================================================\n",
      "Total params: 1,017,057\n",
      "Trainable params: 1,017,057\n",
      "Non-trainable params: 0\n",
      "_________________________________________________________________\n"
     ]
    }
   ],
   "source": [
    "model = tf.keras.Sequential()\n",
    "model.add(tf.keras.layers.Embedding(max_vocab, 100))\n",
    "model.add(tf.keras.layers.LSTM(32))\n",
    "model.add(tf.keras.layers.Dense(1, activation=\"sigmoid\"))\n",
    "\n",
    "model.summary()"
   ]
  },
  {
   "cell_type": "code",
   "execution_count": 31,
   "id": "c2da4986-4406-41e9-87e3-4add913fedce",
   "metadata": {},
   "outputs": [
    {
     "name": "stdout",
     "output_type": "stream",
     "text": [
      "Epoch 1/10\n",
      "157/157 [==============================] - 44s 279ms/step - loss: 0.4792 - acc: 0.7819 - val_loss: 0.3588 - val_acc: 0.8518\n",
      "Epoch 2/10\n",
      "157/157 [==============================] - 44s 278ms/step - loss: 0.2861 - acc: 0.8896 - val_loss: 0.4887 - val_acc: 0.8016\n",
      "Epoch 3/10\n",
      "157/157 [==============================] - 43s 274ms/step - loss: 0.2274 - acc: 0.9158 - val_loss: 0.3563 - val_acc: 0.8544\n",
      "Epoch 4/10\n",
      "157/157 [==============================] - 43s 275ms/step - loss: 0.1900 - acc: 0.9301 - val_loss: 0.4366 - val_acc: 0.8436\n",
      "Epoch 5/10\n",
      "157/157 [==============================] - 43s 274ms/step - loss: 0.1670 - acc: 0.9380 - val_loss: 0.3414 - val_acc: 0.8776\n",
      "Epoch 6/10\n",
      "157/157 [==============================] - 43s 275ms/step - loss: 0.1480 - acc: 0.9452 - val_loss: 0.3472 - val_acc: 0.8870\n",
      "Epoch 7/10\n",
      "157/157 [==============================] - 43s 272ms/step - loss: 0.1330 - acc: 0.9515 - val_loss: 0.3287 - val_acc: 0.8778\n",
      "Epoch 8/10\n",
      "157/157 [==============================] - 43s 272ms/step - loss: 0.1150 - acc: 0.9584 - val_loss: 0.3664 - val_acc: 0.8726\n",
      "Epoch 9/10\n",
      "157/157 [==============================] - 43s 272ms/step - loss: 0.1075 - acc: 0.9621 - val_loss: 0.3595 - val_acc: 0.8828\n",
      "Epoch 10/10\n",
      "157/157 [==============================] - 43s 275ms/step - loss: 0.1040 - acc: 0.9634 - val_loss: 0.3952 - val_acc: 0.8798\n"
     ]
    }
   ],
   "source": [
    "model.compile(optimizer=\"rmsprop\", loss=\"binary_crossentropy\", metrics=[\"acc\"])\n",
    "history = model.fit(input_train, y_train, epochs=10, batch_size=128, validation_split=0.2)"
   ]
  },
  {
   "cell_type": "code",
   "execution_count": 33,
   "id": "dac6c0e6-6b5c-43ee-82dc-52746049d901",
   "metadata": {},
   "outputs": [
    {
     "data": {
      "image/png": "[encoded data removed]",
      "text/plain": [
       "<Figure size 432x288 with 1 Axes>"
      ]
     },
     "metadata": {
      "needs_background": "light"
     },
     "output_type": "display_data"
    },
    {
     "data": {
      "image/png": "[encoded data removed]",
      "text/plain": [
       "<Figure size 432x288 with 1 Axes>"
      ]
     },
     "metadata": {
      "needs_background": "light"
     },
     "output_type": "display_data"
    }
   ],
   "source": [
    "acc = history.history[\"acc\"]\n",
    "val_acc = history.history[\"val_acc\"]\n",
    "\n",
    "loss = history.history[\"loss\"]\n",
    "val_loss = history.history[\"val_loss\"]\n",
    "\n",
    "epochs=range(1, len(acc)+1)\n",
    "\n",
    "plt.plot(epochs, acc, \"bo\", label=\"Training acc\")\n",
    "plt.plot(epochs, val_acc, \"b\", label=\"Val acc\")\n",
    "plt.legend()\n",
    "plt.figure()\n",
    "\n",
    "plt.plot(epochs, loss, \"bo\", label=\"Training loss\")\n",
    "plt.plot(epochs, val_acc, \"b\", label=\"Val loss\")\n",
    "plt.legend()\n",
    "\n",
    "plt.show()"
   ]
  },
  {
   "cell_type": "code",
   "execution_count": 37,
   "id": "df19c3ad-8e19-477f-b5f8-be4682a75e96",
   "metadata": {},
   "outputs": [
    {
     "name": "stdout",
     "output_type": "stream",
     "text": [
      "78.08% 확률로 긍정 리뷰입니다.\n",
      "98.70% 확률로 부정 리뷰입니다.\n"
     ]
    }
   ],
   "source": [
    "import re\n",
    "def sentiment_predict(new_sentence):\n",
    "    # 알파벳과 숫자를 제외하고 모두 제거 및 알파벳 소문자화\n",
    "    new_sentence = re.sub('[^0-9a-zA-Z ]', '', new_sentence).lower()\n",
    "    encoded = []\n",
    "    word_to_index = tf.keras.datasets.imdb.get_word_index()\n",
    "\n",
    "    # 띄어쓰기 단위 토큰화 후 정수 인코딩\n",
    "    for word in new_sentence.split():\n",
    "        try :\n",
    "            # 단어 집합의 크기를 10,000으로 제한.\n",
    "            if word_to_index[word] <= 10000:\n",
    "                encoded.append(word_to_index[word]+3)\n",
    "            else:\n",
    "                # 10,000 이상의 숫자는 <unk> 토큰으로 변환.\n",
    "                encoded.append(2)\n",
    "        # 단어 집합에 없는 단어는 <unk> 토큰으로 변환.\n",
    "        except KeyError:\n",
    "            encoded.append(2)\n",
    "\n",
    "    pad_sequence = tf.keras.preprocessing.sequence.pad_sequences([encoded], maxlen=maxlen)\n",
    "    score = float(model.predict(pad_sequence)) # 예측\n",
    "\n",
    "    if(score > 0.5):\n",
    "        print(\"{:.2f}% 확률로 긍정 리뷰입니다.\".format(score * 100))\n",
    "    else:\n",
    "        print(\"{:.2f}% 확률로 부정 리뷰입니다.\".format((1 - score) * 100))\n",
    "        \n",
    "### https://www.imdb.com/title/tt10648342/reviews?sort=userRating&dir=desc&ratingFilter=0\n",
    "### 토르\n",
    "\n",
    "text='''I walked out of the theater stunned. My mind trying so hard to process what I just watched. Everyone else coming out of the theater was also speechless. I wish this movie was 5 hours long because I never wanted it to end! Comedy, action, visually stunning, sensory overload in the best way. I will rewatch this movie 5 more times just so I can try to grasp this incredible plot and put the pieces together of what I just witnessed. Love love love it, another big win in the books for Taika Waititi.'''\n",
    "sentiment_predict(text)\n",
    "\n",
    "text2='''Christian Bale is great, Russell Crowe has a good moment, Hemsworth is good but this movie cannot be saved from a terrible script, bad direction and stupid humour that overstays its welcome.'''\n",
    "sentiment_predict(text2)\n"
   ]
  },
  {
   "cell_type": "code",
   "execution_count": null,
   "id": "8a8247d3-c06d-4b58-8af0-ed49c548e32a",
   "metadata": {},
   "outputs": [],
   "source": []
  }
 ],
 "metadata": {
  "kernelspec": {
   "display_name": "Python 3 (ipykernel)",
   "language": "python",
   "name": "python3"
  },
  "language_info": {
   "codemirror_mode": {
    "name": "ipython",
    "version": 3
   },
   "file_extension": ".py",
   "mimetype": "text/x-python",
   "name": "python",
   "nbconvert_exporter": "python",
   "pygments_lexer": "ipython3",
   "version": "3.7.13"
  }
 },
 "nbformat": 4,
 "nbformat_minor": 5
}
